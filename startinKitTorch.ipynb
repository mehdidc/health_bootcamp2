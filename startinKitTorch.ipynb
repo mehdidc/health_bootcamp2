{
 "metadata": {
  "language": "lua",
  "name": "",
  "signature": "sha256:108157a95f818c0bfe2be57d8f0af123ed522c48df7f5e9ed0efd617c6d9f8ef"
 },
 "nbformat": 3,
 "nbformat_minor": 0,
 "worksheets": [
  {
   "cells": [
    {
     "cell_type": "code",
     "collapsed": false,
     "input": [
      "csv2tensor = require 'csv2tensor'\n",
      "helpers = require 'helpers' -- for get_data_and_column_names and data_overview\n",
      "require 'save_report'\n",
      "require 'itorch'\n",
      "Plot = require 'itorch.Plot'\n",
      "nan_value = -999"
     ],
     "language": "python",
     "metadata": {},
     "outputs": [],
     "prompt_number": 2
    },
    {
     "cell_type": "code",
     "collapsed": false,
     "input": [
      "data_object = helpers.get_data_and_column_names(\"train_torch.csv\")"
     ],
     "language": "python",
     "metadata": {},
     "outputs": [
      {
       "metadata": {},
       "output_type": "pyout",
       "prompt_number": 3,
       "text": [
        "loading data from csv\t\n",
        "<csv>\tparsing file: train_torch.csv\t\n"
       ]
      },
      {
       "metadata": {},
       "output_type": "pyout",
       "prompt_number": 3,
       "text": [
        "<csv>\ttidying up entries\t\n"
       ]
      },
      {
       "metadata": {},
       "output_type": "pyout",
       "prompt_number": 3,
       "text": [
        "<csv>\treturning tidy table\t\n"
       ]
      },
      {
       "metadata": {},
       "output_type": "pyout",
       "prompt_number": 3,
       "text": [
        "creating tensor\t\n"
       ]
      },
      {
       "metadata": {},
       "output_type": "pyout",
       "prompt_number": 3,
       "text": [
        "loading data from csv\t\n",
        "<csv>\tparsing file: train_torch.csv\t\n"
       ]
      },
      {
       "metadata": {},
       "output_type": "pyout",
       "prompt_number": 3,
       "text": [
        "<csv>\ttidying up entries\t\n"
       ]
      },
      {
       "metadata": {},
       "output_type": "pyout",
       "prompt_number": 3,
       "text": [
        "<csv>\treturning tidy table\t\n",
        "creating tensor\t\n"
       ]
      }
     ],
     "prompt_number": 3
    },
    {
     "cell_type": "code",
     "collapsed": false,
     "input": [
      "X, y, column_names = data_object.X, data_object.y, data_object.column_names -- just because it is more convenient"
     ],
     "language": "python",
     "metadata": {},
     "outputs": [],
     "prompt_number": 4
    },
    {
     "cell_type": "code",
     "collapsed": false,
     "input": [
      "require 'dp' -- import a deep learning library of torch"
     ],
     "language": "python",
     "metadata": {},
     "outputs": [],
     "prompt_number": 5
    },
    {
     "cell_type": "code",
     "collapsed": false,
     "input": [
      "itorch.html(helpers.data_overview(X, column_names, 100, 10)) -- display 100 rows and 10 columns"
     ],
     "language": "python",
     "metadata": {},
     "outputs": [
      {
       "html": [
        "<script type=\"text/javascript\">\n",
        "  $(function() {\n",
        "    $(\"#d3c40fd8-8b54-4e08-cecf-70e347496f7d\").html('<table><tr><td><strong>ABPd-0->24-max</strong></td><td><strong>ABPd-0->24-max_mv</strong></td><td><strong>ABPd-0->24-mean</strong></td><td><strong>ABPd-0->24-mean_mv</strong></td><td><strong>ABPd-0->24-min</strong></td><td><strong>ABPd-0->24-min_mv</strong></td><td><strong>ABPd-0->24-std</strong></td><td><strong>ABPd-0->24-std_mv</strong></td><td><strong>ABPm-0->24-max</strong></td><td><strong>ABPm-0->24-max_mv</strong></td></tr><tr><td>90</td><td>0</td><td>53.710526315789</td><td>0</td><td>35</td><td>0</td><td>15.675610070005</td><td>0</td><td>114.67</td><td>0</td></tr><tr><td>57</td><td>0</td><td>47.470588235294</td><td>0</td><td>41</td><td>0</td><td>4.570525777452</td><td>0</td><td>80</td><td>0</td></tr><tr><td>68</td><td>0</td><td>53.904761904762</td><td>0</td><td>44</td><td>0</td><td>6.7372454453193</td><td>0</td><td>81</td><td>0</td></tr><tr><td>89</td><td>0</td><td>66.269230769231</td><td>0</td><td>49</td><td>0</td><td>10.861151660142</td><td>0</td><td>130</td><td>0</td></tr><tr><td>62</td><td>0</td><td>54.5625</td><td>0</td><td>49</td><td>0</td><td>4.1947387681873</td><td>0</td><td>82</td><td>0</td></tr><tr><td>-999</td><td>1</td><td>-999</td><td>1</td><td>-999</td><td>1</td><td>-999</td><td>1</td><td>-999</td><td>1</td></tr><tr><td>71</td><td>0</td><td>57.702127659574</td><td>0</td><td>35</td><td>0</td><td>8.660040399587</td><td>0</td><td>83.33</td><td>0</td></tr><tr><td>54</td><td>0</td><td>45.941176470588</td><td>0</td><td>39</td><td>0</td><td>3.7573457465109</td><td>0</td><td>78</td><td>0</td></tr><tr><td>68</td><td>0</td><td>49.684210526316</td><td>0</td><td>41</td><td>0</td><td>7.9446182453487</td><td>0</td><td>104</td><td>0</td></tr><tr><td>78</td><td>0</td><td>49.452380952381</td><td>0</td><td>22</td><td>0</td><td>13.040653845931</td><td>0</td><td>109.67</td><td>0</td></tr><tr><td>63</td><td>0</td><td>48.1</td><td>0</td><td>29</td><td>0</td><td>10.660935960578</td><td>0</td><td>101</td><td>0</td></tr><tr><td>60</td><td>0</td><td>40.911764705882</td><td>0</td><td>19</td><td>0</td><td>7.4523441382615</td><td>0</td><td>81</td><td>0</td></tr><tr><td>80</td><td>0</td><td>59.371428571429</td><td>0</td><td>33</td><td>0</td><td>9.6439121738435</td><td>0</td><td>98.67</td><td>0</td></tr><tr><td>69</td><td>0</td><td>54.69696969697</td><td>0</td><td>35</td><td>0</td><td>8.5822667769246</td><td>0</td><td>83</td><td>0</td></tr><tr><td>63</td><td>0</td><td>52.055555555556</td><td>0</td><td>36</td><td>0</td><td>7.0500081119872</td><td>0</td><td>121</td><td>0</td></tr><tr><td>86</td><td>0</td><td>58.947368421053</td><td>0</td><td>46</td><td>0</td><td>8.6697025721797</td><td>0</td><td>86</td><td>0</td></tr><tr><td>58</td><td>0</td><td>48.607142857143</td><td>0</td><td>34</td><td>0</td><td>5.8331065715562</td><td>0</td><td>86</td><td>0</td></tr><tr><td>62</td><td>0</td><td>44.785714285714</td><td>0</td><td>32</td><td>0</td><td>9.3029550974394</td><td>0</td><td>87</td><td>0</td></tr><tr><td>64</td><td>0</td><td>43.85</td><td>0</td><td>30</td><td>0</td><td>8.8512562296041</td><td>0</td><td>94.67</td><td>0</td></tr><tr><td>52</td><td>0</td><td>51.666666666667</td><td>0</td><td>51</td><td>0</td><td>0.57735026918963</td><td>0</td><td>68</td><td>0</td></tr><tr><td>69</td><td>0</td><td>55.977272727273</td><td>0</td><td>39</td><td>0</td><td>4.6779474547077</td><td>0</td><td>111</td><td>0</td></tr><tr><td>67</td><td>0</td><td>55.3</td><td>0</td><td>46</td><td>0</td><td>6.9189893621181</td><td>0</td><td>113</td><td>0</td></tr><tr><td>94</td><td>0</td><td>67.08</td><td>0</td><td>39</td><td>0</td><td>15.104966070799</td><td>0</td><td>126</td><td>0</td></tr><tr><td>83</td><td>0</td><td>57.566666666667</td><td>0</td><td>41</td><td>0</td><td>10.912452024884</td><td>0</td><td>101.33</td><td>0</td></tr><tr><td>77</td><td>0</td><td>55.878048780488</td><td>0</td><td>40</td><td>0</td><td>7.906311156131</td><td>0</td><td>109</td><td>0</td></tr><tr><td>106</td><td>0</td><td>66.676470588235</td><td>0</td><td>44</td><td>0</td><td>12.784272032783</td><td>0</td><td>140</td><td>0</td></tr><tr><td>90</td><td>0</td><td>61.125</td><td>0</td><td>27</td><td>0</td><td>17.644792707125</td><td>0</td><td>117</td><td>0</td></tr><tr><td>90</td><td>0</td><td>69.818181818182</td><td>0</td><td>45</td><td>0</td><td>14.19731088494</td><td>0</td><td>105</td><td>0</td></tr><tr><td>69</td><td>0</td><td>56.666666666667</td><td>0</td><td>49</td><td>0</td><td>6.6143782776615</td><td>0</td><td>90</td><td>0</td></tr><tr><td>80</td><td>0</td><td>51.871794871795</td><td>0</td><td>36</td><td>0</td><td>9.5536696922384</td><td>0</td><td>120</td><td>0</td></tr><tr><td>56</td><td>0</td><td>41.8</td><td>0</td><td>32</td><td>0</td><td>6.9301938073113</td><td>0</td><td>73.67</td><td>0</td></tr><tr><td>64</td><td>0</td><td>53.25</td><td>0</td><td>38</td><td>0</td><td>8.4845060024296</td><td>0</td><td>89</td><td>0</td></tr><tr><td>101</td><td>0</td><td>50.666666666667</td><td>0</td><td>28</td><td>0</td><td>20.812891932363</td><td>0</td><td>132</td><td>0</td></tr><tr><td>95</td><td>0</td><td>75.361111111111</td><td>0</td><td>59</td><td>0</td><td>7.0999105739953</td><td>0</td><td>124</td><td>0</td></tr><tr><td>59</td><td>0</td><td>44.571428571429</td><td>0</td><td>29</td><td>0</td><td>7.5739738159753</td><td>0</td><td>86</td><td>0</td></tr><tr><td>73</td><td>0</td><td>56.952380952381</td><td>0</td><td>42</td><td>0</td><td>7.8897160308606</td><td>0</td><td>90.33</td><td>0</td></tr><tr><td>58</td><td>0</td><td>46.131578947368</td><td>0</td><td>33</td><td>0</td><td>5.3229287438888</td><td>0</td><td>87</td><td>0</td></tr><tr><td>68</td><td>0</td><td>54.357142857143</td><td>0</td><td>42</td><td>0</td><td>9.2287772575965</td><td>0</td><td>86</td><td>0</td></tr><tr><td>67</td><td>0</td><td>50</td><td>0</td><td>30</td><td>0</td><td>7.3936910042729</td><td>0</td><td>85</td><td>0</td></tr><tr><td>59</td><td>0</td><td>50.545454545455</td><td>0</td><td>42</td><td>0</td><td>4.9671649129788</td><td>0</td><td>78.67</td><td>0</td></tr><tr><td>90</td><td>0</td><td>48.475409836066</td><td>0</td><td>19</td><td>0</td><td>14.06248740133</td><td>0</td><td>96.67</td><td>0</td></tr><tr><td>74</td><td>0</td><td>47.469387755102</td><td>0</td><td>17</td><td>0</td><td>12.750983688877</td><td>0</td><td>92</td><td>0</td></tr><tr><td>83</td><td>0</td><td>56.404761904762</td><td>0</td><td>29</td><td>0</td><td>13.895181694824</td><td>0</td><td>107</td><td>0</td></tr><tr><td>104</td><td>0</td><td>67.875</td><td>0</td><td>42</td><td>0</td><td>15.246703136145</td><td>0</td><td>140</td><td>0</td></tr><tr><td>61</td><td>0</td><td>39.8125</td><td>0</td><td>22</td><td>0</td><td>8.0419765665397</td><td>0</td><td>133.33</td><td>0</td></tr><tr><td>85</td><td>0</td><td>45.527777777778</td><td>0</td><td>24</td><td>0</td><td>12.255578580761</td><td>0</td><td>94.33</td><td>0</td></tr><tr><td>58</td><td>0</td><td>42.8</td><td>0</td><td>34</td><td>0</td><td>5.9503694466583</td><td>0</td><td>72.67</td><td>0</td></tr><tr><td>92</td><td>0</td><td>56.133333333333</td><td>0</td><td>31</td><td>0</td><td>13.289777342686</td><td>0</td><td>123.33</td><td>0</td></tr><tr><td>55</td><td>0</td><td>46.210526315789</td><td>0</td><td>35</td><td>0</td><td>4.7443410427397</td><td>0</td><td>76</td><td>0</td></tr><tr><td>55</td><td>0</td><td>44.942857142857</td><td>0</td><td>36</td><td>0</td><td>5.0986898959892</td><td>0</td><td>86</td><td>0</td></tr><tr><td>71</td><td>0</td><td>53.375</td><td>0</td><td>40</td><td>0</td><td>8.7566744729998</td><td>0</td><td>89</td><td>0</td></tr><tr><td>109</td><td>0</td><td>72.904761904762</td><td>0</td><td>44</td><td>0</td><td>14.231208446382</td><td>0</td><td>141</td><td>0</td></tr><tr><td>68</td><td>0</td><td>49.468085106383</td><td>0</td><td>38</td><td>0</td><td>6.7239062916348</td><td>0</td><td>99</td><td>0</td></tr><tr><td>94</td><td>0</td><td>62.625</td><td>0</td><td>36</td><td>0</td><td>14.199854561411</td><td>0</td><td>115</td><td>0</td></tr><tr><td>78</td><td>0</td><td>43.943661971831</td><td>0</td><td>15</td><td>0</td><td>13.829458541145</td><td>0</td><td>146</td><td>0</td></tr><tr><td>54</td><td>0</td><td>49.5</td><td>0</td><td>44</td><td>0</td><td>3.5456210417117</td><td>0</td><td>71</td><td>0</td></tr><tr><td>67</td><td>0</td><td>47.033333333333</td><td>0</td><td>25</td><td>0</td><td>9.6041777308137</td><td>0</td><td>95</td><td>0</td></tr><tr><td>52</td><td>0</td><td>38</td><td>0</td><td>24</td><td>0</td><td>11.966620241321</td><td>0</td><td>71</td><td>0</td></tr><tr><td>75</td><td>0</td><td>62.225806451613</td><td>0</td><td>40</td><td>0</td><td>7.8981418802963</td><td>0</td><td>101</td><td>0</td></tr><tr><td>63</td><td>0</td><td>51.923076923077</td><td>0</td><td>39</td><td>0</td><td>5.9861378328473</td><td>0</td><td>84.33</td><td>0</td></tr><tr><td>73</td><td>0</td><td>45.480769230769</td><td>0</td><td>30</td><td>0</td><td>8.1996900577851</td><td>0</td><td>84.67</td><td>0</td></tr><tr><td>77</td><td>0</td><td>53.266666666667</td><td>0</td><td>33</td><td>0</td><td>12.317448608778</td><td>0</td><td>100</td><td>0</td></tr><tr><td>80</td><td>0</td><td>48.538461538462</td><td>0</td><td>34</td><td>0</td><td>10.767353316201</td><td>0</td><td>98.33</td><td>0</td></tr><tr><td>73</td><td>0</td><td>51</td><td>0</td><td>29</td><td>0</td><td>11.61034021896</td><td>0</td><td>103.33</td><td>0</td></tr><tr><td>69</td><td>0</td><td>58.896551724138</td><td>0</td><td>45</td><td>0</td><td>7.364707479334</td><td>0</td><td>86.67</td><td>0</td></tr><tr><td>62</td><td>0</td><td>44.296296296296</td><td>0</td><td>32</td><td>0</td><td>6.7014052189695</td><td>0</td><td>83.67</td><td>0</td></tr><tr><td>59</td><td>0</td><td>43.636363636364</td><td>0</td><td>30</td><td>0</td><td>7.155054520743</td><td>0</td><td>94</td><td>0</td></tr><tr><td>54</td><td>0</td><td>41.96</td><td>0</td><td>38</td><td>0</td><td>3.8240467221692</td><td>0</td><td>75</td><td>0</td></tr><tr><td>63</td><td>0</td><td>45.25</td><td>0</td><td>28</td><td>0</td><td>8.7712704430536</td><td>0</td><td>82</td><td>0</td></tr><tr><td>62</td><td>0</td><td>47.411764705882</td><td>0</td><td>38</td><td>0</td><td>6.1038801545555</td><td>0</td><td>83</td><td>0</td></tr><tr><td>75</td><td>0</td><td>68.35</td><td>0</td><td>59</td><td>0</td><td>4.0558599581346</td><td>0</td><td>99</td><td>0</td></tr><tr><td>91</td><td>0</td><td>45.337837837838</td><td>0</td><td>30</td><td>0</td><td>7.8028393620739</td><td>0</td><td>109.67</td><td>0</td></tr><tr><td>73</td><td>0</td><td>51.807692307692</td><td>0</td><td>37</td><td>0</td><td>9.6706534661076</td><td>0</td><td>85</td><td>0</td></tr><tr><td>91</td><td>0</td><td>64.04</td><td>0</td><td>45</td><td>0</td><td>10.776053699446</td><td>0</td><td>114.33</td><td>0</td></tr><tr><td>75</td><td>0</td><td>59.44262295082</td><td>0</td><td>47</td><td>0</td><td>8.800614732627</td><td>0</td><td>101</td><td>0</td></tr><tr><td>54</td><td>0</td><td>31.538461538462</td><td>0</td><td>12</td><td>0</td><td>8.2715452932606</td><td>0</td><td>68.67</td><td>0</td></tr><tr><td>74</td><td>0</td><td>58.260869565217</td><td>0</td><td>41</td><td>0</td><td>9.3770386452729</td><td>0</td><td>88.67</td><td>0</td></tr><tr><td>68</td><td>0</td><td>51.04347826087</td><td>0</td><td>44</td><td>0</td><td>6.2046775674015</td><td>0</td><td>89</td><td>0</td></tr><tr><td>74</td><td>0</td><td>53.566666666667</td><td>0</td><td>36</td><td>0</td><td>10.009248596736</td><td>0</td><td>88</td><td>0</td></tr><tr><td>86</td><td>0</td><td>59.625</td><td>0</td><td>41</td><td>0</td><td>12.954141523416</td><td>0</td><td>100.33333333333</td><td>0</td></tr><tr><td>84</td><td>0</td><td>71.515151515152</td><td>0</td><td>61</td><td>0</td><td>6.0317970587194</td><td>0</td><td>105.33</td><td>0</td></tr><tr><td>103</td><td>0</td><td>50.038461538462</td><td>0</td><td>15</td><td>0</td><td>13.444644344067</td><td>0</td><td>113.33</td><td>0</td></tr><tr><td>84</td><td>0</td><td>47.458333333333</td><td>0</td><td>34</td><td>0</td><td>9.3992560606015</td><td>0</td><td>93</td><td>0</td></tr><tr><td>83</td><td>0</td><td>47.4375</td><td>0</td><td>29</td><td>0</td><td>13.544106435972</td><td>0</td><td>104</td><td>0</td></tr><tr><td>62</td><td>0</td><td>43.5</td><td>0</td><td>31</td><td>0</td><td>7.167984374983</td><td>0</td><td>107</td><td>0</td></tr><tr><td>73</td><td>0</td><td>62.75</td><td>0</td><td>51</td><td>0</td><td>5.2523286760959</td><td>0</td><td>94.67</td><td>0</td></tr><tr><td>72</td><td>0</td><td>56.058823529412</td><td>0</td><td>38</td><td>0</td><td>7.4201633088101</td><td>0</td><td>109</td><td>0</td></tr><tr><td>96</td><td>0</td><td>56.852941176471</td><td>0</td><td>16</td><td>0</td><td>14.414076354312</td><td>0</td><td>113</td><td>0</td></tr><tr><td>61</td><td>0</td><td>54.333333333333</td><td>0</td><td>43</td><td>0</td><td>6.3770421565697</td><td>0</td><td>79</td><td>0</td></tr><tr><td>72</td><td>0</td><td>55.522727272727</td><td>0</td><td>43</td><td>0</td><td>7.3973239547374</td><td>0</td><td>104</td><td>0</td></tr><tr><td>85</td><td>0</td><td>54.72972972973</td><td>0</td><td>23</td><td>0</td><td>11.295644806366</td><td>0</td><td>94</td><td>0</td></tr><tr><td>74</td><td>0</td><td>48.681818181818</td><td>0</td><td>26</td><td>0</td><td>11.285837579468</td><td>0</td><td>86.67</td><td>0</td></tr><tr><td>-999</td><td>1</td><td>-999</td><td>1</td><td>-999</td><td>1</td><td>-999</td><td>1</td><td>-999</td><td>1</td></tr><tr><td>61</td><td>0</td><td>50.9</td><td>0</td><td>32</td><td>0</td><td>7.3405865246802</td><td>0</td><td>78</td><td>0</td></tr><tr><td>80</td><td>0</td><td>46.727272727273</td><td>0</td><td>26</td><td>0</td><td>8.1735922943133</td><td>0</td><td>88</td><td>0</td></tr><tr><td>71</td><td>0</td><td>49.411764705882</td><td>0</td><td>33</td><td>0</td><td>11.006014398554</td><td>0</td><td>98</td><td>0</td></tr><tr><td>94</td><td>0</td><td>41.461538461538</td><td>0</td><td>29</td><td>0</td><td>13.446875530712</td><td>0</td><td>105</td><td>0</td></tr><tr><td>102</td><td>0</td><td>80.909090909091</td><td>0</td><td>67</td><td>0</td><td>8.2399092164965</td><td>0</td><td>111</td><td>0</td></tr><tr><td>64</td><td>0</td><td>39.633333333333</td><td>0</td><td>16</td><td>0</td><td>10.270424002708</td><td>0</td><td>80.67</td><td>0</td></tr><tr><td>97</td><td>0</td><td>58.44</td><td>0</td><td>25</td><td>0</td><td>21.109002818703</td><td>0</td><td>114</td><td>0</td></tr>'); // clear any previous plot in window_id     \n",
        "  });\n",
        "</script>\n",
        "<div id=\"d3c40fd8-8b54-4e08-cecf-70e347496f7d\"></div>\n"
       ],
       "metadata": {},
       "output_type": "display_data"
      }
     ],
     "prompt_number": 6
    },
    {
     "cell_type": "code",
     "collapsed": false,
     "input": [
      "-- 0 = negative, 1 = positive\n",
      "pos_ratio = 100 * ( torch.sum(torch.Tensor.eq(y, 1)) / y:size(1))\n",
      "neg_ratio = 100 - pos_ratio\n",
      "print(\"Per. of positives : \" .. pos_ratio .. \"%\")\n",
      "print(\"Per. of negatives : \" .. neg_ratio .. \"%\")"
     ],
     "language": "python",
     "metadata": {},
     "outputs": [
      {
       "metadata": {},
       "output_type": "pyout",
       "prompt_number": 6,
       "text": [
        "Per. of positives : 28.546409807356%\t\n",
        "Per. of negatives : 71.453590192644%\t\n"
       ]
      }
     ],
     "prompt_number": 6
    },
    {
     "cell_type": "code",
     "collapsed": false,
     "input": [
      "-- either set col_index or col_name to get the histogram of a given column\n",
      "\n",
      "col_index = 3\n",
      "col_name = nil\n",
      "\n",
      "\n",
      "if col_index == nil then\n",
      "    for i in 1, #column_names do\n",
      "        if column_names[i] == col_name then\n",
      "            col_index = i\n",
      "            break\n",
      "        end\n",
      "    end\n",
      "end\n",
      "\n",
      "if col_name == nil then\n",
      "    col_name = column_names[col_index]\n",
      "end\n",
      "\n",
      "\n",
      "col_view = X:select(2, col_index)\n",
      "col_view = col_view[torch.ne(col_view, nan_value)] -- filter nan values\n",
      "plot = Plot():histogram(col_view)\n",
      "plot:title(col_name):redraw()\n",
      "plot:xaxis('value'):yaxis('freq'):redraw()\n",
      "plot:redraw()"
     ],
     "language": "python",
     "metadata": {},
     "outputs": [
      {
       "html": [
        "<script type=\"text/javascript\">\n",
        "$(function() {\n",
        "    if (typeof (window._bokeh_onload_callbacks) === \"undefined\"){\n",
        "  window._bokeh_onload_callbacks = [];\n",
        "    }\n",
        "    function load_lib(url, callback){\n",
        "  window._bokeh_onload_callbacks.push(callback);\n",
        "  if (window._bokeh_is_loading){\n",
        "      console.log(\"Bokeh: BokehJS is being loaded, scheduling callback at\", new Date());\n",
        "      return null;\n",
        "  }\n",
        "  console.log(\"Bokeh: BokehJS not loaded, scheduling load and callback at\", new Date());\n",
        "  window._bokeh_is_loading = true;\n",
        "  var s = document.createElement('script');\n",
        "  s.src = url;\n",
        "  s.async = true;\n",
        "  s.onreadystatechange = s.onload = function(){\n",
        "      Bokeh.embed.inject_css(\"http://cdn.pydata.org/bokeh-0.7.0.min.css\");\n",
        "      window._bokeh_onload_callbacks.forEach(function(callback){callback()});\n",
        "  };\n",
        "  s.onerror = function(){\n",
        "      console.warn(\"failed to load library \" + url);\n",
        "  };\n",
        "  document.getElementsByTagName(\"head\")[0].appendChild(s);\n",
        "    }\n",
        "\n",
        "    bokehjs_url = \"http://cdn.pydata.org/bokeh-0.7.0.min.js\"\n",
        "\n",
        "    var elt = document.getElementById(\"a49f8f88-172c-43fc-c36e-1e4be944b303\");\n",
        "    if(elt==null) {\n",
        "  console.log(\"Bokeh: ERROR: autoload.js configured with elementid 'a49f8f88-172c-43fc-c36e-1e4be944b303'\"\n",
        "        + \"but no matching script tag was found. \")\n",
        "  return false;\n",
        "    }\n",
        "\n",
        "    if(typeof(Bokeh) !== \"undefined\") {\n",
        "  console.log(\"Bokeh: BokehJS loaded, going straight to plotting\");\n",
        "  var modelid = \"598729a1-0cf7-497a-c946-bb2b6c2bb0b4\";\n",
        "  var modeltype = \"Plot\";\n",
        "  var all_models = [{\"type\":\"ColumnDataSource\",\"attributes\":{\"cont_ranges\":{},\"column_names\":[\"y1\",\"x1\",\"y0\",\"x0\"],\"data\":{\"y1\":[17,0,0,0,0,0,0,0,0,0,0,0,0,0,0,0,0,0,0,0,0,0,0,0,0,0,0,0,0,0,0,1,0,1,2,3,2,6,7,7,13,12,5,19,15,22,22,23,38,41,42,39,58,62,73,76,89,80,70,68,81,70,63,56,60,43,49,58,40,36,38,18,23,19,17,19,12,15,8,7,14,11,8,6,4,6,1,3,5,2,2,1,0,1,1,0,1,0,1,1],\"x1\":[-0.10744186046512,0.79413201785295,1.695705896171,2.5972797744891,3.4988536528071,4.4004275311252,5.3020014094433,6.2035752877613,7.1051491660794,8.0067230443975,8.9082969227155,9.8098708010336,10.711444679352,11.61301855767,12.514592435988,13.416166314306,14.317740192624,15.219314070942,16.12088794926,17.022461827578,17.924035705896,18.825609584214,19.727183462532,20.62875734085,21.530331219168,22.431905097486,23.333478975805,24.235052854123,25.136626732441,26.038200610759,26.939774489077,27.841348367395,28.742922245713,29.644496124031,30.546070002349,31.447643880667,32.349217758985,33.250791637303,34.152365515621,35.053939393939,35.955513272257,36.857087150576,37.758661028894,38.660234907212,39.56180878553,40.463382663848,41.364956542166,42.266530420484,43.168104298802,44.06967817712,44.971252055438,45.872825933756,46.774399812074,47.675973690392,48.57754756871,49.479121447028,50.380695325346,51.282269203665,52.183843081983,53.085416960301,53.986990838619,54.888564716937,55.790138595255,56.691712473573,57.593286351891,58.494860230209,59.396434108527,60.298007986845,61.199581865163,62.101155743481,63.002729621799,63.904303500117,64.805877378436,65.707451256754,66.609025135072,67.51059901339,68.412172891708,69.313746770026,70.215320648344,71.116894526662,72.01846840498,72.920042283298,73.821616161616,74.723190039934,75.624763918252,76.52633779657,77.427911674888,78.329485553206,79.231059431525,80.132633309843,81.034207188161,81.935781066479,82.837354944797,83.738928823115,84.640502701433,85.542076579751,86.443650458069,87.345224336387,88.246798214705,89.148372093023],\"y0\":[0,0,0,0,0,0,0,0,0,0,0,0,0,0,0,0,0,0,0,0,0,0,0,0,0,0,0,0,0,0,0,0,0,0,0,0,0,0,0,0,0,0,0,0,0,0,0,0,0,0,0,0,0,0,0,0,0,0,0,0,0,0,0,0,0,0,0,0,0,0,0,0,0,0,0,0,0,0,0,0,0,0,0,0,0,0,0,0,0,0,0,0,0,0,0,0,0,0,0,0],\"x0\":[-1,-0.098426121681936,0.80314775663613,1.7047216349542,2.6062955132723,3.5078693915903,4.4094432699084,5.3110171482265,6.2125910265445,7.1141649048626,8.0157387831806,8.9173126614987,9.8188865398168,10.720460418135,11.622034296453,12.523608174771,13.425182053089,14.326755931407,15.228329809725,16.129903688043,17.031477566361,17.933051444679,18.834625322997,19.736199201315,20.637773079634,21.539346957952,22.44092083627,23.342494714588,24.244068592906,25.145642471224,26.047216349542,26.94879022786,27.850364106178,28.751937984496,29.653511862814,30.555085741132,31.45665961945,32.358233497768,33.259807376086,34.161381254405,35.062955132723,35.964529011041,36.866102889359,37.767676767677,38.669250645995,39.570824524313,40.472398402631,41.373972280949,42.275546159267,43.177120037585,44.078693915903,44.980267794221,45.881841672539,46.783415550857,47.684989429175,48.586563307494,49.488137185812,50.38971106413,51.291284942448,52.192858820766,53.094432699084,53.996006577402,54.89758045572,55.799154334038,56.700728212356,57.602302090674,58.503875968992,59.40544984731,60.307023725628,61.208597603946,62.110171482265,63.011745360583,63.913319238901,64.814893117219,65.716466995537,66.618040873855,67.519614752173,68.421188630491,69.322762508809,70.224336387127,71.125910265445,72.027484143763,72.929058022081,73.830631900399,74.732205778717,75.633779657035,76.535353535354,77.436927413672,78.33850129199,79.240075170308,80.141649048626,81.043222926944,81.944796805262,82.84637068358,83.747944561898,84.649518440216,85.551092318534,86.452666196852,87.35424007517,88.255813953488]},\"selected\":[],\"tags\":[],\"doc\":null,\"discrete_ranges\":{},\"id\":\"294bc1d6-012f-4c1b-ccc7-8ff65da8cfb9\"},\"id\":\"294bc1d6-012f-4c1b-ccc7-8ff65da8cfb9\"},{\"type\":\"Quad\",\"attributes\":{\"right\":{\"units\":\"data\",\"field\":\"x1\"},\"bottom\":{\"units\":\"data\",\"field\":\"y0\"},\"id\":\"8065d0d8-e099-4afe-ca1c-cd2fa32b7fc2\",\"doc\":null,\"fill_color\":{\"value\":\"red\"},\"left\":{\"units\":\"data\",\"field\":\"x0\"},\"fill_alpha\":{\"units\":\"data\",\"value\":0.7},\"line_alpha\":{\"units\":\"data\",\"value\":1},\"tags\":[],\"line_color\":{\"value\":\"red\"},\"top\":{\"units\":\"data\",\"field\":\"y1\"}},\"id\":\"8065d0d8-e099-4afe-ca1c-cd2fa32b7fc2\"},{\"type\":\"Quad\",\"attributes\":{\"right\":{\"units\":\"data\",\"field\":\"x1\"},\"bottom\":{\"units\":\"data\",\"field\":\"y0\"},\"id\":\"b8bff12f-b404-43d6-c3ca-4404aedee39e\",\"doc\":null,\"fill_color\":{\"value\":\"red\"},\"left\":{\"units\":\"data\",\"field\":\"x0\"},\"fill_alpha\":{\"units\":\"data\",\"value\":0.7},\"line_alpha\":{\"units\":\"data\",\"value\":1},\"tags\":[],\"line_color\":{\"value\":\"red\"},\"top\":{\"units\":\"data\",\"field\":\"y1\"}},\"id\":\"b8bff12f-b404-43d6-c3ca-4404aedee39e\"},{\"type\":\"GlyphRenderer\",\"attributes\":{\"data_source\":{\"type\":\"ColumnDataSource\",\"id\":\"294bc1d6-012f-4c1b-ccc7-8ff65da8cfb9\"},\"id\":\"90ac4a97-417d-4903-c98b-ed9a675d4918\",\"server_data_source\":null,\"doc\":null,\"nonselection_glyph\":{\"type\":\"Quad\",\"id\":\"b8bff12f-b404-43d6-c3ca-4404aedee39e\"},\"glyph\":{\"type\":\"Quad\",\"id\":\"8065d0d8-e099-4afe-ca1c-cd2fa32b7fc2\"},\"tags\":[],\"name\":null,\"selection_glyph\":null},\"id\":\"90ac4a97-417d-4903-c98b-ed9a675d4918\"},{\"type\":\"DataRange1d\",\"attributes\":{\"tags\":[],\"doc\":null,\"sources\":[{\"source\":{\"type\":\"ColumnDataSource\",\"id\":\"294bc1d6-012f-4c1b-ccc7-8ff65da8cfb9\"},\"columns\":[\"x1\",\"x0\"]}],\"id\":\"50ab886e-2ffc-4562-c531-022fe52b2fa8\"},\"id\":\"50ab886e-2ffc-4562-c531-022fe52b2fa8\"},{\"type\":\"DataRange1d\",\"attributes\":{\"tags\":[],\"doc\":null,\"sources\":[{\"source\":{\"type\":\"ColumnDataSource\",\"id\":\"294bc1d6-012f-4c1b-ccc7-8ff65da8cfb9\"},\"columns\":[\"y1\",\"y0\"]}],\"id\":\"22748664-18c5-491a-c983-aa6519a2cf3d\"},\"id\":\"22748664-18c5-491a-c983-aa6519a2cf3d\"},{\"type\":\"ToolEvents\",\"attributes\":{\"tags\":[],\"doc\":null,\"geometries\":[],\"id\":\"dfc5d210-21c2-4941-c9e8-e315d3e43f11\"},\"id\":\"dfc5d210-21c2-4941-c9e8-e315d3e43f11\"},{\"type\":\"BasicTickFormatter\",\"attributes\":{\"tags\":[],\"doc\":null,\"id\":\"dbcc3eaa-b727-47b6-c720-42663355dce0\"},\"id\":\"dbcc3eaa-b727-47b6-c720-42663355dce0\"},{\"type\":\"BasicTicker\",\"attributes\":{\"tags\":[],\"doc\":null,\"num_minor_ticks\":5,\"id\":\"5009ef23-82c9-4a61-ca83-74682f17fda2\"},\"id\":\"5009ef23-82c9-4a61-ca83-74682f17fda2\"},{\"type\":\"LinearAxis\",\"attributes\":{\"plot\":{\"type\":\"Plot\",\"subtype\":\"Figure\",\"id\":\"598729a1-0cf7-497a-c946-bb2b6c2bb0b4\"},\"ticker\":{\"type\":\"BasicTicker\",\"id\":\"5009ef23-82c9-4a61-ca83-74682f17fda2\"},\"id\":\"cb31dc76-94d6-465b-c6f7-be2f9280a00e\",\"tags\":[],\"doc\":null,\"formatter\":{\"type\":\"BasicTickFormatter\",\"id\":\"dbcc3eaa-b727-47b6-c720-42663355dce0\"},\"axis_label\":null},\"id\":\"cb31dc76-94d6-465b-c6f7-be2f9280a00e\"},{\"type\":\"Grid\",\"attributes\":{\"plot\":{\"type\":\"Plot\",\"subtype\":\"Figure\",\"id\":\"598729a1-0cf7-497a-c946-bb2b6c2bb0b4\"},\"id\":\"2ce6d563-645b-437e-c3e5-955c0880629e\",\"tags\":[],\"doc\":null,\"ticker\":{\"type\":\"BasicTicker\",\"id\":\"5009ef23-82c9-4a61-ca83-74682f17fda2\"},\"dimension\":0},\"id\":\"2ce6d563-645b-437e-c3e5-955c0880629e\"},{\"type\":\"BasicTickFormatter\",\"attributes\":{\"tags\":[],\"doc\":null,\"id\":\"ae9bdc2a-8636-481f-c89f-c93e65dd2be2\"},\"id\":\"ae9bdc2a-8636-481f-c89f-c93e65dd2be2\"},{\"type\":\"BasicTicker\",\"attributes\":{\"tags\":[],\"doc\":null,\"num_minor_ticks\":5,\"id\":\"6ea307e2-93aa-4cdd-cc53-0fe234bdd645\"},\"id\":\"6ea307e2-93aa-4cdd-cc53-0fe234bdd645\"},{\"type\":\"LinearAxis\",\"attributes\":{\"plot\":{\"type\":\"Plot\",\"subtype\":\"Figure\",\"id\":\"598729a1-0cf7-497a-c946-bb2b6c2bb0b4\"},\"ticker\":{\"type\":\"BasicTicker\",\"id\":\"6ea307e2-93aa-4cdd-cc53-0fe234bdd645\"},\"id\":\"16ca4d4e-69df-4fa1-cf2a-9b4b1287e209\",\"tags\":[],\"doc\":null,\"formatter\":{\"type\":\"BasicTickFormatter\",\"id\":\"ae9bdc2a-8636-481f-c89f-c93e65dd2be2\"},\"axis_label\":null},\"id\":\"16ca4d4e-69df-4fa1-cf2a-9b4b1287e209\"},{\"type\":\"Grid\",\"attributes\":{\"plot\":{\"type\":\"Plot\",\"subtype\":\"Figure\",\"id\":\"598729a1-0cf7-497a-c946-bb2b6c2bb0b4\"},\"id\":\"bc15cc70-ce9e-41f7-c15e-cf43818825f6\",\"tags\":[],\"doc\":null,\"ticker\":{\"type\":\"BasicTicker\",\"id\":\"6ea307e2-93aa-4cdd-cc53-0fe234bdd645\"},\"dimension\":1},\"id\":\"bc15cc70-ce9e-41f7-c15e-cf43818825f6\"},{\"type\":\"PanTool\",\"attributes\":{\"plot\":{\"type\":\"Plot\",\"subtype\":\"Figure\",\"id\":\"598729a1-0cf7-497a-c946-bb2b6c2bb0b4\"},\"id\":\"f58a716c-0919-4ed1-ce81-4532f5591c71\",\"tags\":[],\"doc\":null,\"dimensions\":[\"width\",\"height\"]},\"id\":\"f58a716c-0919-4ed1-ce81-4532f5591c71\"},{\"type\":\"WheelZoomTool\",\"attributes\":{\"plot\":{\"type\":\"Plot\",\"subtype\":\"Figure\",\"id\":\"598729a1-0cf7-497a-c946-bb2b6c2bb0b4\"},\"id\":\"7d0e3034-00f9-433f-c303-8ee9f15f43eb\",\"tags\":[],\"doc\":null,\"dimensions\":[\"width\",\"height\"]},\"id\":\"7d0e3034-00f9-433f-c303-8ee9f15f43eb\"},{\"type\":\"BoxZoomTool\",\"attributes\":{\"tags\":[],\"doc\":null,\"plot\":{\"type\":\"Plot\",\"subtype\":\"Figure\",\"id\":\"598729a1-0cf7-497a-c946-bb2b6c2bb0b4\"},\"id\":\"3f6751a2-733b-4934-c931-1d1d86374e94\"},\"id\":\"3f6751a2-733b-4934-c931-1d1d86374e94\"},{\"type\":\"PreviewSaveTool\",\"attributes\":{\"tags\":[],\"doc\":null,\"plot\":{\"type\":\"Plot\",\"subtype\":\"Figure\",\"id\":\"598729a1-0cf7-497a-c946-bb2b6c2bb0b4\"},\"id\":\"916b9db1-7745-489e-c89f-1f690cc20823\"},\"id\":\"916b9db1-7745-489e-c89f-1f690cc20823\"},{\"type\":\"ResizeTool\",\"attributes\":{\"tags\":[],\"doc\":null,\"plot\":{\"type\":\"Plot\",\"subtype\":\"Figure\",\"id\":\"598729a1-0cf7-497a-c946-bb2b6c2bb0b4\"},\"id\":\"1abaa17f-bd72-4876-c83c-1f031df8990d\"},\"id\":\"1abaa17f-bd72-4876-c83c-1f031df8990d\"},{\"type\":\"ResetTool\",\"attributes\":{\"tags\":[],\"doc\":null,\"plot\":{\"type\":\"Plot\",\"subtype\":\"Figure\",\"id\":\"598729a1-0cf7-497a-c946-bb2b6c2bb0b4\"},\"id\":\"6b9474d1-8d60-4850-c806-e7a23f5fff7f\"},\"id\":\"6b9474d1-8d60-4850-c806-e7a23f5fff7f\"},{\"type\":\"Plot\",\"attributes\":{\"right\":[],\"extra_y_ranges\":{},\"x_range\":{\"type\":\"DataRange1d\",\"id\":\"50ab886e-2ffc-4562-c531-022fe52b2fa8\"},\"id\":\"598729a1-0cf7-497a-c946-bb2b6c2bb0b4\",\"doc\":null,\"title\":\"ABPd-0->24-mean\",\"renderers\":[{\"type\":\"GlyphRenderer\",\"id\":\"90ac4a97-417d-4903-c98b-ed9a675d4918\"},{\"type\":\"LinearAxis\",\"id\":\"cb31dc76-94d6-465b-c6f7-be2f9280a00e\"},{\"type\":\"Grid\",\"id\":\"2ce6d563-645b-437e-c3e5-955c0880629e\"},{\"type\":\"LinearAxis\",\"id\":\"16ca4d4e-69df-4fa1-cf2a-9b4b1287e209\"},{\"type\":\"Grid\",\"id\":\"bc15cc70-ce9e-41f7-c15e-cf43818825f6\"}],\"tools\":[{\"type\":\"PanTool\",\"id\":\"f58a716c-0919-4ed1-ce81-4532f5591c71\"},{\"type\":\"WheelZoomTool\",\"id\":\"7d0e3034-00f9-433f-c303-8ee9f15f43eb\"},{\"type\":\"BoxZoomTool\",\"id\":\"3f6751a2-733b-4934-c931-1d1d86374e94\"},{\"type\":\"PreviewSaveTool\",\"id\":\"916b9db1-7745-489e-c89f-1f690cc20823\"},{\"type\":\"ResizeTool\",\"id\":\"1abaa17f-bd72-4876-c83c-1f031df8990d\"},{\"type\":\"ResetTool\",\"id\":\"6b9474d1-8d60-4850-c806-e7a23f5fff7f\"}],\"left\":[{\"type\":\"LinearAxis\",\"id\":\"16ca4d4e-69df-4fa1-cf2a-9b4b1287e209\"}],\"above\":[],\"extra_x_ranges\":{},\"tags\":[],\"tool_events\":{\"type\":\"ToolEvents\",\"id\":\"dfc5d210-21c2-4941-c9e8-e315d3e43f11\"},\"y_range\":{\"type\":\"DataRange1d\",\"id\":\"22748664-18c5-491a-c983-aa6519a2cf3d\"},\"below\":[{\"type\":\"LinearAxis\",\"id\":\"cb31dc76-94d6-465b-c6f7-be2f9280a00e\"}]},\"id\":\"598729a1-0cf7-497a-c946-bb2b6c2bb0b4\"}];\n",
        "  Bokeh.load_models(all_models);\n",
        "  var model = Bokeh.Collections(modeltype).get(modelid);\n",
        "  $(\"#a49f8f88-172c-43fc-c36e-1e4be944b303\").html(''); // clear any previous plot in window_id\n",
        "  var view = new model.default_view({model: model, el: \"#a49f8f88-172c-43fc-c36e-1e4be944b303\"});\n",
        "    } else {\n",
        "  load_lib(bokehjs_url, function() {\n",
        "      console.log(\"Bokeh: BokehJS plotting callback run at\", new Date())\n",
        "      var modelid = \"598729a1-0cf7-497a-c946-bb2b6c2bb0b4\";\n",
        "      var modeltype = \"Plot\";\n",
        "      var all_models = [{\"type\":\"ColumnDataSource\",\"attributes\":{\"cont_ranges\":{},\"column_names\":[\"y1\",\"x1\",\"y0\",\"x0\"],\"data\":{\"y1\":[17,0,0,0,0,0,0,0,0,0,0,0,0,0,0,0,0,0,0,0,0,0,0,0,0,0,0,0,0,0,0,1,0,1,2,3,2,6,7,7,13,12,5,19,15,22,22,23,38,41,42,39,58,62,73,76,89,80,70,68,81,70,63,56,60,43,49,58,40,36,38,18,23,19,17,19,12,15,8,7,14,11,8,6,4,6,1,3,5,2,2,1,0,1,1,0,1,0,1,1],\"x1\":[-0.10744186046512,0.79413201785295,1.695705896171,2.5972797744891,3.4988536528071,4.4004275311252,5.3020014094433,6.2035752877613,7.1051491660794,8.0067230443975,8.9082969227155,9.8098708010336,10.711444679352,11.61301855767,12.514592435988,13.416166314306,14.317740192624,15.219314070942,16.12088794926,17.022461827578,17.924035705896,18.825609584214,19.727183462532,20.62875734085,21.530331219168,22.431905097486,23.333478975805,24.235052854123,25.136626732441,26.038200610759,26.939774489077,27.841348367395,28.742922245713,29.644496124031,30.546070002349,31.447643880667,32.349217758985,33.250791637303,34.152365515621,35.053939393939,35.955513272257,36.857087150576,37.758661028894,38.660234907212,39.56180878553,40.463382663848,41.364956542166,42.266530420484,43.168104298802,44.06967817712,44.971252055438,45.872825933756,46.774399812074,47.675973690392,48.57754756871,49.479121447028,50.380695325346,51.282269203665,52.183843081983,53.085416960301,53.986990838619,54.888564716937,55.790138595255,56.691712473573,57.593286351891,58.494860230209,59.396434108527,60.298007986845,61.199581865163,62.101155743481,63.002729621799,63.904303500117,64.805877378436,65.707451256754,66.609025135072,67.51059901339,68.412172891708,69.313746770026,70.215320648344,71.116894526662,72.01846840498,72.920042283298,73.821616161616,74.723190039934,75.624763918252,76.52633779657,77.427911674888,78.329485553206,79.231059431525,80.132633309843,81.034207188161,81.935781066479,82.837354944797,83.738928823115,84.640502701433,85.542076579751,86.443650458069,87.345224336387,88.246798214705,89.148372093023],\"y0\":[0,0,0,0,0,0,0,0,0,0,0,0,0,0,0,0,0,0,0,0,0,0,0,0,0,0,0,0,0,0,0,0,0,0,0,0,0,0,0,0,0,0,0,0,0,0,0,0,0,0,0,0,0,0,0,0,0,0,0,0,0,0,0,0,0,0,0,0,0,0,0,0,0,0,0,0,0,0,0,0,0,0,0,0,0,0,0,0,0,0,0,0,0,0,0,0,0,0,0,0],\"x0\":[-1,-0.098426121681936,0.80314775663613,1.7047216349542,2.6062955132723,3.5078693915903,4.4094432699084,5.3110171482265,6.2125910265445,7.1141649048626,8.0157387831806,8.9173126614987,9.8188865398168,10.720460418135,11.622034296453,12.523608174771,13.425182053089,14.326755931407,15.228329809725,16.129903688043,17.031477566361,17.933051444679,18.834625322997,19.736199201315,20.637773079634,21.539346957952,22.44092083627,23.342494714588,24.244068592906,25.145642471224,26.047216349542,26.94879022786,27.850364106178,28.751937984496,29.653511862814,30.555085741132,31.45665961945,32.358233497768,33.259807376086,34.161381254405,35.062955132723,35.964529011041,36.866102889359,37.767676767677,38.669250645995,39.570824524313,40.472398402631,41.373972280949,42.275546159267,43.177120037585,44.078693915903,44.980267794221,45.881841672539,46.783415550857,47.684989429175,48.586563307494,49.488137185812,50.38971106413,51.291284942448,52.192858820766,53.094432699084,53.996006577402,54.89758045572,55.799154334038,56.700728212356,57.602302090674,58.503875968992,59.40544984731,60.307023725628,61.208597603946,62.110171482265,63.011745360583,63.913319238901,64.814893117219,65.716466995537,66.618040873855,67.519614752173,68.421188630491,69.322762508809,70.224336387127,71.125910265445,72.027484143763,72.929058022081,73.830631900399,74.732205778717,75.633779657035,76.535353535354,77.436927413672,78.33850129199,79.240075170308,80.141649048626,81.043222926944,81.944796805262,82.84637068358,83.747944561898,84.649518440216,85.551092318534,86.452666196852,87.35424007517,88.255813953488]},\"selected\":[],\"tags\":[],\"doc\":null,\"discrete_ranges\":{},\"id\":\"294bc1d6-012f-4c1b-ccc7-8ff65da8cfb9\"},\"id\":\"294bc1d6-012f-4c1b-ccc7-8ff65da8cfb9\"},{\"type\":\"Quad\",\"attributes\":{\"right\":{\"units\":\"data\",\"field\":\"x1\"},\"bottom\":{\"units\":\"data\",\"field\":\"y0\"},\"id\":\"8065d0d8-e099-4afe-ca1c-cd2fa32b7fc2\",\"doc\":null,\"fill_color\":{\"value\":\"red\"},\"left\":{\"units\":\"data\",\"field\":\"x0\"},\"fill_alpha\":{\"units\":\"data\",\"value\":0.7},\"line_alpha\":{\"units\":\"data\",\"value\":1},\"tags\":[],\"line_color\":{\"value\":\"red\"},\"top\":{\"units\":\"data\",\"field\":\"y1\"}},\"id\":\"8065d0d8-e099-4afe-ca1c-cd2fa32b7fc2\"},{\"type\":\"Quad\",\"attributes\":{\"right\":{\"units\":\"data\",\"field\":\"x1\"},\"bottom\":{\"units\":\"data\",\"field\":\"y0\"},\"id\":\"b8bff12f-b404-43d6-c3ca-4404aedee39e\",\"doc\":null,\"fill_color\":{\"value\":\"red\"},\"left\":{\"units\":\"data\",\"field\":\"x0\"},\"fill_alpha\":{\"units\":\"data\",\"value\":0.7},\"line_alpha\":{\"units\":\"data\",\"value\":1},\"tags\":[],\"line_color\":{\"value\":\"red\"},\"top\":{\"units\":\"data\",\"field\":\"y1\"}},\"id\":\"b8bff12f-b404-43d6-c3ca-4404aedee39e\"},{\"type\":\"GlyphRenderer\",\"attributes\":{\"data_source\":{\"type\":\"ColumnDataSource\",\"id\":\"294bc1d6-012f-4c1b-ccc7-8ff65da8cfb9\"},\"id\":\"90ac4a97-417d-4903-c98b-ed9a675d4918\",\"server_data_source\":null,\"doc\":null,\"nonselection_glyph\":{\"type\":\"Quad\",\"id\":\"b8bff12f-b404-43d6-c3ca-4404aedee39e\"},\"glyph\":{\"type\":\"Quad\",\"id\":\"8065d0d8-e099-4afe-ca1c-cd2fa32b7fc2\"},\"tags\":[],\"name\":null,\"selection_glyph\":null},\"id\":\"90ac4a97-417d-4903-c98b-ed9a675d4918\"},{\"type\":\"DataRange1d\",\"attributes\":{\"tags\":[],\"doc\":null,\"sources\":[{\"source\":{\"type\":\"ColumnDataSource\",\"id\":\"294bc1d6-012f-4c1b-ccc7-8ff65da8cfb9\"},\"columns\":[\"x1\",\"x0\"]}],\"id\":\"50ab886e-2ffc-4562-c531-022fe52b2fa8\"},\"id\":\"50ab886e-2ffc-4562-c531-022fe52b2fa8\"},{\"type\":\"DataRange1d\",\"attributes\":{\"tags\":[],\"doc\":null,\"sources\":[{\"source\":{\"type\":\"ColumnDataSource\",\"id\":\"294bc1d6-012f-4c1b-ccc7-8ff65da8cfb9\"},\"columns\":[\"y1\",\"y0\"]}],\"id\":\"22748664-18c5-491a-c983-aa6519a2cf3d\"},\"id\":\"22748664-18c5-491a-c983-aa6519a2cf3d\"},{\"type\":\"ToolEvents\",\"attributes\":{\"tags\":[],\"doc\":null,\"geometries\":[],\"id\":\"dfc5d210-21c2-4941-c9e8-e315d3e43f11\"},\"id\":\"dfc5d210-21c2-4941-c9e8-e315d3e43f11\"},{\"type\":\"BasicTickFormatter\",\"attributes\":{\"tags\":[],\"doc\":null,\"id\":\"dbcc3eaa-b727-47b6-c720-42663355dce0\"},\"id\":\"dbcc3eaa-b727-47b6-c720-42663355dce0\"},{\"type\":\"BasicTicker\",\"attributes\":{\"tags\":[],\"doc\":null,\"num_minor_ticks\":5,\"id\":\"5009ef23-82c9-4a61-ca83-74682f17fda2\"},\"id\":\"5009ef23-82c9-4a61-ca83-74682f17fda2\"},{\"type\":\"LinearAxis\",\"attributes\":{\"plot\":{\"type\":\"Plot\",\"subtype\":\"Figure\",\"id\":\"598729a1-0cf7-497a-c946-bb2b6c2bb0b4\"},\"ticker\":{\"type\":\"BasicTicker\",\"id\":\"5009ef23-82c9-4a61-ca83-74682f17fda2\"},\"id\":\"cb31dc76-94d6-465b-c6f7-be2f9280a00e\",\"tags\":[],\"doc\":null,\"formatter\":{\"type\":\"BasicTickFormatter\",\"id\":\"dbcc3eaa-b727-47b6-c720-42663355dce0\"},\"axis_label\":null},\"id\":\"cb31dc76-94d6-465b-c6f7-be2f9280a00e\"},{\"type\":\"Grid\",\"attributes\":{\"plot\":{\"type\":\"Plot\",\"subtype\":\"Figure\",\"id\":\"598729a1-0cf7-497a-c946-bb2b6c2bb0b4\"},\"id\":\"2ce6d563-645b-437e-c3e5-955c0880629e\",\"tags\":[],\"doc\":null,\"ticker\":{\"type\":\"BasicTicker\",\"id\":\"5009ef23-82c9-4a61-ca83-74682f17fda2\"},\"dimension\":0},\"id\":\"2ce6d563-645b-437e-c3e5-955c0880629e\"},{\"type\":\"BasicTickFormatter\",\"attributes\":{\"tags\":[],\"doc\":null,\"id\":\"ae9bdc2a-8636-481f-c89f-c93e65dd2be2\"},\"id\":\"ae9bdc2a-8636-481f-c89f-c93e65dd2be2\"},{\"type\":\"BasicTicker\",\"attributes\":{\"tags\":[],\"doc\":null,\"num_minor_ticks\":5,\"id\":\"6ea307e2-93aa-4cdd-cc53-0fe234bdd645\"},\"id\":\"6ea307e2-93aa-4cdd-cc53-0fe234bdd645\"},{\"type\":\"LinearAxis\",\"attributes\":{\"plot\":{\"type\":\"Plot\",\"subtype\":\"Figure\",\"id\":\"598729a1-0cf7-497a-c946-bb2b6c2bb0b4\"},\"ticker\":{\"type\":\"BasicTicker\",\"id\":\"6ea307e2-93aa-4cdd-cc53-0fe234bdd645\"},\"id\":\"16ca4d4e-69df-4fa1-cf2a-9b4b1287e209\",\"tags\":[],\"doc\":null,\"formatter\":{\"type\":\"BasicTickFormatter\",\"id\":\"ae9bdc2a-8636-481f-c89f-c93e65dd2be2\"},\"axis_label\":null},\"id\":\"16ca4d4e-69df-4fa1-cf2a-9b4b1287e209\"},{\"type\":\"Grid\",\"attributes\":{\"plot\":{\"type\":\"Plot\",\"subtype\":\"Figure\",\"id\":\"598729a1-0cf7-497a-c946-bb2b6c2bb0b4\"},\"id\":\"bc15cc70-ce9e-41f7-c15e-cf43818825f6\",\"tags\":[],\"doc\":null,\"ticker\":{\"type\":\"BasicTicker\",\"id\":\"6ea307e2-93aa-4cdd-cc53-0fe234bdd645\"},\"dimension\":1},\"id\":\"bc15cc70-ce9e-41f7-c15e-cf43818825f6\"},{\"type\":\"PanTool\",\"attributes\":{\"plot\":{\"type\":\"Plot\",\"subtype\":\"Figure\",\"id\":\"598729a1-0cf7-497a-c946-bb2b6c2bb0b4\"},\"id\":\"f58a716c-0919-4ed1-ce81-4532f5591c71\",\"tags\":[],\"doc\":null,\"dimensions\":[\"width\",\"height\"]},\"id\":\"f58a716c-0919-4ed1-ce81-4532f5591c71\"},{\"type\":\"WheelZoomTool\",\"attributes\":{\"plot\":{\"type\":\"Plot\",\"subtype\":\"Figure\",\"id\":\"598729a1-0cf7-497a-c946-bb2b6c2bb0b4\"},\"id\":\"7d0e3034-00f9-433f-c303-8ee9f15f43eb\",\"tags\":[],\"doc\":null,\"dimensions\":[\"width\",\"height\"]},\"id\":\"7d0e3034-00f9-433f-c303-8ee9f15f43eb\"},{\"type\":\"BoxZoomTool\",\"attributes\":{\"tags\":[],\"doc\":null,\"plot\":{\"type\":\"Plot\",\"subtype\":\"Figure\",\"id\":\"598729a1-0cf7-497a-c946-bb2b6c2bb0b4\"},\"id\":\"3f6751a2-733b-4934-c931-1d1d86374e94\"},\"id\":\"3f6751a2-733b-4934-c931-1d1d86374e94\"},{\"type\":\"PreviewSaveTool\",\"attributes\":{\"tags\":[],\"doc\":null,\"plot\":{\"type\":\"Plot\",\"subtype\":\"Figure\",\"id\":\"598729a1-0cf7-497a-c946-bb2b6c2bb0b4\"},\"id\":\"916b9db1-7745-489e-c89f-1f690cc20823\"},\"id\":\"916b9db1-7745-489e-c89f-1f690cc20823\"},{\"type\":\"ResizeTool\",\"attributes\":{\"tags\":[],\"doc\":null,\"plot\":{\"type\":\"Plot\",\"subtype\":\"Figure\",\"id\":\"598729a1-0cf7-497a-c946-bb2b6c2bb0b4\"},\"id\":\"1abaa17f-bd72-4876-c83c-1f031df8990d\"},\"id\":\"1abaa17f-bd72-4876-c83c-1f031df8990d\"},{\"type\":\"ResetTool\",\"attributes\":{\"tags\":[],\"doc\":null,\"plot\":{\"type\":\"Plot\",\"subtype\":\"Figure\",\"id\":\"598729a1-0cf7-497a-c946-bb2b6c2bb0b4\"},\"id\":\"6b9474d1-8d60-4850-c806-e7a23f5fff7f\"},\"id\":\"6b9474d1-8d60-4850-c806-e7a23f5fff7f\"},{\"type\":\"Plot\",\"attributes\":{\"right\":[],\"extra_y_ranges\":{},\"x_range\":{\"type\":\"DataRange1d\",\"id\":\"50ab886e-2ffc-4562-c531-022fe52b2fa8\"},\"id\":\"598729a1-0cf7-497a-c946-bb2b6c2bb0b4\",\"doc\":null,\"title\":\"ABPd-0->24-mean\",\"renderers\":[{\"type\":\"GlyphRenderer\",\"id\":\"90ac4a97-417d-4903-c98b-ed9a675d4918\"},{\"type\":\"LinearAxis\",\"id\":\"cb31dc76-94d6-465b-c6f7-be2f9280a00e\"},{\"type\":\"Grid\",\"id\":\"2ce6d563-645b-437e-c3e5-955c0880629e\"},{\"type\":\"LinearAxis\",\"id\":\"16ca4d4e-69df-4fa1-cf2a-9b4b1287e209\"},{\"type\":\"Grid\",\"id\":\"bc15cc70-ce9e-41f7-c15e-cf43818825f6\"}],\"tools\":[{\"type\":\"PanTool\",\"id\":\"f58a716c-0919-4ed1-ce81-4532f5591c71\"},{\"type\":\"WheelZoomTool\",\"id\":\"7d0e3034-00f9-433f-c303-8ee9f15f43eb\"},{\"type\":\"BoxZoomTool\",\"id\":\"3f6751a2-733b-4934-c931-1d1d86374e94\"},{\"type\":\"PreviewSaveTool\",\"id\":\"916b9db1-7745-489e-c89f-1f690cc20823\"},{\"type\":\"ResizeTool\",\"id\":\"1abaa17f-bd72-4876-c83c-1f031df8990d\"},{\"type\":\"ResetTool\",\"id\":\"6b9474d1-8d60-4850-c806-e7a23f5fff7f\"}],\"left\":[{\"type\":\"LinearAxis\",\"id\":\"16ca4d4e-69df-4fa1-cf2a-9b4b1287e209\"}],\"above\":[],\"extra_x_ranges\":{},\"tags\":[],\"tool_events\":{\"type\":\"ToolEvents\",\"id\":\"dfc5d210-21c2-4941-c9e8-e315d3e43f11\"},\"y_range\":{\"type\":\"DataRange1d\",\"id\":\"22748664-18c5-491a-c983-aa6519a2cf3d\"},\"below\":[{\"type\":\"LinearAxis\",\"id\":\"cb31dc76-94d6-465b-c6f7-be2f9280a00e\"}]},\"id\":\"598729a1-0cf7-497a-c946-bb2b6c2bb0b4\"}];\n",
        "      Bokeh.load_models(all_models);\n",
        "      var model = Bokeh.Collections(modeltype).get(modelid);\n",
        "      $(\"#a49f8f88-172c-43fc-c36e-1e4be944b303\").html(''); // clear any previous plot in window_id\n",
        "      var view = new model.default_view({model: model, el: \"#a49f8f88-172c-43fc-c36e-1e4be944b303\"});\n",
        "  });\n",
        "    }\n",
        "});\n",
        "</script>\n",
        "<div class=\"plotdiv\" id=\"a49f8f88-172c-43fc-c36e-1e4be944b303\"></div>\n"
       ],
       "metadata": {},
       "output_type": "display_data"
      },
      {
       "html": [
        "<script type=\"text/javascript\">\n",
        "$(function() {\n",
        "    if (typeof (window._bokeh_onload_callbacks) === \"undefined\"){\n",
        "  window._bokeh_onload_callbacks = [];\n",
        "    }\n",
        "    function load_lib(url, callback){\n",
        "  window._bokeh_onload_callbacks.push(callback);\n",
        "  if (window._bokeh_is_loading){\n",
        "      console.log(\"Bokeh: BokehJS is being loaded, scheduling callback at\", new Date());\n",
        "      return null;\n",
        "  }\n",
        "  console.log(\"Bokeh: BokehJS not loaded, scheduling load and callback at\", new Date());\n",
        "  window._bokeh_is_loading = true;\n",
        "  var s = document.createElement('script');\n",
        "  s.src = url;\n",
        "  s.async = true;\n",
        "  s.onreadystatechange = s.onload = function(){\n",
        "      Bokeh.embed.inject_css(\"http://cdn.pydata.org/bokeh-0.7.0.min.css\");\n",
        "      window._bokeh_onload_callbacks.forEach(function(callback){callback()});\n",
        "  };\n",
        "  s.onerror = function(){\n",
        "      console.warn(\"failed to load library \" + url);\n",
        "  };\n",
        "  document.getElementsByTagName(\"head\")[0].appendChild(s);\n",
        "    }\n",
        "\n",
        "    bokehjs_url = \"http://cdn.pydata.org/bokeh-0.7.0.min.js\"\n",
        "\n",
        "    var elt = document.getElementById(\"a49f8f88-172c-43fc-c36e-1e4be944b303\");\n",
        "    if(elt==null) {\n",
        "  console.log(\"Bokeh: ERROR: autoload.js configured with elementid 'a49f8f88-172c-43fc-c36e-1e4be944b303'\"\n",
        "        + \"but no matching script tag was found. \")\n",
        "  return false;\n",
        "    }\n",
        "\n",
        "    if(typeof(Bokeh) !== \"undefined\") {\n",
        "  console.log(\"Bokeh: BokehJS loaded, going straight to plotting\");\n",
        "  var modelid = \"c1b533d8-3c18-4cdd-cc47-403647fe1018\";\n",
        "  var modeltype = \"Plot\";\n",
        "  var all_models = [{\"type\":\"ColumnDataSource\",\"attributes\":{\"cont_ranges\":{},\"column_names\":[\"y1\",\"x1\",\"y0\",\"x0\"],\"data\":{\"y1\":[17,0,0,0,0,0,0,0,0,0,0,0,0,0,0,0,0,0,0,0,0,0,0,0,0,0,0,0,0,0,0,1,0,1,2,3,2,6,7,7,13,12,5,19,15,22,22,23,38,41,42,39,58,62,73,76,89,80,70,68,81,70,63,56,60,43,49,58,40,36,38,18,23,19,17,19,12,15,8,7,14,11,8,6,4,6,1,3,5,2,2,1,0,1,1,0,1,0,1,1],\"x1\":[-0.10744186046512,0.79413201785295,1.695705896171,2.5972797744891,3.4988536528071,4.4004275311252,5.3020014094433,6.2035752877613,7.1051491660794,8.0067230443975,8.9082969227155,9.8098708010336,10.711444679352,11.61301855767,12.514592435988,13.416166314306,14.317740192624,15.219314070942,16.12088794926,17.022461827578,17.924035705896,18.825609584214,19.727183462532,20.62875734085,21.530331219168,22.431905097486,23.333478975805,24.235052854123,25.136626732441,26.038200610759,26.939774489077,27.841348367395,28.742922245713,29.644496124031,30.546070002349,31.447643880667,32.349217758985,33.250791637303,34.152365515621,35.053939393939,35.955513272257,36.857087150576,37.758661028894,38.660234907212,39.56180878553,40.463382663848,41.364956542166,42.266530420484,43.168104298802,44.06967817712,44.971252055438,45.872825933756,46.774399812074,47.675973690392,48.57754756871,49.479121447028,50.380695325346,51.282269203665,52.183843081983,53.085416960301,53.986990838619,54.888564716937,55.790138595255,56.691712473573,57.593286351891,58.494860230209,59.396434108527,60.298007986845,61.199581865163,62.101155743481,63.002729621799,63.904303500117,64.805877378436,65.707451256754,66.609025135072,67.51059901339,68.412172891708,69.313746770026,70.215320648344,71.116894526662,72.01846840498,72.920042283298,73.821616161616,74.723190039934,75.624763918252,76.52633779657,77.427911674888,78.329485553206,79.231059431525,80.132633309843,81.034207188161,81.935781066479,82.837354944797,83.738928823115,84.640502701433,85.542076579751,86.443650458069,87.345224336387,88.246798214705,89.148372093023],\"y0\":[0,0,0,0,0,0,0,0,0,0,0,0,0,0,0,0,0,0,0,0,0,0,0,0,0,0,0,0,0,0,0,0,0,0,0,0,0,0,0,0,0,0,0,0,0,0,0,0,0,0,0,0,0,0,0,0,0,0,0,0,0,0,0,0,0,0,0,0,0,0,0,0,0,0,0,0,0,0,0,0,0,0,0,0,0,0,0,0,0,0,0,0,0,0,0,0,0,0,0,0],\"x0\":[-1,-0.098426121681936,0.80314775663613,1.7047216349542,2.6062955132723,3.5078693915903,4.4094432699084,5.3110171482265,6.2125910265445,7.1141649048626,8.0157387831806,8.9173126614987,9.8188865398168,10.720460418135,11.622034296453,12.523608174771,13.425182053089,14.326755931407,15.228329809725,16.129903688043,17.031477566361,17.933051444679,18.834625322997,19.736199201315,20.637773079634,21.539346957952,22.44092083627,23.342494714588,24.244068592906,25.145642471224,26.047216349542,26.94879022786,27.850364106178,28.751937984496,29.653511862814,30.555085741132,31.45665961945,32.358233497768,33.259807376086,34.161381254405,35.062955132723,35.964529011041,36.866102889359,37.767676767677,38.669250645995,39.570824524313,40.472398402631,41.373972280949,42.275546159267,43.177120037585,44.078693915903,44.980267794221,45.881841672539,46.783415550857,47.684989429175,48.586563307494,49.488137185812,50.38971106413,51.291284942448,52.192858820766,53.094432699084,53.996006577402,54.89758045572,55.799154334038,56.700728212356,57.602302090674,58.503875968992,59.40544984731,60.307023725628,61.208597603946,62.110171482265,63.011745360583,63.913319238901,64.814893117219,65.716466995537,66.618040873855,67.519614752173,68.421188630491,69.322762508809,70.224336387127,71.125910265445,72.027484143763,72.929058022081,73.830631900399,74.732205778717,75.633779657035,76.535353535354,77.436927413672,78.33850129199,79.240075170308,80.141649048626,81.043222926944,81.944796805262,82.84637068358,83.747944561898,84.649518440216,85.551092318534,86.452666196852,87.35424007517,88.255813953488]},\"selected\":[],\"tags\":[],\"doc\":null,\"discrete_ranges\":{},\"id\":\"f7004df0-ddf7-4d03-cdb8-4fa1de6e3bcf\"},\"id\":\"f7004df0-ddf7-4d03-cdb8-4fa1de6e3bcf\"},{\"type\":\"Quad\",\"attributes\":{\"right\":{\"units\":\"data\",\"field\":\"x1\"},\"bottom\":{\"units\":\"data\",\"field\":\"y0\"},\"id\":\"fc73a7e6-7404-4f02-cf0e-21bbb4c021ef\",\"doc\":null,\"fill_color\":{\"value\":\"red\"},\"left\":{\"units\":\"data\",\"field\":\"x0\"},\"fill_alpha\":{\"units\":\"data\",\"value\":0.7},\"line_alpha\":{\"units\":\"data\",\"value\":1},\"tags\":[],\"line_color\":{\"value\":\"red\"},\"top\":{\"units\":\"data\",\"field\":\"y1\"}},\"id\":\"fc73a7e6-7404-4f02-cf0e-21bbb4c021ef\"},{\"type\":\"Quad\",\"attributes\":{\"right\":{\"units\":\"data\",\"field\":\"x1\"},\"bottom\":{\"units\":\"data\",\"field\":\"y0\"},\"id\":\"3341b4ae-cbb7-4b06-cb09-af6b68284b67\",\"doc\":null,\"fill_color\":{\"value\":\"red\"},\"left\":{\"units\":\"data\",\"field\":\"x0\"},\"fill_alpha\":{\"units\":\"data\",\"value\":0.7},\"line_alpha\":{\"units\":\"data\",\"value\":1},\"tags\":[],\"line_color\":{\"value\":\"red\"},\"top\":{\"units\":\"data\",\"field\":\"y1\"}},\"id\":\"3341b4ae-cbb7-4b06-cb09-af6b68284b67\"},{\"type\":\"GlyphRenderer\",\"attributes\":{\"data_source\":{\"type\":\"ColumnDataSource\",\"id\":\"f7004df0-ddf7-4d03-cdb8-4fa1de6e3bcf\"},\"id\":\"4790005a-184c-44cd-c430-d44d8e4487c9\",\"server_data_source\":null,\"doc\":null,\"nonselection_glyph\":{\"type\":\"Quad\",\"id\":\"3341b4ae-cbb7-4b06-cb09-af6b68284b67\"},\"glyph\":{\"type\":\"Quad\",\"id\":\"fc73a7e6-7404-4f02-cf0e-21bbb4c021ef\"},\"tags\":[],\"name\":null,\"selection_glyph\":null},\"id\":\"4790005a-184c-44cd-c430-d44d8e4487c9\"},{\"type\":\"DataRange1d\",\"attributes\":{\"tags\":[],\"doc\":null,\"sources\":[{\"source\":{\"type\":\"ColumnDataSource\",\"id\":\"f7004df0-ddf7-4d03-cdb8-4fa1de6e3bcf\"},\"columns\":[\"x1\",\"x0\"]}],\"id\":\"851d1b8b-11ef-4d4f-cd56-15c4c5291a50\"},\"id\":\"851d1b8b-11ef-4d4f-cd56-15c4c5291a50\"},{\"type\":\"DataRange1d\",\"attributes\":{\"tags\":[],\"doc\":null,\"sources\":[{\"source\":{\"type\":\"ColumnDataSource\",\"id\":\"f7004df0-ddf7-4d03-cdb8-4fa1de6e3bcf\"},\"columns\":[\"y1\",\"y0\"]}],\"id\":\"edb83bf6-05e3-44b6-c4a2-4de8e78dc2eb\"},\"id\":\"edb83bf6-05e3-44b6-c4a2-4de8e78dc2eb\"},{\"type\":\"ToolEvents\",\"attributes\":{\"tags\":[],\"doc\":null,\"geometries\":[],\"id\":\"9ad64c8d-0dc1-490d-c9da-0dd82bac1e91\"},\"id\":\"9ad64c8d-0dc1-490d-c9da-0dd82bac1e91\"},{\"type\":\"BasicTickFormatter\",\"attributes\":{\"tags\":[],\"doc\":null,\"id\":\"88fe02b4-c305-4443-c4bc-51a48e8ab53c\"},\"id\":\"88fe02b4-c305-4443-c4bc-51a48e8ab53c\"},{\"type\":\"BasicTicker\",\"attributes\":{\"tags\":[],\"doc\":null,\"num_minor_ticks\":5,\"id\":\"3de3aa81-2bc2-4514-c55b-552a597be5ee\"},\"id\":\"3de3aa81-2bc2-4514-c55b-552a597be5ee\"},{\"type\":\"LinearAxis\",\"attributes\":{\"plot\":{\"type\":\"Plot\",\"subtype\":\"Figure\",\"id\":\"c1b533d8-3c18-4cdd-cc47-403647fe1018\"},\"ticker\":{\"type\":\"BasicTicker\",\"id\":\"3de3aa81-2bc2-4514-c55b-552a597be5ee\"},\"id\":\"30478146-1415-43bc-c354-2f11b7f63741\",\"tags\":[],\"doc\":null,\"formatter\":{\"type\":\"BasicTickFormatter\",\"id\":\"88fe02b4-c305-4443-c4bc-51a48e8ab53c\"},\"axis_label\":\"value\"},\"id\":\"30478146-1415-43bc-c354-2f11b7f63741\"},{\"type\":\"Grid\",\"attributes\":{\"plot\":{\"type\":\"Plot\",\"subtype\":\"Figure\",\"id\":\"c1b533d8-3c18-4cdd-cc47-403647fe1018\"},\"id\":\"67fedde7-77f3-4be4-cbee-f8d7e302e1f3\",\"tags\":[],\"doc\":null,\"ticker\":{\"type\":\"BasicTicker\",\"id\":\"3de3aa81-2bc2-4514-c55b-552a597be5ee\"},\"dimension\":0},\"id\":\"67fedde7-77f3-4be4-cbee-f8d7e302e1f3\"},{\"type\":\"BasicTickFormatter\",\"attributes\":{\"tags\":[],\"doc\":null,\"id\":\"bf1c741c-5060-4927-c9b9-07391de6e8a4\"},\"id\":\"bf1c741c-5060-4927-c9b9-07391de6e8a4\"},{\"type\":\"BasicTicker\",\"attributes\":{\"tags\":[],\"doc\":null,\"num_minor_ticks\":5,\"id\":\"e4375cef-c895-46d0-c6a9-fab205519e72\"},\"id\":\"e4375cef-c895-46d0-c6a9-fab205519e72\"},{\"type\":\"LinearAxis\",\"attributes\":{\"plot\":{\"type\":\"Plot\",\"subtype\":\"Figure\",\"id\":\"c1b533d8-3c18-4cdd-cc47-403647fe1018\"},\"ticker\":{\"type\":\"BasicTicker\",\"id\":\"e4375cef-c895-46d0-c6a9-fab205519e72\"},\"id\":\"648b2e60-e405-4c40-cc5b-fff61141078a\",\"tags\":[],\"doc\":null,\"formatter\":{\"type\":\"BasicTickFormatter\",\"id\":\"bf1c741c-5060-4927-c9b9-07391de6e8a4\"},\"axis_label\":\"freq\"},\"id\":\"648b2e60-e405-4c40-cc5b-fff61141078a\"},{\"type\":\"Grid\",\"attributes\":{\"plot\":{\"type\":\"Plot\",\"subtype\":\"Figure\",\"id\":\"c1b533d8-3c18-4cdd-cc47-403647fe1018\"},\"id\":\"489e075e-014c-4ef5-ce93-ac111bcdfad3\",\"tags\":[],\"doc\":null,\"ticker\":{\"type\":\"BasicTicker\",\"id\":\"e4375cef-c895-46d0-c6a9-fab205519e72\"},\"dimension\":1},\"id\":\"489e075e-014c-4ef5-ce93-ac111bcdfad3\"},{\"type\":\"PanTool\",\"attributes\":{\"plot\":{\"type\":\"Plot\",\"subtype\":\"Figure\",\"id\":\"c1b533d8-3c18-4cdd-cc47-403647fe1018\"},\"id\":\"4323d333-fe4b-47ae-c720-624cf01f3eae\",\"tags\":[],\"doc\":null,\"dimensions\":[\"width\",\"height\"]},\"id\":\"4323d333-fe4b-47ae-c720-624cf01f3eae\"},{\"type\":\"WheelZoomTool\",\"attributes\":{\"plot\":{\"type\":\"Plot\",\"subtype\":\"Figure\",\"id\":\"c1b533d8-3c18-4cdd-cc47-403647fe1018\"},\"id\":\"1aa638fb-0aeb-4e45-cebe-45eea8d8a6e4\",\"tags\":[],\"doc\":null,\"dimensions\":[\"width\",\"height\"]},\"id\":\"1aa638fb-0aeb-4e45-cebe-45eea8d8a6e4\"},{\"type\":\"BoxZoomTool\",\"attributes\":{\"tags\":[],\"doc\":null,\"plot\":{\"type\":\"Plot\",\"subtype\":\"Figure\",\"id\":\"c1b533d8-3c18-4cdd-cc47-403647fe1018\"},\"id\":\"a5b6de1d-d2b3-4e39-ce5e-d76a30234d47\"},\"id\":\"a5b6de1d-d2b3-4e39-ce5e-d76a30234d47\"},{\"type\":\"PreviewSaveTool\",\"attributes\":{\"tags\":[],\"doc\":null,\"plot\":{\"type\":\"Plot\",\"subtype\":\"Figure\",\"id\":\"c1b533d8-3c18-4cdd-cc47-403647fe1018\"},\"id\":\"d8769ff3-60c1-4be2-cbef-3376017c54e6\"},\"id\":\"d8769ff3-60c1-4be2-cbef-3376017c54e6\"},{\"type\":\"ResizeTool\",\"attributes\":{\"tags\":[],\"doc\":null,\"plot\":{\"type\":\"Plot\",\"subtype\":\"Figure\",\"id\":\"c1b533d8-3c18-4cdd-cc47-403647fe1018\"},\"id\":\"5cff97a7-73c3-432a-c325-b8d3f3c8984a\"},\"id\":\"5cff97a7-73c3-432a-c325-b8d3f3c8984a\"},{\"type\":\"ResetTool\",\"attributes\":{\"tags\":[],\"doc\":null,\"plot\":{\"type\":\"Plot\",\"subtype\":\"Figure\",\"id\":\"c1b533d8-3c18-4cdd-cc47-403647fe1018\"},\"id\":\"8fece7b3-34f4-4a7d-ca00-df339eec392a\"},\"id\":\"8fece7b3-34f4-4a7d-ca00-df339eec392a\"},{\"type\":\"Plot\",\"attributes\":{\"right\":[],\"extra_y_ranges\":{},\"x_range\":{\"type\":\"DataRange1d\",\"id\":\"851d1b8b-11ef-4d4f-cd56-15c4c5291a50\"},\"id\":\"c1b533d8-3c18-4cdd-cc47-403647fe1018\",\"doc\":null,\"title\":\"ABPd-0->24-mean\",\"renderers\":[{\"type\":\"GlyphRenderer\",\"id\":\"4790005a-184c-44cd-c430-d44d8e4487c9\"},{\"type\":\"LinearAxis\",\"id\":\"30478146-1415-43bc-c354-2f11b7f63741\"},{\"type\":\"Grid\",\"id\":\"67fedde7-77f3-4be4-cbee-f8d7e302e1f3\"},{\"type\":\"LinearAxis\",\"id\":\"648b2e60-e405-4c40-cc5b-fff61141078a\"},{\"type\":\"Grid\",\"id\":\"489e075e-014c-4ef5-ce93-ac111bcdfad3\"}],\"tools\":[{\"type\":\"PanTool\",\"id\":\"4323d333-fe4b-47ae-c720-624cf01f3eae\"},{\"type\":\"WheelZoomTool\",\"id\":\"1aa638fb-0aeb-4e45-cebe-45eea8d8a6e4\"},{\"type\":\"BoxZoomTool\",\"id\":\"a5b6de1d-d2b3-4e39-ce5e-d76a30234d47\"},{\"type\":\"PreviewSaveTool\",\"id\":\"d8769ff3-60c1-4be2-cbef-3376017c54e6\"},{\"type\":\"ResizeTool\",\"id\":\"5cff97a7-73c3-432a-c325-b8d3f3c8984a\"},{\"type\":\"ResetTool\",\"id\":\"8fece7b3-34f4-4a7d-ca00-df339eec392a\"}],\"left\":[{\"type\":\"LinearAxis\",\"id\":\"648b2e60-e405-4c40-cc5b-fff61141078a\"}],\"above\":[],\"extra_x_ranges\":{},\"tags\":[],\"tool_events\":{\"type\":\"ToolEvents\",\"id\":\"9ad64c8d-0dc1-490d-c9da-0dd82bac1e91\"},\"y_range\":{\"type\":\"DataRange1d\",\"id\":\"edb83bf6-05e3-44b6-c4a2-4de8e78dc2eb\"},\"below\":[{\"type\":\"LinearAxis\",\"id\":\"30478146-1415-43bc-c354-2f11b7f63741\"}]},\"id\":\"c1b533d8-3c18-4cdd-cc47-403647fe1018\"}];\n",
        "  Bokeh.load_models(all_models);\n",
        "  var model = Bokeh.Collections(modeltype).get(modelid);\n",
        "  $(\"#a49f8f88-172c-43fc-c36e-1e4be944b303\").html(''); // clear any previous plot in window_id\n",
        "  var view = new model.default_view({model: model, el: \"#a49f8f88-172c-43fc-c36e-1e4be944b303\"});\n",
        "    } else {\n",
        "  load_lib(bokehjs_url, function() {\n",
        "      console.log(\"Bokeh: BokehJS plotting callback run at\", new Date())\n",
        "      var modelid = \"c1b533d8-3c18-4cdd-cc47-403647fe1018\";\n",
        "      var modeltype = \"Plot\";\n",
        "      var all_models = [{\"type\":\"ColumnDataSource\",\"attributes\":{\"cont_ranges\":{},\"column_names\":[\"y1\",\"x1\",\"y0\",\"x0\"],\"data\":{\"y1\":[17,0,0,0,0,0,0,0,0,0,0,0,0,0,0,0,0,0,0,0,0,0,0,0,0,0,0,0,0,0,0,1,0,1,2,3,2,6,7,7,13,12,5,19,15,22,22,23,38,41,42,39,58,62,73,76,89,80,70,68,81,70,63,56,60,43,49,58,40,36,38,18,23,19,17,19,12,15,8,7,14,11,8,6,4,6,1,3,5,2,2,1,0,1,1,0,1,0,1,1],\"x1\":[-0.10744186046512,0.79413201785295,1.695705896171,2.5972797744891,3.4988536528071,4.4004275311252,5.3020014094433,6.2035752877613,7.1051491660794,8.0067230443975,8.9082969227155,9.8098708010336,10.711444679352,11.61301855767,12.514592435988,13.416166314306,14.317740192624,15.219314070942,16.12088794926,17.022461827578,17.924035705896,18.825609584214,19.727183462532,20.62875734085,21.530331219168,22.431905097486,23.333478975805,24.235052854123,25.136626732441,26.038200610759,26.939774489077,27.841348367395,28.742922245713,29.644496124031,30.546070002349,31.447643880667,32.349217758985,33.250791637303,34.152365515621,35.053939393939,35.955513272257,36.857087150576,37.758661028894,38.660234907212,39.56180878553,40.463382663848,41.364956542166,42.266530420484,43.168104298802,44.06967817712,44.971252055438,45.872825933756,46.774399812074,47.675973690392,48.57754756871,49.479121447028,50.380695325346,51.282269203665,52.183843081983,53.085416960301,53.986990838619,54.888564716937,55.790138595255,56.691712473573,57.593286351891,58.494860230209,59.396434108527,60.298007986845,61.199581865163,62.101155743481,63.002729621799,63.904303500117,64.805877378436,65.707451256754,66.609025135072,67.51059901339,68.412172891708,69.313746770026,70.215320648344,71.116894526662,72.01846840498,72.920042283298,73.821616161616,74.723190039934,75.624763918252,76.52633779657,77.427911674888,78.329485553206,79.231059431525,80.132633309843,81.034207188161,81.935781066479,82.837354944797,83.738928823115,84.640502701433,85.542076579751,86.443650458069,87.345224336387,88.246798214705,89.148372093023],\"y0\":[0,0,0,0,0,0,0,0,0,0,0,0,0,0,0,0,0,0,0,0,0,0,0,0,0,0,0,0,0,0,0,0,0,0,0,0,0,0,0,0,0,0,0,0,0,0,0,0,0,0,0,0,0,0,0,0,0,0,0,0,0,0,0,0,0,0,0,0,0,0,0,0,0,0,0,0,0,0,0,0,0,0,0,0,0,0,0,0,0,0,0,0,0,0,0,0,0,0,0,0],\"x0\":[-1,-0.098426121681936,0.80314775663613,1.7047216349542,2.6062955132723,3.5078693915903,4.4094432699084,5.3110171482265,6.2125910265445,7.1141649048626,8.0157387831806,8.9173126614987,9.8188865398168,10.720460418135,11.622034296453,12.523608174771,13.425182053089,14.326755931407,15.228329809725,16.129903688043,17.031477566361,17.933051444679,18.834625322997,19.736199201315,20.637773079634,21.539346957952,22.44092083627,23.342494714588,24.244068592906,25.145642471224,26.047216349542,26.94879022786,27.850364106178,28.751937984496,29.653511862814,30.555085741132,31.45665961945,32.358233497768,33.259807376086,34.161381254405,35.062955132723,35.964529011041,36.866102889359,37.767676767677,38.669250645995,39.570824524313,40.472398402631,41.373972280949,42.275546159267,43.177120037585,44.078693915903,44.980267794221,45.881841672539,46.783415550857,47.684989429175,48.586563307494,49.488137185812,50.38971106413,51.291284942448,52.192858820766,53.094432699084,53.996006577402,54.89758045572,55.799154334038,56.700728212356,57.602302090674,58.503875968992,59.40544984731,60.307023725628,61.208597603946,62.110171482265,63.011745360583,63.913319238901,64.814893117219,65.716466995537,66.618040873855,67.519614752173,68.421188630491,69.322762508809,70.224336387127,71.125910265445,72.027484143763,72.929058022081,73.830631900399,74.732205778717,75.633779657035,76.535353535354,77.436927413672,78.33850129199,79.240075170308,80.141649048626,81.043222926944,81.944796805262,82.84637068358,83.747944561898,84.649518440216,85.551092318534,86.452666196852,87.35424007517,88.255813953488]},\"selected\":[],\"tags\":[],\"doc\":null,\"discrete_ranges\":{},\"id\":\"f7004df0-ddf7-4d03-cdb8-4fa1de6e3bcf\"},\"id\":\"f7004df0-ddf7-4d03-cdb8-4fa1de6e3bcf\"},{\"type\":\"Quad\",\"attributes\":{\"right\":{\"units\":\"data\",\"field\":\"x1\"},\"bottom\":{\"units\":\"data\",\"field\":\"y0\"},\"id\":\"fc73a7e6-7404-4f02-cf0e-21bbb4c021ef\",\"doc\":null,\"fill_color\":{\"value\":\"red\"},\"left\":{\"units\":\"data\",\"field\":\"x0\"},\"fill_alpha\":{\"units\":\"data\",\"value\":0.7},\"line_alpha\":{\"units\":\"data\",\"value\":1},\"tags\":[],\"line_color\":{\"value\":\"red\"},\"top\":{\"units\":\"data\",\"field\":\"y1\"}},\"id\":\"fc73a7e6-7404-4f02-cf0e-21bbb4c021ef\"},{\"type\":\"Quad\",\"attributes\":{\"right\":{\"units\":\"data\",\"field\":\"x1\"},\"bottom\":{\"units\":\"data\",\"field\":\"y0\"},\"id\":\"3341b4ae-cbb7-4b06-cb09-af6b68284b67\",\"doc\":null,\"fill_color\":{\"value\":\"red\"},\"left\":{\"units\":\"data\",\"field\":\"x0\"},\"fill_alpha\":{\"units\":\"data\",\"value\":0.7},\"line_alpha\":{\"units\":\"data\",\"value\":1},\"tags\":[],\"line_color\":{\"value\":\"red\"},\"top\":{\"units\":\"data\",\"field\":\"y1\"}},\"id\":\"3341b4ae-cbb7-4b06-cb09-af6b68284b67\"},{\"type\":\"GlyphRenderer\",\"attributes\":{\"data_source\":{\"type\":\"ColumnDataSource\",\"id\":\"f7004df0-ddf7-4d03-cdb8-4fa1de6e3bcf\"},\"id\":\"4790005a-184c-44cd-c430-d44d8e4487c9\",\"server_data_source\":null,\"doc\":null,\"nonselection_glyph\":{\"type\":\"Quad\",\"id\":\"3341b4ae-cbb7-4b06-cb09-af6b68284b67\"},\"glyph\":{\"type\":\"Quad\",\"id\":\"fc73a7e6-7404-4f02-cf0e-21bbb4c021ef\"},\"tags\":[],\"name\":null,\"selection_glyph\":null},\"id\":\"4790005a-184c-44cd-c430-d44d8e4487c9\"},{\"type\":\"DataRange1d\",\"attributes\":{\"tags\":[],\"doc\":null,\"sources\":[{\"source\":{\"type\":\"ColumnDataSource\",\"id\":\"f7004df0-ddf7-4d03-cdb8-4fa1de6e3bcf\"},\"columns\":[\"x1\",\"x0\"]}],\"id\":\"851d1b8b-11ef-4d4f-cd56-15c4c5291a50\"},\"id\":\"851d1b8b-11ef-4d4f-cd56-15c4c5291a50\"},{\"type\":\"DataRange1d\",\"attributes\":{\"tags\":[],\"doc\":null,\"sources\":[{\"source\":{\"type\":\"ColumnDataSource\",\"id\":\"f7004df0-ddf7-4d03-cdb8-4fa1de6e3bcf\"},\"columns\":[\"y1\",\"y0\"]}],\"id\":\"edb83bf6-05e3-44b6-c4a2-4de8e78dc2eb\"},\"id\":\"edb83bf6-05e3-44b6-c4a2-4de8e78dc2eb\"},{\"type\":\"ToolEvents\",\"attributes\":{\"tags\":[],\"doc\":null,\"geometries\":[],\"id\":\"9ad64c8d-0dc1-490d-c9da-0dd82bac1e91\"},\"id\":\"9ad64c8d-0dc1-490d-c9da-0dd82bac1e91\"},{\"type\":\"BasicTickFormatter\",\"attributes\":{\"tags\":[],\"doc\":null,\"id\":\"88fe02b4-c305-4443-c4bc-51a48e8ab53c\"},\"id\":\"88fe02b4-c305-4443-c4bc-51a48e8ab53c\"},{\"type\":\"BasicTicker\",\"attributes\":{\"tags\":[],\"doc\":null,\"num_minor_ticks\":5,\"id\":\"3de3aa81-2bc2-4514-c55b-552a597be5ee\"},\"id\":\"3de3aa81-2bc2-4514-c55b-552a597be5ee\"},{\"type\":\"LinearAxis\",\"attributes\":{\"plot\":{\"type\":\"Plot\",\"subtype\":\"Figure\",\"id\":\"c1b533d8-3c18-4cdd-cc47-403647fe1018\"},\"ticker\":{\"type\":\"BasicTicker\",\"id\":\"3de3aa81-2bc2-4514-c55b-552a597be5ee\"},\"id\":\"30478146-1415-43bc-c354-2f11b7f63741\",\"tags\":[],\"doc\":null,\"formatter\":{\"type\":\"BasicTickFormatter\",\"id\":\"88fe02b4-c305-4443-c4bc-51a48e8ab53c\"},\"axis_label\":\"value\"},\"id\":\"30478146-1415-43bc-c354-2f11b7f63741\"},{\"type\":\"Grid\",\"attributes\":{\"plot\":{\"type\":\"Plot\",\"subtype\":\"Figure\",\"id\":\"c1b533d8-3c18-4cdd-cc47-403647fe1018\"},\"id\":\"67fedde7-77f3-4be4-cbee-f8d7e302e1f3\",\"tags\":[],\"doc\":null,\"ticker\":{\"type\":\"BasicTicker\",\"id\":\"3de3aa81-2bc2-4514-c55b-552a597be5ee\"},\"dimension\":0},\"id\":\"67fedde7-77f3-4be4-cbee-f8d7e302e1f3\"},{\"type\":\"BasicTickFormatter\",\"attributes\":{\"tags\":[],\"doc\":null,\"id\":\"bf1c741c-5060-4927-c9b9-07391de6e8a4\"},\"id\":\"bf1c741c-5060-4927-c9b9-07391de6e8a4\"},{\"type\":\"BasicTicker\",\"attributes\":{\"tags\":[],\"doc\":null,\"num_minor_ticks\":5,\"id\":\"e4375cef-c895-46d0-c6a9-fab205519e72\"},\"id\":\"e4375cef-c895-46d0-c6a9-fab205519e72\"},{\"type\":\"LinearAxis\",\"attributes\":{\"plot\":{\"type\":\"Plot\",\"subtype\":\"Figure\",\"id\":\"c1b533d8-3c18-4cdd-cc47-403647fe1018\"},\"ticker\":{\"type\":\"BasicTicker\",\"id\":\"e4375cef-c895-46d0-c6a9-fab205519e72\"},\"id\":\"648b2e60-e405-4c40-cc5b-fff61141078a\",\"tags\":[],\"doc\":null,\"formatter\":{\"type\":\"BasicTickFormatter\",\"id\":\"bf1c741c-5060-4927-c9b9-07391de6e8a4\"},\"axis_label\":\"freq\"},\"id\":\"648b2e60-e405-4c40-cc5b-fff61141078a\"},{\"type\":\"Grid\",\"attributes\":{\"plot\":{\"type\":\"Plot\",\"subtype\":\"Figure\",\"id\":\"c1b533d8-3c18-4cdd-cc47-403647fe1018\"},\"id\":\"489e075e-014c-4ef5-ce93-ac111bcdfad3\",\"tags\":[],\"doc\":null,\"ticker\":{\"type\":\"BasicTicker\",\"id\":\"e4375cef-c895-46d0-c6a9-fab205519e72\"},\"dimension\":1},\"id\":\"489e075e-014c-4ef5-ce93-ac111bcdfad3\"},{\"type\":\"PanTool\",\"attributes\":{\"plot\":{\"type\":\"Plot\",\"subtype\":\"Figure\",\"id\":\"c1b533d8-3c18-4cdd-cc47-403647fe1018\"},\"id\":\"4323d333-fe4b-47ae-c720-624cf01f3eae\",\"tags\":[],\"doc\":null,\"dimensions\":[\"width\",\"height\"]},\"id\":\"4323d333-fe4b-47ae-c720-624cf01f3eae\"},{\"type\":\"WheelZoomTool\",\"attributes\":{\"plot\":{\"type\":\"Plot\",\"subtype\":\"Figure\",\"id\":\"c1b533d8-3c18-4cdd-cc47-403647fe1018\"},\"id\":\"1aa638fb-0aeb-4e45-cebe-45eea8d8a6e4\",\"tags\":[],\"doc\":null,\"dimensions\":[\"width\",\"height\"]},\"id\":\"1aa638fb-0aeb-4e45-cebe-45eea8d8a6e4\"},{\"type\":\"BoxZoomTool\",\"attributes\":{\"tags\":[],\"doc\":null,\"plot\":{\"type\":\"Plot\",\"subtype\":\"Figure\",\"id\":\"c1b533d8-3c18-4cdd-cc47-403647fe1018\"},\"id\":\"a5b6de1d-d2b3-4e39-ce5e-d76a30234d47\"},\"id\":\"a5b6de1d-d2b3-4e39-ce5e-d76a30234d47\"},{\"type\":\"PreviewSaveTool\",\"attributes\":{\"tags\":[],\"doc\":null,\"plot\":{\"type\":\"Plot\",\"subtype\":\"Figure\",\"id\":\"c1b533d8-3c18-4cdd-cc47-403647fe1018\"},\"id\":\"d8769ff3-60c1-4be2-cbef-3376017c54e6\"},\"id\":\"d8769ff3-60c1-4be2-cbef-3376017c54e6\"},{\"type\":\"ResizeTool\",\"attributes\":{\"tags\":[],\"doc\":null,\"plot\":{\"type\":\"Plot\",\"subtype\":\"Figure\",\"id\":\"c1b533d8-3c18-4cdd-cc47-403647fe1018\"},\"id\":\"5cff97a7-73c3-432a-c325-b8d3f3c8984a\"},\"id\":\"5cff97a7-73c3-432a-c325-b8d3f3c8984a\"},{\"type\":\"ResetTool\",\"attributes\":{\"tags\":[],\"doc\":null,\"plot\":{\"type\":\"Plot\",\"subtype\":\"Figure\",\"id\":\"c1b533d8-3c18-4cdd-cc47-403647fe1018\"},\"id\":\"8fece7b3-34f4-4a7d-ca00-df339eec392a\"},\"id\":\"8fece7b3-34f4-4a7d-ca00-df339eec392a\"},{\"type\":\"Plot\",\"attributes\":{\"right\":[],\"extra_y_ranges\":{},\"x_range\":{\"type\":\"DataRange1d\",\"id\":\"851d1b8b-11ef-4d4f-cd56-15c4c5291a50\"},\"id\":\"c1b533d8-3c18-4cdd-cc47-403647fe1018\",\"doc\":null,\"title\":\"ABPd-0->24-mean\",\"renderers\":[{\"type\":\"GlyphRenderer\",\"id\":\"4790005a-184c-44cd-c430-d44d8e4487c9\"},{\"type\":\"LinearAxis\",\"id\":\"30478146-1415-43bc-c354-2f11b7f63741\"},{\"type\":\"Grid\",\"id\":\"67fedde7-77f3-4be4-cbee-f8d7e302e1f3\"},{\"type\":\"LinearAxis\",\"id\":\"648b2e60-e405-4c40-cc5b-fff61141078a\"},{\"type\":\"Grid\",\"id\":\"489e075e-014c-4ef5-ce93-ac111bcdfad3\"}],\"tools\":[{\"type\":\"PanTool\",\"id\":\"4323d333-fe4b-47ae-c720-624cf01f3eae\"},{\"type\":\"WheelZoomTool\",\"id\":\"1aa638fb-0aeb-4e45-cebe-45eea8d8a6e4\"},{\"type\":\"BoxZoomTool\",\"id\":\"a5b6de1d-d2b3-4e39-ce5e-d76a30234d47\"},{\"type\":\"PreviewSaveTool\",\"id\":\"d8769ff3-60c1-4be2-cbef-3376017c54e6\"},{\"type\":\"ResizeTool\",\"id\":\"5cff97a7-73c3-432a-c325-b8d3f3c8984a\"},{\"type\":\"ResetTool\",\"id\":\"8fece7b3-34f4-4a7d-ca00-df339eec392a\"}],\"left\":[{\"type\":\"LinearAxis\",\"id\":\"648b2e60-e405-4c40-cc5b-fff61141078a\"}],\"above\":[],\"extra_x_ranges\":{},\"tags\":[],\"tool_events\":{\"type\":\"ToolEvents\",\"id\":\"9ad64c8d-0dc1-490d-c9da-0dd82bac1e91\"},\"y_range\":{\"type\":\"DataRange1d\",\"id\":\"edb83bf6-05e3-44b6-c4a2-4de8e78dc2eb\"},\"below\":[{\"type\":\"LinearAxis\",\"id\":\"30478146-1415-43bc-c354-2f11b7f63741\"}]},\"id\":\"c1b533d8-3c18-4cdd-cc47-403647fe1018\"}];\n",
        "      Bokeh.load_models(all_models);\n",
        "      var model = Bokeh.Collections(modeltype).get(modelid);\n",
        "      $(\"#a49f8f88-172c-43fc-c36e-1e4be944b303\").html(''); // clear any previous plot in window_id\n",
        "      var view = new model.default_view({model: model, el: \"#a49f8f88-172c-43fc-c36e-1e4be944b303\"});\n",
        "  });\n",
        "    }\n",
        "});\n",
        "</script>\n",
        "<div class=\"plotdiv\" id=\"51b3bdeb-9054-46ac-c68b-ae4a6f851315\"></div>\n"
       ],
       "metadata": {},
       "output_type": "display_data"
      },
      {
       "html": [
        "<script type=\"text/javascript\">\n",
        "$(function() {\n",
        "    if (typeof (window._bokeh_onload_callbacks) === \"undefined\"){\n",
        "  window._bokeh_onload_callbacks = [];\n",
        "    }\n",
        "    function load_lib(url, callback){\n",
        "  window._bokeh_onload_callbacks.push(callback);\n",
        "  if (window._bokeh_is_loading){\n",
        "      console.log(\"Bokeh: BokehJS is being loaded, scheduling callback at\", new Date());\n",
        "      return null;\n",
        "  }\n",
        "  console.log(\"Bokeh: BokehJS not loaded, scheduling load and callback at\", new Date());\n",
        "  window._bokeh_is_loading = true;\n",
        "  var s = document.createElement('script');\n",
        "  s.src = url;\n",
        "  s.async = true;\n",
        "  s.onreadystatechange = s.onload = function(){\n",
        "      Bokeh.embed.inject_css(\"http://cdn.pydata.org/bokeh-0.7.0.min.css\");\n",
        "      window._bokeh_onload_callbacks.forEach(function(callback){callback()});\n",
        "  };\n",
        "  s.onerror = function(){\n",
        "      console.warn(\"failed to load library \" + url);\n",
        "  };\n",
        "  document.getElementsByTagName(\"head\")[0].appendChild(s);\n",
        "    }\n",
        "\n",
        "    bokehjs_url = \"http://cdn.pydata.org/bokeh-0.7.0.min.js\"\n",
        "\n",
        "    var elt = document.getElementById(\"a49f8f88-172c-43fc-c36e-1e4be944b303\");\n",
        "    if(elt==null) {\n",
        "  console.log(\"Bokeh: ERROR: autoload.js configured with elementid 'a49f8f88-172c-43fc-c36e-1e4be944b303'\"\n",
        "        + \"but no matching script tag was found. \")\n",
        "  return false;\n",
        "    }\n",
        "\n",
        "    if(typeof(Bokeh) !== \"undefined\") {\n",
        "  console.log(\"Bokeh: BokehJS loaded, going straight to plotting\");\n",
        "  var modelid = \"49fd7e0a-99e4-42c9-c230-569e198fd904\";\n",
        "  var modeltype = \"Plot\";\n",
        "  var all_models = [{\"type\":\"ColumnDataSource\",\"attributes\":{\"cont_ranges\":{},\"column_names\":[\"y1\",\"x1\",\"y0\",\"x0\"],\"data\":{\"y1\":[17,0,0,0,0,0,0,0,0,0,0,0,0,0,0,0,0,0,0,0,0,0,0,0,0,0,0,0,0,0,0,1,0,1,2,3,2,6,7,7,13,12,5,19,15,22,22,23,38,41,42,39,58,62,73,76,89,80,70,68,81,70,63,56,60,43,49,58,40,36,38,18,23,19,17,19,12,15,8,7,14,11,8,6,4,6,1,3,5,2,2,1,0,1,1,0,1,0,1,1],\"x1\":[-0.10744186046512,0.79413201785295,1.695705896171,2.5972797744891,3.4988536528071,4.4004275311252,5.3020014094433,6.2035752877613,7.1051491660794,8.0067230443975,8.9082969227155,9.8098708010336,10.711444679352,11.61301855767,12.514592435988,13.416166314306,14.317740192624,15.219314070942,16.12088794926,17.022461827578,17.924035705896,18.825609584214,19.727183462532,20.62875734085,21.530331219168,22.431905097486,23.333478975805,24.235052854123,25.136626732441,26.038200610759,26.939774489077,27.841348367395,28.742922245713,29.644496124031,30.546070002349,31.447643880667,32.349217758985,33.250791637303,34.152365515621,35.053939393939,35.955513272257,36.857087150576,37.758661028894,38.660234907212,39.56180878553,40.463382663848,41.364956542166,42.266530420484,43.168104298802,44.06967817712,44.971252055438,45.872825933756,46.774399812074,47.675973690392,48.57754756871,49.479121447028,50.380695325346,51.282269203665,52.183843081983,53.085416960301,53.986990838619,54.888564716937,55.790138595255,56.691712473573,57.593286351891,58.494860230209,59.396434108527,60.298007986845,61.199581865163,62.101155743481,63.002729621799,63.904303500117,64.805877378436,65.707451256754,66.609025135072,67.51059901339,68.412172891708,69.313746770026,70.215320648344,71.116894526662,72.01846840498,72.920042283298,73.821616161616,74.723190039934,75.624763918252,76.52633779657,77.427911674888,78.329485553206,79.231059431525,80.132633309843,81.034207188161,81.935781066479,82.837354944797,83.738928823115,84.640502701433,85.542076579751,86.443650458069,87.345224336387,88.246798214705,89.148372093023],\"y0\":[0,0,0,0,0,0,0,0,0,0,0,0,0,0,0,0,0,0,0,0,0,0,0,0,0,0,0,0,0,0,0,0,0,0,0,0,0,0,0,0,0,0,0,0,0,0,0,0,0,0,0,0,0,0,0,0,0,0,0,0,0,0,0,0,0,0,0,0,0,0,0,0,0,0,0,0,0,0,0,0,0,0,0,0,0,0,0,0,0,0,0,0,0,0,0,0,0,0,0,0],\"x0\":[-1,-0.098426121681936,0.80314775663613,1.7047216349542,2.6062955132723,3.5078693915903,4.4094432699084,5.3110171482265,6.2125910265445,7.1141649048626,8.0157387831806,8.9173126614987,9.8188865398168,10.720460418135,11.622034296453,12.523608174771,13.425182053089,14.326755931407,15.228329809725,16.129903688043,17.031477566361,17.933051444679,18.834625322997,19.736199201315,20.637773079634,21.539346957952,22.44092083627,23.342494714588,24.244068592906,25.145642471224,26.047216349542,26.94879022786,27.850364106178,28.751937984496,29.653511862814,30.555085741132,31.45665961945,32.358233497768,33.259807376086,34.161381254405,35.062955132723,35.964529011041,36.866102889359,37.767676767677,38.669250645995,39.570824524313,40.472398402631,41.373972280949,42.275546159267,43.177120037585,44.078693915903,44.980267794221,45.881841672539,46.783415550857,47.684989429175,48.586563307494,49.488137185812,50.38971106413,51.291284942448,52.192858820766,53.094432699084,53.996006577402,54.89758045572,55.799154334038,56.700728212356,57.602302090674,58.503875968992,59.40544984731,60.307023725628,61.208597603946,62.110171482265,63.011745360583,63.913319238901,64.814893117219,65.716466995537,66.618040873855,67.519614752173,68.421188630491,69.322762508809,70.224336387127,71.125910265445,72.027484143763,72.929058022081,73.830631900399,74.732205778717,75.633779657035,76.535353535354,77.436927413672,78.33850129199,79.240075170308,80.141649048626,81.043222926944,81.944796805262,82.84637068358,83.747944561898,84.649518440216,85.551092318534,86.452666196852,87.35424007517,88.255813953488]},\"selected\":[],\"tags\":[],\"doc\":null,\"discrete_ranges\":{},\"id\":\"71c762a4-7339-4c46-cc34-a9cde1830045\"},\"id\":\"71c762a4-7339-4c46-cc34-a9cde1830045\"},{\"type\":\"Quad\",\"attributes\":{\"right\":{\"units\":\"data\",\"field\":\"x1\"},\"bottom\":{\"units\":\"data\",\"field\":\"y0\"},\"id\":\"c743e878-2950-4f7e-cfc8-7835840a558a\",\"doc\":null,\"fill_color\":{\"value\":\"red\"},\"left\":{\"units\":\"data\",\"field\":\"x0\"},\"fill_alpha\":{\"units\":\"data\",\"value\":0.7},\"line_alpha\":{\"units\":\"data\",\"value\":1},\"tags\":[],\"line_color\":{\"value\":\"red\"},\"top\":{\"units\":\"data\",\"field\":\"y1\"}},\"id\":\"c743e878-2950-4f7e-cfc8-7835840a558a\"},{\"type\":\"Quad\",\"attributes\":{\"right\":{\"units\":\"data\",\"field\":\"x1\"},\"bottom\":{\"units\":\"data\",\"field\":\"y0\"},\"id\":\"80916607-4ec3-4111-c1ce-45221464354c\",\"doc\":null,\"fill_color\":{\"value\":\"red\"},\"left\":{\"units\":\"data\",\"field\":\"x0\"},\"fill_alpha\":{\"units\":\"data\",\"value\":0.7},\"line_alpha\":{\"units\":\"data\",\"value\":1},\"tags\":[],\"line_color\":{\"value\":\"red\"},\"top\":{\"units\":\"data\",\"field\":\"y1\"}},\"id\":\"80916607-4ec3-4111-c1ce-45221464354c\"},{\"type\":\"GlyphRenderer\",\"attributes\":{\"data_source\":{\"type\":\"ColumnDataSource\",\"id\":\"71c762a4-7339-4c46-cc34-a9cde1830045\"},\"id\":\"38bd9b0b-8d2c-432c-c33c-6353b5ddd497\",\"server_data_source\":null,\"doc\":null,\"nonselection_glyph\":{\"type\":\"Quad\",\"id\":\"80916607-4ec3-4111-c1ce-45221464354c\"},\"glyph\":{\"type\":\"Quad\",\"id\":\"c743e878-2950-4f7e-cfc8-7835840a558a\"},\"tags\":[],\"name\":null,\"selection_glyph\":null},\"id\":\"38bd9b0b-8d2c-432c-c33c-6353b5ddd497\"},{\"type\":\"DataRange1d\",\"attributes\":{\"tags\":[],\"doc\":null,\"sources\":[{\"source\":{\"type\":\"ColumnDataSource\",\"id\":\"71c762a4-7339-4c46-cc34-a9cde1830045\"},\"columns\":[\"x1\",\"x0\"]}],\"id\":\"38e71985-908a-4f41-cfdb-a4f2127a8589\"},\"id\":\"38e71985-908a-4f41-cfdb-a4f2127a8589\"},{\"type\":\"DataRange1d\",\"attributes\":{\"tags\":[],\"doc\":null,\"sources\":[{\"source\":{\"type\":\"ColumnDataSource\",\"id\":\"71c762a4-7339-4c46-cc34-a9cde1830045\"},\"columns\":[\"y1\",\"y0\"]}],\"id\":\"fb1c0a8c-3974-4ba7-cb54-d027d9fce98f\"},\"id\":\"fb1c0a8c-3974-4ba7-cb54-d027d9fce98f\"},{\"type\":\"ToolEvents\",\"attributes\":{\"tags\":[],\"doc\":null,\"geometries\":[],\"id\":\"3d45818a-b5bc-48e0-c871-129881dfe385\"},\"id\":\"3d45818a-b5bc-48e0-c871-129881dfe385\"},{\"type\":\"BasicTickFormatter\",\"attributes\":{\"tags\":[],\"doc\":null,\"id\":\"bb20367c-45be-4187-c160-91a65e1b87ee\"},\"id\":\"bb20367c-45be-4187-c160-91a65e1b87ee\"},{\"type\":\"BasicTicker\",\"attributes\":{\"tags\":[],\"doc\":null,\"num_minor_ticks\":5,\"id\":\"75deb4e1-de4b-4277-c2b6-03402a290f7d\"},\"id\":\"75deb4e1-de4b-4277-c2b6-03402a290f7d\"},{\"type\":\"LinearAxis\",\"attributes\":{\"plot\":{\"type\":\"Plot\",\"subtype\":\"Figure\",\"id\":\"49fd7e0a-99e4-42c9-c230-569e198fd904\"},\"ticker\":{\"type\":\"BasicTicker\",\"id\":\"75deb4e1-de4b-4277-c2b6-03402a290f7d\"},\"id\":\"c77fc70e-c027-4bdd-cb74-9efe64b30c3f\",\"tags\":[],\"doc\":null,\"formatter\":{\"type\":\"BasicTickFormatter\",\"id\":\"bb20367c-45be-4187-c160-91a65e1b87ee\"},\"axis_label\":\"value\"},\"id\":\"c77fc70e-c027-4bdd-cb74-9efe64b30c3f\"},{\"type\":\"Grid\",\"attributes\":{\"plot\":{\"type\":\"Plot\",\"subtype\":\"Figure\",\"id\":\"49fd7e0a-99e4-42c9-c230-569e198fd904\"},\"id\":\"6761a806-b16f-4d65-cdfb-ac8a32d052d3\",\"tags\":[],\"doc\":null,\"ticker\":{\"type\":\"BasicTicker\",\"id\":\"75deb4e1-de4b-4277-c2b6-03402a290f7d\"},\"dimension\":0},\"id\":\"6761a806-b16f-4d65-cdfb-ac8a32d052d3\"},{\"type\":\"BasicTickFormatter\",\"attributes\":{\"tags\":[],\"doc\":null,\"id\":\"94195310-aa19-4ca4-ccff-ddd71d30ae2e\"},\"id\":\"94195310-aa19-4ca4-ccff-ddd71d30ae2e\"},{\"type\":\"BasicTicker\",\"attributes\":{\"tags\":[],\"doc\":null,\"num_minor_ticks\":5,\"id\":\"1a51a132-5544-45d0-c517-c7413397c262\"},\"id\":\"1a51a132-5544-45d0-c517-c7413397c262\"},{\"type\":\"LinearAxis\",\"attributes\":{\"plot\":{\"type\":\"Plot\",\"subtype\":\"Figure\",\"id\":\"49fd7e0a-99e4-42c9-c230-569e198fd904\"},\"ticker\":{\"type\":\"BasicTicker\",\"id\":\"1a51a132-5544-45d0-c517-c7413397c262\"},\"id\":\"bb1614d0-945b-49bc-c939-478134e839e5\",\"tags\":[],\"doc\":null,\"formatter\":{\"type\":\"BasicTickFormatter\",\"id\":\"94195310-aa19-4ca4-ccff-ddd71d30ae2e\"},\"axis_label\":\"freq\"},\"id\":\"bb1614d0-945b-49bc-c939-478134e839e5\"},{\"type\":\"Grid\",\"attributes\":{\"plot\":{\"type\":\"Plot\",\"subtype\":\"Figure\",\"id\":\"49fd7e0a-99e4-42c9-c230-569e198fd904\"},\"id\":\"ba89f1af-8906-4b2e-cb32-cc24feeefc78\",\"tags\":[],\"doc\":null,\"ticker\":{\"type\":\"BasicTicker\",\"id\":\"1a51a132-5544-45d0-c517-c7413397c262\"},\"dimension\":1},\"id\":\"ba89f1af-8906-4b2e-cb32-cc24feeefc78\"},{\"type\":\"PanTool\",\"attributes\":{\"plot\":{\"type\":\"Plot\",\"subtype\":\"Figure\",\"id\":\"49fd7e0a-99e4-42c9-c230-569e198fd904\"},\"id\":\"6a3bde1f-0946-44d8-c4ae-464b440e8a88\",\"tags\":[],\"doc\":null,\"dimensions\":[\"width\",\"height\"]},\"id\":\"6a3bde1f-0946-44d8-c4ae-464b440e8a88\"},{\"type\":\"WheelZoomTool\",\"attributes\":{\"plot\":{\"type\":\"Plot\",\"subtype\":\"Figure\",\"id\":\"49fd7e0a-99e4-42c9-c230-569e198fd904\"},\"id\":\"c2b03050-7182-4818-c81f-517947bf8a35\",\"tags\":[],\"doc\":null,\"dimensions\":[\"width\",\"height\"]},\"id\":\"c2b03050-7182-4818-c81f-517947bf8a35\"},{\"type\":\"BoxZoomTool\",\"attributes\":{\"tags\":[],\"doc\":null,\"plot\":{\"type\":\"Plot\",\"subtype\":\"Figure\",\"id\":\"49fd7e0a-99e4-42c9-c230-569e198fd904\"},\"id\":\"70af5f75-a406-4cb3-ccd2-c2d320ffe43a\"},\"id\":\"70af5f75-a406-4cb3-ccd2-c2d320ffe43a\"},{\"type\":\"PreviewSaveTool\",\"attributes\":{\"tags\":[],\"doc\":null,\"plot\":{\"type\":\"Plot\",\"subtype\":\"Figure\",\"id\":\"49fd7e0a-99e4-42c9-c230-569e198fd904\"},\"id\":\"d8f84276-0c60-46a2-c679-e3d3417d7849\"},\"id\":\"d8f84276-0c60-46a2-c679-e3d3417d7849\"},{\"type\":\"ResizeTool\",\"attributes\":{\"tags\":[],\"doc\":null,\"plot\":{\"type\":\"Plot\",\"subtype\":\"Figure\",\"id\":\"49fd7e0a-99e4-42c9-c230-569e198fd904\"},\"id\":\"78b1c040-27e8-48fc-c89a-a00850c8fc2e\"},\"id\":\"78b1c040-27e8-48fc-c89a-a00850c8fc2e\"},{\"type\":\"ResetTool\",\"attributes\":{\"tags\":[],\"doc\":null,\"plot\":{\"type\":\"Plot\",\"subtype\":\"Figure\",\"id\":\"49fd7e0a-99e4-42c9-c230-569e198fd904\"},\"id\":\"58a0b646-0879-4622-c6ba-6be7f1680868\"},\"id\":\"58a0b646-0879-4622-c6ba-6be7f1680868\"},{\"type\":\"Plot\",\"attributes\":{\"right\":[],\"extra_y_ranges\":{},\"x_range\":{\"type\":\"DataRange1d\",\"id\":\"38e71985-908a-4f41-cfdb-a4f2127a8589\"},\"id\":\"49fd7e0a-99e4-42c9-c230-569e198fd904\",\"doc\":null,\"title\":\"ABPd-0->24-mean\",\"renderers\":[{\"type\":\"GlyphRenderer\",\"id\":\"38bd9b0b-8d2c-432c-c33c-6353b5ddd497\"},{\"type\":\"LinearAxis\",\"id\":\"c77fc70e-c027-4bdd-cb74-9efe64b30c3f\"},{\"type\":\"Grid\",\"id\":\"6761a806-b16f-4d65-cdfb-ac8a32d052d3\"},{\"type\":\"LinearAxis\",\"id\":\"bb1614d0-945b-49bc-c939-478134e839e5\"},{\"type\":\"Grid\",\"id\":\"ba89f1af-8906-4b2e-cb32-cc24feeefc78\"}],\"tools\":[{\"type\":\"PanTool\",\"id\":\"6a3bde1f-0946-44d8-c4ae-464b440e8a88\"},{\"type\":\"WheelZoomTool\",\"id\":\"c2b03050-7182-4818-c81f-517947bf8a35\"},{\"type\":\"BoxZoomTool\",\"id\":\"70af5f75-a406-4cb3-ccd2-c2d320ffe43a\"},{\"type\":\"PreviewSaveTool\",\"id\":\"d8f84276-0c60-46a2-c679-e3d3417d7849\"},{\"type\":\"ResizeTool\",\"id\":\"78b1c040-27e8-48fc-c89a-a00850c8fc2e\"},{\"type\":\"ResetTool\",\"id\":\"58a0b646-0879-4622-c6ba-6be7f1680868\"}],\"left\":[{\"type\":\"LinearAxis\",\"id\":\"bb1614d0-945b-49bc-c939-478134e839e5\"}],\"above\":[],\"extra_x_ranges\":{},\"tags\":[],\"tool_events\":{\"type\":\"ToolEvents\",\"id\":\"3d45818a-b5bc-48e0-c871-129881dfe385\"},\"y_range\":{\"type\":\"DataRange1d\",\"id\":\"fb1c0a8c-3974-4ba7-cb54-d027d9fce98f\"},\"below\":[{\"type\":\"LinearAxis\",\"id\":\"c77fc70e-c027-4bdd-cb74-9efe64b30c3f\"}]},\"id\":\"49fd7e0a-99e4-42c9-c230-569e198fd904\"}];\n",
        "  Bokeh.load_models(all_models);\n",
        "  var model = Bokeh.Collections(modeltype).get(modelid);\n",
        "  $(\"#a49f8f88-172c-43fc-c36e-1e4be944b303\").html(''); // clear any previous plot in window_id\n",
        "  var view = new model.default_view({model: model, el: \"#a49f8f88-172c-43fc-c36e-1e4be944b303\"});\n",
        "    } else {\n",
        "  load_lib(bokehjs_url, function() {\n",
        "      console.log(\"Bokeh: BokehJS plotting callback run at\", new Date())\n",
        "      var modelid = \"49fd7e0a-99e4-42c9-c230-569e198fd904\";\n",
        "      var modeltype = \"Plot\";\n",
        "      var all_models = [{\"type\":\"ColumnDataSource\",\"attributes\":{\"cont_ranges\":{},\"column_names\":[\"y1\",\"x1\",\"y0\",\"x0\"],\"data\":{\"y1\":[17,0,0,0,0,0,0,0,0,0,0,0,0,0,0,0,0,0,0,0,0,0,0,0,0,0,0,0,0,0,0,1,0,1,2,3,2,6,7,7,13,12,5,19,15,22,22,23,38,41,42,39,58,62,73,76,89,80,70,68,81,70,63,56,60,43,49,58,40,36,38,18,23,19,17,19,12,15,8,7,14,11,8,6,4,6,1,3,5,2,2,1,0,1,1,0,1,0,1,1],\"x1\":[-0.10744186046512,0.79413201785295,1.695705896171,2.5972797744891,3.4988536528071,4.4004275311252,5.3020014094433,6.2035752877613,7.1051491660794,8.0067230443975,8.9082969227155,9.8098708010336,10.711444679352,11.61301855767,12.514592435988,13.416166314306,14.317740192624,15.219314070942,16.12088794926,17.022461827578,17.924035705896,18.825609584214,19.727183462532,20.62875734085,21.530331219168,22.431905097486,23.333478975805,24.235052854123,25.136626732441,26.038200610759,26.939774489077,27.841348367395,28.742922245713,29.644496124031,30.546070002349,31.447643880667,32.349217758985,33.250791637303,34.152365515621,35.053939393939,35.955513272257,36.857087150576,37.758661028894,38.660234907212,39.56180878553,40.463382663848,41.364956542166,42.266530420484,43.168104298802,44.06967817712,44.971252055438,45.872825933756,46.774399812074,47.675973690392,48.57754756871,49.479121447028,50.380695325346,51.282269203665,52.183843081983,53.085416960301,53.986990838619,54.888564716937,55.790138595255,56.691712473573,57.593286351891,58.494860230209,59.396434108527,60.298007986845,61.199581865163,62.101155743481,63.002729621799,63.904303500117,64.805877378436,65.707451256754,66.609025135072,67.51059901339,68.412172891708,69.313746770026,70.215320648344,71.116894526662,72.01846840498,72.920042283298,73.821616161616,74.723190039934,75.624763918252,76.52633779657,77.427911674888,78.329485553206,79.231059431525,80.132633309843,81.034207188161,81.935781066479,82.837354944797,83.738928823115,84.640502701433,85.542076579751,86.443650458069,87.345224336387,88.246798214705,89.148372093023],\"y0\":[0,0,0,0,0,0,0,0,0,0,0,0,0,0,0,0,0,0,0,0,0,0,0,0,0,0,0,0,0,0,0,0,0,0,0,0,0,0,0,0,0,0,0,0,0,0,0,0,0,0,0,0,0,0,0,0,0,0,0,0,0,0,0,0,0,0,0,0,0,0,0,0,0,0,0,0,0,0,0,0,0,0,0,0,0,0,0,0,0,0,0,0,0,0,0,0,0,0,0,0],\"x0\":[-1,-0.098426121681936,0.80314775663613,1.7047216349542,2.6062955132723,3.5078693915903,4.4094432699084,5.3110171482265,6.2125910265445,7.1141649048626,8.0157387831806,8.9173126614987,9.8188865398168,10.720460418135,11.622034296453,12.523608174771,13.425182053089,14.326755931407,15.228329809725,16.129903688043,17.031477566361,17.933051444679,18.834625322997,19.736199201315,20.637773079634,21.539346957952,22.44092083627,23.342494714588,24.244068592906,25.145642471224,26.047216349542,26.94879022786,27.850364106178,28.751937984496,29.653511862814,30.555085741132,31.45665961945,32.358233497768,33.259807376086,34.161381254405,35.062955132723,35.964529011041,36.866102889359,37.767676767677,38.669250645995,39.570824524313,40.472398402631,41.373972280949,42.275546159267,43.177120037585,44.078693915903,44.980267794221,45.881841672539,46.783415550857,47.684989429175,48.586563307494,49.488137185812,50.38971106413,51.291284942448,52.192858820766,53.094432699084,53.996006577402,54.89758045572,55.799154334038,56.700728212356,57.602302090674,58.503875968992,59.40544984731,60.307023725628,61.208597603946,62.110171482265,63.011745360583,63.913319238901,64.814893117219,65.716466995537,66.618040873855,67.519614752173,68.421188630491,69.322762508809,70.224336387127,71.125910265445,72.027484143763,72.929058022081,73.830631900399,74.732205778717,75.633779657035,76.535353535354,77.436927413672,78.33850129199,79.240075170308,80.141649048626,81.043222926944,81.944796805262,82.84637068358,83.747944561898,84.649518440216,85.551092318534,86.452666196852,87.35424007517,88.255813953488]},\"selected\":[],\"tags\":[],\"doc\":null,\"discrete_ranges\":{},\"id\":\"71c762a4-7339-4c46-cc34-a9cde1830045\"},\"id\":\"71c762a4-7339-4c46-cc34-a9cde1830045\"},{\"type\":\"Quad\",\"attributes\":{\"right\":{\"units\":\"data\",\"field\":\"x1\"},\"bottom\":{\"units\":\"data\",\"field\":\"y0\"},\"id\":\"c743e878-2950-4f7e-cfc8-7835840a558a\",\"doc\":null,\"fill_color\":{\"value\":\"red\"},\"left\":{\"units\":\"data\",\"field\":\"x0\"},\"fill_alpha\":{\"units\":\"data\",\"value\":0.7},\"line_alpha\":{\"units\":\"data\",\"value\":1},\"tags\":[],\"line_color\":{\"value\":\"red\"},\"top\":{\"units\":\"data\",\"field\":\"y1\"}},\"id\":\"c743e878-2950-4f7e-cfc8-7835840a558a\"},{\"type\":\"Quad\",\"attributes\":{\"right\":{\"units\":\"data\",\"field\":\"x1\"},\"bottom\":{\"units\":\"data\",\"field\":\"y0\"},\"id\":\"80916607-4ec3-4111-c1ce-45221464354c\",\"doc\":null,\"fill_color\":{\"value\":\"red\"},\"left\":{\"units\":\"data\",\"field\":\"x0\"},\"fill_alpha\":{\"units\":\"data\",\"value\":0.7},\"line_alpha\":{\"units\":\"data\",\"value\":1},\"tags\":[],\"line_color\":{\"value\":\"red\"},\"top\":{\"units\":\"data\",\"field\":\"y1\"}},\"id\":\"80916607-4ec3-4111-c1ce-45221464354c\"},{\"type\":\"GlyphRenderer\",\"attributes\":{\"data_source\":{\"type\":\"ColumnDataSource\",\"id\":\"71c762a4-7339-4c46-cc34-a9cde1830045\"},\"id\":\"38bd9b0b-8d2c-432c-c33c-6353b5ddd497\",\"server_data_source\":null,\"doc\":null,\"nonselection_glyph\":{\"type\":\"Quad\",\"id\":\"80916607-4ec3-4111-c1ce-45221464354c\"},\"glyph\":{\"type\":\"Quad\",\"id\":\"c743e878-2950-4f7e-cfc8-7835840a558a\"},\"tags\":[],\"name\":null,\"selection_glyph\":null},\"id\":\"38bd9b0b-8d2c-432c-c33c-6353b5ddd497\"},{\"type\":\"DataRange1d\",\"attributes\":{\"tags\":[],\"doc\":null,\"sources\":[{\"source\":{\"type\":\"ColumnDataSource\",\"id\":\"71c762a4-7339-4c46-cc34-a9cde1830045\"},\"columns\":[\"x1\",\"x0\"]}],\"id\":\"38e71985-908a-4f41-cfdb-a4f2127a8589\"},\"id\":\"38e71985-908a-4f41-cfdb-a4f2127a8589\"},{\"type\":\"DataRange1d\",\"attributes\":{\"tags\":[],\"doc\":null,\"sources\":[{\"source\":{\"type\":\"ColumnDataSource\",\"id\":\"71c762a4-7339-4c46-cc34-a9cde1830045\"},\"columns\":[\"y1\",\"y0\"]}],\"id\":\"fb1c0a8c-3974-4ba7-cb54-d027d9fce98f\"},\"id\":\"fb1c0a8c-3974-4ba7-cb54-d027d9fce98f\"},{\"type\":\"ToolEvents\",\"attributes\":{\"tags\":[],\"doc\":null,\"geometries\":[],\"id\":\"3d45818a-b5bc-48e0-c871-129881dfe385\"},\"id\":\"3d45818a-b5bc-48e0-c871-129881dfe385\"},{\"type\":\"BasicTickFormatter\",\"attributes\":{\"tags\":[],\"doc\":null,\"id\":\"bb20367c-45be-4187-c160-91a65e1b87ee\"},\"id\":\"bb20367c-45be-4187-c160-91a65e1b87ee\"},{\"type\":\"BasicTicker\",\"attributes\":{\"tags\":[],\"doc\":null,\"num_minor_ticks\":5,\"id\":\"75deb4e1-de4b-4277-c2b6-03402a290f7d\"},\"id\":\"75deb4e1-de4b-4277-c2b6-03402a290f7d\"},{\"type\":\"LinearAxis\",\"attributes\":{\"plot\":{\"type\":\"Plot\",\"subtype\":\"Figure\",\"id\":\"49fd7e0a-99e4-42c9-c230-569e198fd904\"},\"ticker\":{\"type\":\"BasicTicker\",\"id\":\"75deb4e1-de4b-4277-c2b6-03402a290f7d\"},\"id\":\"c77fc70e-c027-4bdd-cb74-9efe64b30c3f\",\"tags\":[],\"doc\":null,\"formatter\":{\"type\":\"BasicTickFormatter\",\"id\":\"bb20367c-45be-4187-c160-91a65e1b87ee\"},\"axis_label\":\"value\"},\"id\":\"c77fc70e-c027-4bdd-cb74-9efe64b30c3f\"},{\"type\":\"Grid\",\"attributes\":{\"plot\":{\"type\":\"Plot\",\"subtype\":\"Figure\",\"id\":\"49fd7e0a-99e4-42c9-c230-569e198fd904\"},\"id\":\"6761a806-b16f-4d65-cdfb-ac8a32d052d3\",\"tags\":[],\"doc\":null,\"ticker\":{\"type\":\"BasicTicker\",\"id\":\"75deb4e1-de4b-4277-c2b6-03402a290f7d\"},\"dimension\":0},\"id\":\"6761a806-b16f-4d65-cdfb-ac8a32d052d3\"},{\"type\":\"BasicTickFormatter\",\"attributes\":{\"tags\":[],\"doc\":null,\"id\":\"94195310-aa19-4ca4-ccff-ddd71d30ae2e\"},\"id\":\"94195310-aa19-4ca4-ccff-ddd71d30ae2e\"},{\"type\":\"BasicTicker\",\"attributes\":{\"tags\":[],\"doc\":null,\"num_minor_ticks\":5,\"id\":\"1a51a132-5544-45d0-c517-c7413397c262\"},\"id\":\"1a51a132-5544-45d0-c517-c7413397c262\"},{\"type\":\"LinearAxis\",\"attributes\":{\"plot\":{\"type\":\"Plot\",\"subtype\":\"Figure\",\"id\":\"49fd7e0a-99e4-42c9-c230-569e198fd904\"},\"ticker\":{\"type\":\"BasicTicker\",\"id\":\"1a51a132-5544-45d0-c517-c7413397c262\"},\"id\":\"bb1614d0-945b-49bc-c939-478134e839e5\",\"tags\":[],\"doc\":null,\"formatter\":{\"type\":\"BasicTickFormatter\",\"id\":\"94195310-aa19-4ca4-ccff-ddd71d30ae2e\"},\"axis_label\":\"freq\"},\"id\":\"bb1614d0-945b-49bc-c939-478134e839e5\"},{\"type\":\"Grid\",\"attributes\":{\"plot\":{\"type\":\"Plot\",\"subtype\":\"Figure\",\"id\":\"49fd7e0a-99e4-42c9-c230-569e198fd904\"},\"id\":\"ba89f1af-8906-4b2e-cb32-cc24feeefc78\",\"tags\":[],\"doc\":null,\"ticker\":{\"type\":\"BasicTicker\",\"id\":\"1a51a132-5544-45d0-c517-c7413397c262\"},\"dimension\":1},\"id\":\"ba89f1af-8906-4b2e-cb32-cc24feeefc78\"},{\"type\":\"PanTool\",\"attributes\":{\"plot\":{\"type\":\"Plot\",\"subtype\":\"Figure\",\"id\":\"49fd7e0a-99e4-42c9-c230-569e198fd904\"},\"id\":\"6a3bde1f-0946-44d8-c4ae-464b440e8a88\",\"tags\":[],\"doc\":null,\"dimensions\":[\"width\",\"height\"]},\"id\":\"6a3bde1f-0946-44d8-c4ae-464b440e8a88\"},{\"type\":\"WheelZoomTool\",\"attributes\":{\"plot\":{\"type\":\"Plot\",\"subtype\":\"Figure\",\"id\":\"49fd7e0a-99e4-42c9-c230-569e198fd904\"},\"id\":\"c2b03050-7182-4818-c81f-517947bf8a35\",\"tags\":[],\"doc\":null,\"dimensions\":[\"width\",\"height\"]},\"id\":\"c2b03050-7182-4818-c81f-517947bf8a35\"},{\"type\":\"BoxZoomTool\",\"attributes\":{\"tags\":[],\"doc\":null,\"plot\":{\"type\":\"Plot\",\"subtype\":\"Figure\",\"id\":\"49fd7e0a-99e4-42c9-c230-569e198fd904\"},\"id\":\"70af5f75-a406-4cb3-ccd2-c2d320ffe43a\"},\"id\":\"70af5f75-a406-4cb3-ccd2-c2d320ffe43a\"},{\"type\":\"PreviewSaveTool\",\"attributes\":{\"tags\":[],\"doc\":null,\"plot\":{\"type\":\"Plot\",\"subtype\":\"Figure\",\"id\":\"49fd7e0a-99e4-42c9-c230-569e198fd904\"},\"id\":\"d8f84276-0c60-46a2-c679-e3d3417d7849\"},\"id\":\"d8f84276-0c60-46a2-c679-e3d3417d7849\"},{\"type\":\"ResizeTool\",\"attributes\":{\"tags\":[],\"doc\":null,\"plot\":{\"type\":\"Plot\",\"subtype\":\"Figure\",\"id\":\"49fd7e0a-99e4-42c9-c230-569e198fd904\"},\"id\":\"78b1c040-27e8-48fc-c89a-a00850c8fc2e\"},\"id\":\"78b1c040-27e8-48fc-c89a-a00850c8fc2e\"},{\"type\":\"ResetTool\",\"attributes\":{\"tags\":[],\"doc\":null,\"plot\":{\"type\":\"Plot\",\"subtype\":\"Figure\",\"id\":\"49fd7e0a-99e4-42c9-c230-569e198fd904\"},\"id\":\"58a0b646-0879-4622-c6ba-6be7f1680868\"},\"id\":\"58a0b646-0879-4622-c6ba-6be7f1680868\"},{\"type\":\"Plot\",\"attributes\":{\"right\":[],\"extra_y_ranges\":{},\"x_range\":{\"type\":\"DataRange1d\",\"id\":\"38e71985-908a-4f41-cfdb-a4f2127a8589\"},\"id\":\"49fd7e0a-99e4-42c9-c230-569e198fd904\",\"doc\":null,\"title\":\"ABPd-0->24-mean\",\"renderers\":[{\"type\":\"GlyphRenderer\",\"id\":\"38bd9b0b-8d2c-432c-c33c-6353b5ddd497\"},{\"type\":\"LinearAxis\",\"id\":\"c77fc70e-c027-4bdd-cb74-9efe64b30c3f\"},{\"type\":\"Grid\",\"id\":\"6761a806-b16f-4d65-cdfb-ac8a32d052d3\"},{\"type\":\"LinearAxis\",\"id\":\"bb1614d0-945b-49bc-c939-478134e839e5\"},{\"type\":\"Grid\",\"id\":\"ba89f1af-8906-4b2e-cb32-cc24feeefc78\"}],\"tools\":[{\"type\":\"PanTool\",\"id\":\"6a3bde1f-0946-44d8-c4ae-464b440e8a88\"},{\"type\":\"WheelZoomTool\",\"id\":\"c2b03050-7182-4818-c81f-517947bf8a35\"},{\"type\":\"BoxZoomTool\",\"id\":\"70af5f75-a406-4cb3-ccd2-c2d320ffe43a\"},{\"type\":\"PreviewSaveTool\",\"id\":\"d8f84276-0c60-46a2-c679-e3d3417d7849\"},{\"type\":\"ResizeTool\",\"id\":\"78b1c040-27e8-48fc-c89a-a00850c8fc2e\"},{\"type\":\"ResetTool\",\"id\":\"58a0b646-0879-4622-c6ba-6be7f1680868\"}],\"left\":[{\"type\":\"LinearAxis\",\"id\":\"bb1614d0-945b-49bc-c939-478134e839e5\"}],\"above\":[],\"extra_x_ranges\":{},\"tags\":[],\"tool_events\":{\"type\":\"ToolEvents\",\"id\":\"3d45818a-b5bc-48e0-c871-129881dfe385\"},\"y_range\":{\"type\":\"DataRange1d\",\"id\":\"fb1c0a8c-3974-4ba7-cb54-d027d9fce98f\"},\"below\":[{\"type\":\"LinearAxis\",\"id\":\"c77fc70e-c027-4bdd-cb74-9efe64b30c3f\"}]},\"id\":\"49fd7e0a-99e4-42c9-c230-569e198fd904\"}];\n",
        "      Bokeh.load_models(all_models);\n",
        "      var model = Bokeh.Collections(modeltype).get(modelid);\n",
        "      $(\"#a49f8f88-172c-43fc-c36e-1e4be944b303\").html(''); // clear any previous plot in window_id\n",
        "      var view = new model.default_view({model: model, el: \"#a49f8f88-172c-43fc-c36e-1e4be944b303\"});\n",
        "  });\n",
        "    }\n",
        "});\n",
        "</script>\n",
        "<div class=\"plotdiv\" id=\"90cd3bab-7862-4102-c12a-1a4193098f73\"></div>\n"
       ],
       "metadata": {},
       "output_type": "display_data"
      }
     ],
     "prompt_number": 7
    },
    {
     "cell_type": "code",
     "collapsed": false,
     "input": [
      "X_train, y_train, X_test, y_test = helpers.split_data(X, y, 0.9)\n",
      "X_train, y_train, X_valid, y_valid = helpers.split_data(X_train, y_train, 0.8)\n",
      "print(X_train:size())\n",
      "\n",
      "\n",
      "datasets = {train={X_train, y_train}, valid={X_valid, y_valid}, test={X_test, y_test}}\n",
      "for k, v in pairs(datasets) do\n",
      "    inputs = datasets[k][1]\n",
      "    targets = datasets[k][2]\n",
      "    \n",
      "    if torch.max(targets) == 1 then\n",
      "        targets:add(1)\n",
      "    end\n",
      "\n",
      "    \n",
      "    torch.ne(col_view, nan_value)\n",
      "    \n",
      "    inputs_v = dp.DataView(inputs)\n",
      "    targets_v = dp.ClassView(targets)\n",
      "    targets_v:setClasses({0, 1})\n",
      "    \n",
      "    inputs_v:forward('bf', inputs)\n",
      "    targets_v:forward('b', targets)\n",
      "    datasets[k] = dp.DataSet({inputs = inputs_v, targets=targets_v, which_set=k})\n",
      "end\n"
     ],
     "language": "python",
     "metadata": {},
     "outputs": [
      {
       "metadata": {},
       "output_type": "pyout",
       "prompt_number": 8,
       "text": [
        "\n",
        " 1232\n",
        "  752\n",
        "[torch.LongStorage of size 2]\n",
        "\n"
       ]
      }
     ],
     "prompt_number": 8
    },
    {
     "cell_type": "code",
     "collapsed": false,
     "input": [
      "datasource = dp.DataSource({train_set=datasets['train'], \n",
      "                            valid_set=datasets['valid'], \n",
      "                            test_set=datasets['test'],\n",
      "                            input_preprocess = dp.Standardize()})\n",
      "\n",
      "datasource._classes = {0, 1}\n",
      "datasource._feature_size = X:size(2)\n",
      "datasource._name = \"health\""
     ],
     "language": "python",
     "metadata": {},
     "outputs": [],
     "prompt_number": 9
    },
    {
     "cell_type": "code",
     "collapsed": false,
     "input": [
      "-- hyperparams\n",
      "opt= {\n",
      "    nHidden = {256},\n",
      "    momentum = 0.5,\n",
      "    learningRate = 0.1,\n",
      "    batchSize = 100,\n",
      "    progress = false,\n",
      "    maxEpoch = 60,\n",
      "    maxTries = 10\n",
      "}"
     ],
     "language": "python",
     "metadata": {},
     "outputs": [],
     "prompt_number": 10
    },
    {
     "cell_type": "code",
     "collapsed": false,
     "input": [
      "mlp = dp.Sequential{\n",
      "   models = {\n",
      "      dp.Neural{\n",
      "         input_size = datasource:featureSize(), \n",
      "         output_size = opt.nHidden[1], \n",
      "         transfer = nn.ReLU(),\n",
      "       --  dropout = nn.Dropout(0.1)\n",
      "      },    \n",
      "      --dp.Neural{\n",
      "      --   input_size = opt.nHidden[1], \n",
      "       --  output_size = opt.nHidden[2], \n",
      "        -- transfer = nn.ReLU(),\n",
      "    --     dropout = nn.Dropout(0.5)\n",
      "      --},\n",
      "    --  dp.Neural{\n",
      "     --    input_size = opt.nHidden[2], \n",
      "    --     output_size = opt.nHidden[3], \n",
      "    --     transfer = nn.ReLU(),\n",
      "         --dropout = nn.Dropout(0.1)\n",
      "    --  },\n",
      "      dp.Neural{\n",
      "         input_size = opt.nHidden[1],\n",
      "         output_size = #(datasource:classes()),\n",
      "         transfer = nn.LogSoftMax(),\n",
      "      }\n",
      "   }\n",
      "}"
     ],
     "language": "python",
     "metadata": {},
     "outputs": [],
     "prompt_number": 11
    },
    {
     "cell_type": "code",
     "collapsed": false,
     "input": [
      "--[[Propagators]]--\n",
      "train = dp.Optimizer{\n",
      "   loss = dp.NLL(),\n",
      "   visitor = { -- the ordering here is important:\n",
      "      dp.Momentum{momentum_factor = opt.momentum},\n",
      "      dp.Learn{\n",
      "         learning_rate = opt.learningRate, \n",
      "         --observer = dp.LearningRateSchedule{\n",
      "         --   schedule = {[200]=0.01, [400]=0.001}\n",
      "         --}\n",
      "      },\n",
      "     -- dp.WeightDecay{\n",
      "      --  wd_factor=0.001\n",
      "      --}\n",
      "      --dp.MaxNorm{max_out_norm = opt.maxOutNorm}\n",
      "   },\n",
      "   feedback = dp.Confusion(),\n",
      "   sampler = dp.ShuffleSampler{batch_size = opt.batchSize},\n",
      "   progress = opt.progress\n",
      "}\n",
      "\n",
      "valid = dp.Evaluator{\n",
      "   loss = dp.NLL(),\n",
      "   feedback = dp.Confusion(),  \n",
      "   sampler = dp.Sampler()\n",
      "}\n",
      "test = dp.Evaluator{\n",
      "   loss = dp.NLL(),\n",
      "   feedback = dp.Confusion(),\n",
      "   sampler = dp.Sampler()\n",
      "}\n"
     ],
     "language": "python",
     "metadata": {},
     "outputs": [],
     "prompt_number": 12
    },
    {
     "cell_type": "code",
     "collapsed": false,
     "input": [
      "--[[Experiment]]--\n",
      "xp = dp.Experiment{\n",
      "   model = mlp,\n",
      "   optimizer = train,\n",
      "   validator = valid,\n",
      "   tester = test,\n",
      "   observer = {\n",
      "    --  dp.EarlyStopper{\n",
      "    --     error_report =  {'validator','feedback','confusion','accuracy'},\n",
      "    --     maximize = true,\n",
      "     --    max_epochs = opt.maxTries\n",
      "    --  },\n",
      "      dp.SaveReport(),\n",
      "\n",
      "   },\n",
      "   random_seed = os.time(),\n",
      "   max_epoch = opt.maxEpoch\n",
      "}\n",
      "xp:run(datasource)"
     ],
     "language": "python",
     "metadata": {},
     "outputs": [
      {
       "metadata": {},
       "output_type": "pyout",
       "prompt_number": 14,
       "text": [
        "mehdi:1423422855:1:optimizer:loss avgError 0\t\n",
        "mehdi:1423422855:1:validator:loss avgError 0\t\n",
        "mehdi:1423422855:1:tester:loss avgError 0\t\n",
        "==> epoch # 1 for optimizer\t\n"
       ]
      },
      {
       "metadata": {},
       "output_type": "pyout",
       "prompt_number": 14,
       "text": [
        "\n",
        "==> epoch size = 1541 examples\t\n",
        "==> batch duration = 1.5172888751466 ms\t\n",
        "==> epoch duration = 2.338142156601 s\t\n",
        "==> example speed = 659.07027750623 examples/s\t\n",
        "==> batch speed = 7.2707298621712 batches/s\t\n"
       ]
      },
      {
       "metadata": {},
       "output_type": "pyout",
       "prompt_number": 14,
       "text": [
        "mehdi:1423422855:1:optimizer:loss avgError 0.59568653576029\t\n",
        "mehdi:1423422855:1:validator:loss avgError 0.4984712341448\t\n"
       ]
      },
      {
       "metadata": {},
       "output_type": "pyout",
       "prompt_number": 14,
       "text": [
        "mehdi:1423422855:1:tester:loss avgError 0.53789069364366\t\n",
        "mehdi:1423422855:1:optimizer:confusion accuracy = 0.68202465931213\t\n",
        "mehdi:1423422855:1:validator:confusion accuracy = 0.78497409326425\t\n",
        "mehdi:1423422855:1:tester:confusion accuracy = 0.72093023255814\t\n",
        "==> epoch # 2 for optimizer\t\n"
       ]
      },
      {
       "metadata": {},
       "output_type": "pyout",
       "prompt_number": 14,
       "text": [
        "\n",
        "==> epoch size = 1541 examples\t\n",
        "==> batch duration = 0.89571384699758 ms\t\n",
        "==> epoch duration = 1.3802950382233 s\t\n",
        "==> example speed = 1116.4279790382 examples/s\t\n",
        "==> batch speed = 12.316207426119 batches/s\t\n"
       ]
      },
      {
       "metadata": {},
       "output_type": "pyout",
       "prompt_number": 14,
       "text": [
        "mehdi:1423422855:1:optimizer:loss avgError 0.51899142252319\t\n",
        "mehdi:1423422855:1:validator:loss avgError 0.50723967656566\t\n",
        "mehdi:1423422855:1:tester:loss avgError 0.60624076870597\t\n",
        "mehdi:1423422855:1:optimizer:confusion accuracy = 0.744970798183\t\n",
        "mehdi:1423422855:1:validator:confusion accuracy = 0.74611398963731\t\n",
        "mehdi:1423422855:1:tester:confusion accuracy = 0.71162790697674\t\n"
       ]
      },
      {
       "metadata": {},
       "output_type": "pyout",
       "prompt_number": 14,
       "text": [
        "==> epoch # 3 for optimizer\t\n"
       ]
      },
      {
       "metadata": {},
       "output_type": "pyout",
       "prompt_number": 14,
       "text": [
        "\n",
        "==> epoch size = 1541 examples\t\n",
        "==> batch duration = 0.87983913037933 ms\t\n",
        "==> epoch duration = 1.3558320999146 s\t\n",
        "==> example speed = 1136.5714088766 examples/s\t\n",
        "==> batch speed = 12.538425665738 batches/s\t\n"
       ]
      },
      {
       "metadata": {},
       "output_type": "pyout",
       "prompt_number": 14,
       "text": [
        "mehdi:1423422855:1:optimizer:loss avgError 0.49417484738207\t\n",
        "mehdi:1423422855:1:validator:loss avgError 0.51164354850882\t\n",
        "mehdi:1423422855:1:tester:loss avgError 0.54577730325798\t\n"
       ]
      },
      {
       "metadata": {},
       "output_type": "pyout",
       "prompt_number": 14,
       "text": [
        "mehdi:1423422855:1:optimizer:confusion accuracy = 0.77611940298507\t\n",
        "mehdi:1423422855:1:validator:confusion accuracy = 0.76683937823834\t\n",
        "mehdi:1423422855:1:tester:confusion accuracy = 0.73023255813953\t\n",
        "==> epoch # 4 for optimizer\t\n"
       ]
      },
      {
       "metadata": {},
       "output_type": "pyout",
       "prompt_number": 14,
       "text": [
        "\n",
        "==> epoch size = 1541 examples\t"
       ]
      },
      {
       "metadata": {},
       "output_type": "pyout",
       "prompt_number": 14,
       "text": [
        "\n",
        "==> batch duration = 0.88727652136959 ms\t\n",
        "==> epoch duration = 1.3672931194305 s\t\n",
        "==> example speed = 1127.0443609354 examples/s\t\n",
        "==> batch speed = 12.433325201754 batches/s\t\n"
       ]
      },
      {
       "metadata": {},
       "output_type": "pyout",
       "prompt_number": 14,
       "text": [
        "mehdi:1423422855:1:optimizer:loss avgError 0.45393245831709\t\n",
        "mehdi:1423422855:1:validator:loss avgError 0.4862250529046\t\n",
        "mehdi:1423422855:1:tester:loss avgError 0.50065046689054\t\n"
       ]
      },
      {
       "metadata": {},
       "output_type": "pyout",
       "prompt_number": 14,
       "text": [
        "mehdi:1423422855:1:optimizer:confusion accuracy = 0.79234263465282\t\n",
        "mehdi:1423422855:1:validator:confusion accuracy = 0.7720207253886\t\n",
        "mehdi:1423422855:1:tester:confusion accuracy = 0.78139534883721\t\n",
        "==> epoch # 5 for optimizer\t\n"
       ]
      },
      {
       "metadata": {},
       "output_type": "pyout",
       "prompt_number": 14,
       "text": [
        "\n",
        "==> epoch size = 1541 examples\t\n",
        "==> batch duration = 0.88486696202441 ms\t\n",
        "==> epoch duration = 1.3635799884796 s\t\n",
        "==> example speed = 1130.1133875675 examples/s\t\n",
        "==> batch speed = 12.467182082186 batches/s\t\n"
       ]
      },
      {
       "metadata": {},
       "output_type": "pyout",
       "prompt_number": 14,
       "text": [
        "mehdi:1423422855:1:optimizer:loss avgError 0.43085070459783\t\n",
        "mehdi:1423422855:1:validator:loss avgError 0.48775165763492\t\n",
        "mehdi:1423422855:1:tester:loss avgError 0.58762363385015\t\n"
       ]
      },
      {
       "metadata": {},
       "output_type": "pyout",
       "prompt_number": 14,
       "text": [
        "mehdi:1423422855:1:optimizer:confusion accuracy = 0.80726800778715\t\n",
        "mehdi:1423422855:1:validator:confusion accuracy = 0.75906735751295\t\n",
        "mehdi:1423422855:1:tester:confusion accuracy = 0.74418604651163\t\n"
       ]
      },
      {
       "metadata": {},
       "output_type": "pyout",
       "prompt_number": 14,
       "text": [
        "==> epoch # 6 for optimizer\t\n"
       ]
      },
      {
       "metadata": {},
       "output_type": "pyout",
       "prompt_number": 14,
       "text": [
        "\n",
        "==> epoch size = 1541 examples\t\n",
        "==> batch duration = 0.88764304545388 ms\t\n",
        "==> epoch duration = 1.3678579330444 s\t\n",
        "==> example speed = 1126.5789836597 examples/s\t\n",
        "==> batch speed = 12.42819125387 batches/s\t\n"
       ]
      },
      {
       "metadata": {},
       "output_type": "pyout",
       "prompt_number": 14,
       "text": [
        "mehdi:1423422855:1:optimizer:loss avgError 0.40421460487871\t\n",
        "mehdi:1423422855:1:validator:loss avgError 0.54272504451873\t\n",
        "mehdi:1423422855:1:tester:loss avgError 0.57507053878737\t\n",
        "mehdi:1423422855:1:optimizer:confusion accuracy = 0.81505515898767\t\n",
        "mehdi:1423422855:1:validator:confusion accuracy = 0.71243523316062\t\n"
       ]
      },
      {
       "metadata": {},
       "output_type": "pyout",
       "prompt_number": 14,
       "text": [
        "mehdi:1423422855:1:tester:confusion accuracy = 0.72558139534884\t\n",
        "==> epoch # 7 for optimizer\t\n"
       ]
      },
      {
       "metadata": {},
       "output_type": "pyout",
       "prompt_number": 14,
       "text": [
        "\n",
        "==> epoch size = 1541 examples\t\n",
        "==> batch duration = 0.88097475164514 ms\t\n",
        "==> epoch duration = 1.3575820922852 s\t\n",
        "==> example speed = 1135.1063105187 examples/s\t\n",
        "==> batch speed = 12.522262997286 batches/s\t\n"
       ]
      },
      {
       "metadata": {},
       "output_type": "pyout",
       "prompt_number": 14,
       "text": [
        "mehdi:1423422855:1:optimizer:loss avgError 0.38802867793109\t\n",
        "mehdi:1423422855:1:validator:loss avgError 0.52096273663038\t\n",
        "mehdi:1423422855:1:tester:loss avgError 0.56794788010831\t\n",
        "mehdi:1423422855:1:optimizer:confusion accuracy = 0.8234912394549\t\n",
        "mehdi:1423422855:1:validator:confusion accuracy = 0.77979274611399\t\n",
        "mehdi:1423422855:1:tester:confusion accuracy = 0.73953488372093\t\n"
       ]
      },
      {
       "metadata": {},
       "output_type": "pyout",
       "prompt_number": 14,
       "text": [
        "==> epoch # 8 for optimizer\t\n"
       ]
      },
      {
       "metadata": {},
       "output_type": "pyout",
       "prompt_number": 14,
       "text": [
        "\n",
        "==> epoch size = 1541 examples\t\n",
        "==> batch duration = 0.87534971317635 ms\t\n",
        "==> epoch duration = 1.3489139080048 s\t\n",
        "==> example speed = 1142.4005571114 examples/s\t\n",
        "==> batch speed = 12.602731648861 batches/s\t\n"
       ]
      },
      {
       "metadata": {},
       "output_type": "pyout",
       "prompt_number": 14,
       "text": [
        "mehdi:1423422855:1:optimizer:loss avgError 0.37225758801662\t\n",
        "mehdi:1423422855:1:validator:loss avgError 0.56266343102748\t\n",
        "mehdi:1423422855:1:tester:loss avgError 0.61633933325066\t\n",
        "mehdi:1423422855:1:optimizer:confusion accuracy = 0.84166125892278\t\n",
        "mehdi:1423422855:1:validator:confusion accuracy = 0.74093264248705\t\n",
        "mehdi:1423422855:1:tester:confusion accuracy = 0.71627906976744\t\n"
       ]
      },
      {
       "metadata": {},
       "output_type": "pyout",
       "prompt_number": 14,
       "text": [
        "==> epoch # 9 for optimizer\t\n"
       ]
      },
      {
       "metadata": {},
       "output_type": "pyout",
       "prompt_number": 14,
       "text": [
        "\n",
        "==> epoch size = 1541 examples\t\n",
        "==> batch duration = 0.86091757594263 ms\t\n",
        "==> epoch duration = 1.3266739845276 s\t\n",
        "==> example speed = 1161.5513818557 examples/s\t\n",
        "==> batch speed = 12.81399967005 batches/s\t\n"
       ]
      },
      {
       "metadata": {},
       "output_type": "pyout",
       "prompt_number": 14,
       "text": [
        "mehdi:1423422855:1:optimizer:loss avgError 0.37235004519389\t\n",
        "mehdi:1423422855:1:validator:loss avgError 0.5351923858296\t\n",
        "mehdi:1423422855:1:tester:loss avgError 0.59163084771574\t\n"
       ]
      },
      {
       "metadata": {},
       "output_type": "pyout",
       "prompt_number": 14,
       "text": [
        "mehdi:1423422855:1:optimizer:confusion accuracy = 0.84879948085659\t\n",
        "mehdi:1423422855:1:validator:confusion accuracy = 0.73834196891192\t\n",
        "mehdi:1423422855:1:tester:confusion accuracy = 0.72093023255814\t\n",
        "==> epoch # 10 for optimizer\t\n"
       ]
      },
      {
       "metadata": {},
       "output_type": "pyout",
       "prompt_number": 14,
       "text": [
        "\n",
        "==> epoch size = 1541 examples\t\n",
        "==> batch duration = 0.86794295611125 ms\t\n",
        "==> epoch duration = 1.3375000953674 s\t\n",
        "==> example speed = 1152.1494505589 examples/s\t\n",
        "==> batch speed = 12.710279467554 batches/s\t\n"
       ]
      },
      {
       "metadata": {},
       "output_type": "pyout",
       "prompt_number": 14,
       "text": [
        "mehdi:1423422855:1:optimizer:loss avgError 0.33000716782505\t\n",
        "mehdi:1423422855:1:validator:loss avgError 0.56405580626953\t\n",
        "mehdi:1423422855:1:tester:loss avgError 0.75529513887086\t\n",
        "mehdi:1423422855:1:optimizer:confusion accuracy = 0.86307592472421\t\n"
       ]
      },
      {
       "metadata": {},
       "output_type": "pyout",
       "prompt_number": 14,
       "text": [
        "mehdi:1423422855:1:validator:confusion accuracy = 0.75388601036269\t\n",
        "mehdi:1423422855:1:tester:confusion accuracy = 0.69302325581395\t\n",
        "==> epoch # 11 for optimizer\t\n"
       ]
      },
      {
       "metadata": {},
       "output_type": "pyout",
       "prompt_number": 14,
       "text": [
        "\n",
        "==> epoch size = 1541 examples\t\n",
        "==> batch duration = 0.8712874690408 ms\t\n",
        "==> epoch duration = 1.3426539897919 s\t\n",
        "==> example speed = 1147.726824421 examples/s\t\n",
        "==> batch speed = 12.661489951432 batches/s\t\n"
       ]
      },
      {
       "metadata": {},
       "output_type": "pyout",
       "prompt_number": 14,
       "text": [
        "mehdi:1423422855:1:optimizer:loss avgError 0.35657163835436\t\n",
        "mehdi:1423422855:1:validator:loss avgError 0.56898159748587\t\n",
        "mehdi:1423422855:1:tester:loss avgError 0.65022167141785\t\n"
       ]
      },
      {
       "metadata": {},
       "output_type": "pyout",
       "prompt_number": 14,
       "text": [
        "mehdi:1423422855:1:optimizer:confusion accuracy = 0.86048020765737\t\n",
        "mehdi:1423422855:1:validator:confusion accuracy = 0.73575129533679\t\n",
        "mehdi:1423422855:1:tester:confusion accuracy = 0.70697674418605\t\n"
       ]
      },
      {
       "metadata": {},
       "output_type": "pyout",
       "prompt_number": 14,
       "text": [
        "==> epoch # 12 for optimizer\t\n"
       ]
      },
      {
       "metadata": {},
       "output_type": "pyout",
       "prompt_number": 14,
       "text": [
        "\n",
        "==> epoch size = 1541 examples\t\n",
        "==> batch duration = 0.95290460035756 ms\t\n",
        "==> epoch duration = 1.468425989151 s\t\n",
        "==> example speed = 1049.4229953605 examples/s\t\n",
        "==> batch speed = 11.577022012413 batches/s\t\n"
       ]
      },
      {
       "metadata": {},
       "output_type": "pyout",
       "prompt_number": 14,
       "text": [
        "mehdi:1423422855:1:optimizer:loss avgError 0.31204527385497\t\n",
        "mehdi:1423422855:1:validator:loss avgError 0.57080254634627\t\n",
        "mehdi:1423422855:1:tester:loss avgError 0.62636758820288\t\n"
       ]
      },
      {
       "metadata": {},
       "output_type": "pyout",
       "prompt_number": 14,
       "text": [
        "mehdi:1423422855:1:optimizer:confusion accuracy = 0.87475665152498\t\n",
        "mehdi:1423422855:1:validator:confusion accuracy = 0.74352331606218\t\n",
        "mehdi:1423422855:1:tester:confusion accuracy = 0.72093023255814\t\n"
       ]
      },
      {
       "metadata": {},
       "output_type": "pyout",
       "prompt_number": 14,
       "text": [
        "==> epoch # 13 for optimizer\t\n"
       ]
      },
      {
       "metadata": {},
       "output_type": "pyout",
       "prompt_number": 14,
       "text": [
        "\n",
        "==> epoch size = 1541 examples\t\n",
        "==> batch duration = 0.86965659931834 ms\t\n"
       ]
      },
      {
       "metadata": {},
       "output_type": "pyout",
       "prompt_number": 14,
       "text": [
        "==> epoch duration = 1.3401408195496 s\t\n",
        "==> example speed = 1149.8791601005 examples/s\t\n",
        "==> batch speed = 12.685234082873 batches/s\t\n"
       ]
      },
      {
       "metadata": {},
       "output_type": "pyout",
       "prompt_number": 14,
       "text": [
        "mehdi:1423422855:1:optimizer:loss avgError 0.29171075711137\t\n",
        "mehdi:1423422855:1:validator:loss avgError 0.55434881169743\t\n",
        "mehdi:1423422855:1:tester:loss avgError 0.65912804925236\t\n"
       ]
      },
      {
       "metadata": {},
       "output_type": "pyout",
       "prompt_number": 14,
       "text": [
        "mehdi:1423422855:1:optimizer:confusion accuracy = 0.8825438027255\t\n"
       ]
      },
      {
       "metadata": {},
       "output_type": "pyout",
       "prompt_number": 14,
       "text": [
        "mehdi:1423422855:1:validator:confusion accuracy = 0.75906735751295\t\n",
        "mehdi:1423422855:1:tester:confusion accuracy = 0.74418604651163\t\n",
        "==> epoch # 14 for optimizer\t\n"
       ]
      },
      {
       "metadata": {},
       "output_type": "pyout",
       "prompt_number": 14,
       "text": [
        "\n",
        "==> epoch size = 1541 examples\t\n",
        "==> batch duration = 0.8556476125154 ms\t\n",
        "==> epoch duration = 1.3185529708862 s\t\n",
        "==> example speed = 1168.7054172456 examples/s\t\n",
        "==> batch speed = 12.892921540023 batches/s\t\n"
       ]
      },
      {
       "metadata": {},
       "output_type": "pyout",
       "prompt_number": 14,
       "text": [
        "mehdi:1423422855:1:optimizer:loss avgError 0.28214271771903\t\n",
        "mehdi:1423422855:1:validator:loss avgError 0.62206751335528\t\n",
        "mehdi:1423422855:1:tester:loss avgError 0.66650373880731\t\n"
       ]
      },
      {
       "metadata": {},
       "output_type": "pyout",
       "prompt_number": 14,
       "text": [
        "mehdi:1423422855:1:optimizer:confusion accuracy = 0.8825438027255\t\n",
        "mehdi:1423422855:1:validator:confusion accuracy = 0.74352331606218\t\n",
        "mehdi:1423422855:1:tester:confusion accuracy = 0.70697674418605\t\n"
       ]
      },
      {
       "metadata": {},
       "output_type": "pyout",
       "prompt_number": 14,
       "text": [
        "==> epoch # 15 for optimizer\t\n"
       ]
      },
      {
       "metadata": {},
       "output_type": "pyout",
       "prompt_number": 14,
       "text": [
        "\n",
        "==> epoch size = 1541 examples\t\n",
        "==> batch duration = 0.87776963854672 ms\t\n",
        "==> epoch duration = 1.3526430130005 s\t\n",
        "==> example speed = 1139.2510700822 examples/s\t\n",
        "==> batch speed = 12.567987145618 batches/s\t\n"
       ]
      },
      {
       "metadata": {},
       "output_type": "pyout",
       "prompt_number": 14,
       "text": [
        "mehdi:1423422855:1:optimizer:loss avgError 0.27063264125091\t\n",
        "mehdi:1423422855:1:validator:loss avgError 0.61755659763953\t\n",
        "mehdi:1423422855:1:tester:loss avgError 0.66987384665463\t\n",
        "mehdi:1423422855:1:optimizer:confusion accuracy = 0.90006489292667\t\n",
        "mehdi:1423422855:1:validator:confusion accuracy = 0.71243523316062\t\n"
       ]
      },
      {
       "metadata": {},
       "output_type": "pyout",
       "prompt_number": 14,
       "text": [
        "mehdi:1423422855:1:tester:confusion accuracy = 0.71162790697674\t\n",
        "==> epoch # 16 for optimizer\t\n"
       ]
      },
      {
       "metadata": {},
       "output_type": "pyout",
       "prompt_number": 14,
       "text": [
        "\n",
        "==> epoch size = 1541 examples\t\n",
        "==> batch duration = 0.85866969564687 ms\t\n",
        "==> epoch duration = 1.3232100009918 s\t\n",
        "==> example speed = 1164.5921651476 examples/s\t\n",
        "==> batch speed = 12.847544975671 batches/s\t\n"
       ]
      },
      {
       "metadata": {},
       "output_type": "pyout",
       "prompt_number": 14,
       "text": [
        "mehdi:1423422855:1:optimizer:loss avgError 0.25677280871459\t\n",
        "mehdi:1423422855:1:validator:loss avgError 0.62559823505497\t\n",
        "mehdi:1423422855:1:tester:loss avgError 0.80873696711314\t\n",
        "mehdi:1423422855:1:optimizer:confusion accuracy = 0.90395846852693\t\n",
        "mehdi:1423422855:1:validator:confusion accuracy = 0.70984455958549\t\n",
        "mehdi:1423422855:1:tester:confusion accuracy = 0.69767441860465\t\n"
       ]
      },
      {
       "metadata": {},
       "output_type": "pyout",
       "prompt_number": 14,
       "text": [
        "==> epoch # 17 for optimizer\t\n"
       ]
      },
      {
       "metadata": {},
       "output_type": "pyout",
       "prompt_number": 14,
       "text": [
        "\n",
        "==> epoch size = 1541 examples\t\n",
        "==> batch duration = 0.95951518480225 ms\t\n",
        "==> epoch duration = 1.4786128997803 s\t\n",
        "==> example speed = 1042.1929906259 examples/s\t\n",
        "==> batch speed = 11.49726206401 batches/s\t\n"
       ]
      },
      {
       "metadata": {},
       "output_type": "pyout",
       "prompt_number": 14,
       "text": [
        "mehdi:1423422855:1:optimizer:loss avgError 0.24734079323281\t\n",
        "mehdi:1423422855:1:validator:loss avgError 0.66279872161385\t\n",
        "mehdi:1423422855:1:tester:loss avgError 0.73693504089659\t\n",
        "mehdi:1423422855:1:optimizer:confusion accuracy = 0.90979883192732\t\n"
       ]
      },
      {
       "metadata": {},
       "output_type": "pyout",
       "prompt_number": 14,
       "text": [
        "mehdi:1423422855:1:validator:confusion accuracy = 0.70984455958549\t\n",
        "mehdi:1423422855:1:tester:confusion accuracy = 0.68837209302326\t\n",
        "==> epoch # 18 for optimizer\t\n"
       ]
      },
      {
       "metadata": {},
       "output_type": "pyout",
       "prompt_number": 14,
       "text": [
        "\n",
        "==> epoch size = 1541 examples\t\n",
        "==> batch duration = 0.92971843221913 ms\t\n",
        "==> epoch duration = 1.4326961040497 s\t\n",
        "==> example speed = 1075.594465319 examples/s\t\n",
        "==> batch speed = 11.865740370165 batches/s\t\n"
       ]
      },
      {
       "metadata": {},
       "output_type": "pyout",
       "prompt_number": 14,
       "text": [
        "mehdi:1423422855:1:optimizer:loss avgError 0.24197119162598\t\n",
        "mehdi:1423422855:1:validator:loss avgError 0.6195609708152\t\n",
        "mehdi:1423422855:1:tester:loss avgError 0.69147625879436\t\n",
        "mehdi:1423422855:1:optimizer:confusion accuracy = 0.92018170019468\t\n",
        "mehdi:1423422855:1:validator:confusion accuracy = 0.74611398963731\t\n",
        "mehdi:1423422855:1:tester:confusion accuracy = 0.77674418604651\t\n",
        "==> epoch # 19 for optimizer\t\n"
       ]
      },
      {
       "metadata": {},
       "output_type": "pyout",
       "prompt_number": 14,
       "text": [
        "\n",
        "==> epoch size = 1541 examples\t\n",
        "==> batch duration = 0.95790860561641 ms\t\n",
        "==> epoch duration = 1.4761371612549 s\t\n",
        "==> example speed = 1043.9409293713 examples/s\t\n",
        "==> batch speed = 11.516544970352 batches/s\t\n"
       ]
      },
      {
       "metadata": {},
       "output_type": "pyout",
       "prompt_number": 14,
       "text": [
        "mehdi:1423422855:1:optimizer:loss avgError 0.22121476660113\t\n",
        "mehdi:1423422855:1:validator:loss avgError 0.62876513097738\t\n",
        "mehdi:1423422855:1:tester:loss avgError 0.71499968641042\t\n",
        "mehdi:1423422855:1:optimizer:confusion accuracy = 0.92537313432836\t\n",
        "mehdi:1423422855:1:validator:confusion accuracy = 0.72020725388601\t\n",
        "mehdi:1423422855:1:tester:confusion accuracy = 0.74883720930233\t\n",
        "==> epoch # 20 for optimizer\t\n"
       ]
      },
      {
       "metadata": {},
       "output_type": "pyout",
       "prompt_number": 14,
       "text": [
        "\n",
        "==> epoch size = 1541 examples\t\n",
        "==> batch duration = 1.1092609279269 ms\t\n",
        "==> epoch duration = 1.7093710899353 s\t\n",
        "==> example speed = 901.50114803821 examples/s\t\n",
        "==> batch speed = 9.9451781418881 batches/s\t\n"
       ]
      },
      {
       "metadata": {},
       "output_type": "pyout",
       "prompt_number": 14,
       "text": [
        "mehdi:1423422855:1:optimizer:loss avgError 0.20587598287515\t\n",
        "mehdi:1423422855:1:validator:loss avgError 0.68791856241979\t\n",
        "mehdi:1423422855:1:tester:loss avgError 0.8310056339291\t\n",
        "mehdi:1423422855:1:optimizer:confusion accuracy = 0.93380921479559\t\n",
        "mehdi:1423422855:1:validator:confusion accuracy = 0.75906735751295\t\n",
        "mehdi:1423422855:1:tester:confusion accuracy = 0.71627906976744\t\n",
        "==> epoch # 21 for optimizer\t\n"
       ]
      },
      {
       "metadata": {},
       "output_type": "pyout",
       "prompt_number": 14,
       "text": [
        "\n",
        "==> epoch size = 1541 examples\t\n",
        "==> batch duration = 1.254966860851 ms\t\n",
        "==> epoch duration = 1.9339039325714 s\t\n",
        "==> example speed = 796.83378995513 examples/s\t\n",
        "==> batch speed = 8.7905090390896 batches/s\t\n"
       ]
      },
      {
       "metadata": {},
       "output_type": "pyout",
       "prompt_number": 14,
       "text": [
        "mehdi:1423422855:1:optimizer:loss avgError 0.20166510706763\t\n",
        "mehdi:1423422855:1:validator:loss avgError 0.65507698314447\t\n",
        "mehdi:1423422855:1:tester:loss avgError 0.77179278567011\t\n",
        "mehdi:1423422855:1:optimizer:confusion accuracy = 0.93835171966256\t\n",
        "mehdi:1423422855:1:validator:confusion accuracy = 0.74352331606218\t\n",
        "mehdi:1423422855:1:tester:confusion accuracy = 0.71162790697674\t\n",
        "==> epoch # 22 for optimizer\t\n"
       ]
      },
      {
       "metadata": {},
       "output_type": "pyout",
       "prompt_number": 14,
       "text": [
        "\n",
        "==> epoch size = 1541 examples\t\n",
        "==> batch duration = 1.0331415031577 ms\t\n",
        "==> epoch duration = 1.592071056366 s\t\n",
        "==> example speed = 967.92162249181 examples/s\t\n",
        "==> batch speed = 10.677915368177 batches/s\t\n"
       ]
      },
      {
       "metadata": {},
       "output_type": "pyout",
       "prompt_number": 14,
       "text": [
        "mehdi:1423422855:1:optimizer:loss avgError 0.19708312244386\t\n",
        "mehdi:1423422855:1:validator:loss avgError 0.68247580449322\t\n",
        "mehdi:1423422855:1:tester:loss avgError 0.80129279339634\t\n",
        "mehdi:1423422855:1:optimizer:confusion accuracy = 0.93575600259572\t\n",
        "mehdi:1423422855:1:validator:confusion accuracy = 0.74870466321244\t\n"
       ]
      },
      {
       "metadata": {},
       "output_type": "pyout",
       "prompt_number": 14,
       "text": [
        "mehdi:1423422855:1:tester:confusion accuracy = 0.70232558139535\t\n",
        "==> epoch # 23 for optimizer\t\n"
       ]
      },
      {
       "metadata": {},
       "output_type": "pyout",
       "prompt_number": 14,
       "text": [
        "\n",
        "==> epoch size = 1541 examples\t\n",
        "==> batch duration = 0.98110575864719 ms\t\n",
        "==> epoch duration = 1.5118839740753 s\t\n",
        "==> example speed = 1019.2581087067 examples/s\t\n",
        "==> batch speed = 11.24424909021 batches/s\t\n"
       ]
      },
      {
       "metadata": {},
       "output_type": "pyout",
       "prompt_number": 14,
       "text": [
        "mehdi:1423422855:1:optimizer:loss avgError 0.16934127378917\t\n",
        "mehdi:1423422855:1:validator:loss avgError 0.71633135112776\t\n",
        "mehdi:1423422855:1:tester:loss avgError 0.88450086885512\t\n",
        "mehdi:1423422855:1:optimizer:confusion accuracy = 0.94159636599611\t\n",
        "mehdi:1423422855:1:validator:confusion accuracy = 0.75388601036269\t\n",
        "mehdi:1423422855:1:tester:confusion accuracy = 0.70232558139535\t\n",
        "==> epoch # 24 for optimizer\t\n"
       ]
      },
      {
       "metadata": {},
       "output_type": "pyout",
       "prompt_number": 14,
       "text": [
        "\n",
        "==> epoch size = 1541 examples\t\n",
        "==> batch duration = 0.85380787512144 ms\t\n",
        "==> epoch duration = 1.3157179355621 s\t\n",
        "==> example speed = 1171.2236782283 examples/s\t\n",
        "==> batch speed = 12.920702485322 batches/s\t\n"
       ]
      },
      {
       "metadata": {},
       "output_type": "pyout",
       "prompt_number": 14,
       "text": [
        "mehdi:1423422855:1:optimizer:loss avgError 0.16112812522317\t\n"
       ]
      },
      {
       "metadata": {},
       "output_type": "pyout",
       "prompt_number": 14,
       "text": [
        "mehdi:1423422855:1:validator:loss avgError 0.69146174897933\t\n",
        "mehdi:1423422855:1:tester:loss avgError 0.78900657721317\t\n",
        "mehdi:1423422855:1:optimizer:confusion accuracy = 0.95133030499676\t\n",
        "mehdi:1423422855:1:validator:confusion accuracy = 0.72538860103627\t\n",
        "mehdi:1423422855:1:tester:confusion accuracy = 0.71162790697674\t\n",
        "==> epoch # 25 for optimizer\t\n"
       ]
      },
      {
       "metadata": {},
       "output_type": "pyout",
       "prompt_number": 14,
       "text": [
        "\n",
        "==> epoch size = 1541 examples\t\n",
        "==> batch duration = 0.73789544572775 ms\t\n",
        "==> epoch duration = 1.1370968818665 s\t\n",
        "==> example speed = 1355.205545433 examples/s\t\n",
        "==> batch speed = 14.950353194264 batches/s\t\n"
       ]
      },
      {
       "metadata": {},
       "output_type": "pyout",
       "prompt_number": 14,
       "text": [
        "mehdi:1423422855:1:optimizer:loss avgError 0.15302657630945\t\n",
        "mehdi:1423422855:1:validator:loss avgError 0.71896262302013\t\n",
        "mehdi:1423422855:1:tester:loss avgError 0.89618695878536\t\n",
        "mehdi:1423422855:1:optimizer:confusion accuracy = 0.95262816353018\t\n",
        "mehdi:1423422855:1:validator:confusion accuracy = 0.74352331606218\t\n",
        "mehdi:1423422855:1:tester:confusion accuracy = 0.70697674418605\t\n",
        "==> epoch # 26 for optimizer\t\n"
       ]
      },
      {
       "metadata": {},
       "output_type": "pyout",
       "prompt_number": 14,
       "text": [
        "\n",
        "==> epoch size = 1541 examples\t\n",
        "==> batch duration = 0.66428042169827 ms\t\n",
        "==> epoch duration = 1.023656129837 s\t\n",
        "==> example speed = 1505.3883380206 examples/s\t\n",
        "==> batch speed = 16.607139355192 batches/s\t\n"
       ]
      },
      {
       "metadata": {},
       "output_type": "pyout",
       "prompt_number": 14,
       "text": [
        "mehdi:1423422855:1:optimizer:loss avgError 0.15008351059888\t\n",
        "mehdi:1423422855:1:validator:loss avgError 0.73627989229033\t\n",
        "mehdi:1423422855:1:tester:loss avgError 0.89672595039844\t\n",
        "mehdi:1423422855:1:optimizer:confusion accuracy = 0.96365996106424\t\n",
        "mehdi:1423422855:1:validator:confusion accuracy = 0.73316062176166\t\n",
        "mehdi:1423422855:1:tester:confusion accuracy = 0.69767441860465\t\n",
        "==> epoch # 27 for optimizer\t\n"
       ]
      },
      {
       "metadata": {},
       "output_type": "pyout",
       "prompt_number": 14,
       "text": [
        "\n",
        "==> epoch size = 1541 examples\t\n",
        "==> batch duration = 0.65956264250778 ms\t\n",
        "==> epoch duration = 1.0163860321045 s\t\n",
        "==> example speed = 1516.1562155761 examples/s\t\n",
        "==> batch speed = 16.725928400256 batches/s\t\n"
       ]
      },
      {
       "metadata": {},
       "output_type": "pyout",
       "prompt_number": 14,
       "text": [
        "mehdi:1423422855:1:optimizer:loss avgError 0.12806655073028\t\n"
       ]
      },
      {
       "metadata": {},
       "output_type": "pyout",
       "prompt_number": 14,
       "text": [
        "mehdi:1423422855:1:validator:loss avgError 0.73161997826282\t\n",
        "mehdi:1423422855:1:tester:loss avgError 0.853710996495\t\n",
        "mehdi:1423422855:1:optimizer:confusion accuracy = 0.9610642439974\t\n",
        "mehdi:1423422855:1:validator:confusion accuracy = 0.7279792746114\t\n",
        "mehdi:1423422855:1:tester:confusion accuracy = 0.72558139534884\t\n",
        "==> epoch # 28 for optimizer\t\n"
       ]
      },
      {
       "metadata": {},
       "output_type": "pyout",
       "prompt_number": 14,
       "text": [
        "\n",
        "==> epoch size = 1541 examples\t\n",
        "==> batch duration = 0.68216166041409 ms\t\n",
        "==> epoch duration = 1.0512111186981 s\t\n",
        "==> example speed = 1465.9281780699 examples/s\t\n",
        "==> batch speed = 16.171822859954 batches/s\t\n"
       ]
      },
      {
       "metadata": {},
       "output_type": "pyout",
       "prompt_number": 14,
       "text": [
        "mehdi:1423422855:1:optimizer:loss avgError 0.1173126120174\t\n",
        "mehdi:1423422855:1:validator:loss avgError 0.73810519323444\t\n",
        "mehdi:1423422855:1:tester:loss avgError 0.95804896475256\t\n",
        "mehdi:1423422855:1:optimizer:confusion accuracy = 0.97079818299805\t\n",
        "mehdi:1423422855:1:validator:confusion accuracy = 0.74352331606218\t\n",
        "mehdi:1423422855:1:tester:confusion accuracy = 0.68837209302326\t\n"
       ]
      },
      {
       "metadata": {},
       "output_type": "pyout",
       "prompt_number": 14,
       "text": [
        "==> epoch # 29 for optimizer\t\n"
       ]
      },
      {
       "metadata": {},
       "output_type": "pyout",
       "prompt_number": 14,
       "text": [
        "\n",
        "==> epoch size = 1541 examples\t\n",
        "==> batch duration = 0.6566171441892 ms\t\n",
        "==> epoch duration = 1.0118470191956 s\t\n",
        "==> example speed = 1522.9574933424 examples/s\t\n",
        "==> batch speed = 16.800958719546 batches/s\t\n"
       ]
      },
      {
       "metadata": {},
       "output_type": "pyout",
       "prompt_number": 14,
       "text": [
        "mehdi:1423422855:1:optimizer:loss avgError 0.11043066068809\t\n",
        "mehdi:1423422855:1:validator:loss avgError 0.74848815694429\t\n",
        "mehdi:1423422855:1:tester:loss avgError 0.92938803258282\t\n",
        "mehdi:1423422855:1:optimizer:confusion accuracy = 0.97534068786502\t\n",
        "mehdi:1423422855:1:validator:confusion accuracy = 0.75906735751295\t\n",
        "mehdi:1423422855:1:tester:confusion accuracy = 0.68837209302326\t\n",
        "==> epoch # 30 for optimizer\t\n"
       ]
      },
      {
       "metadata": {},
       "output_type": "pyout",
       "prompt_number": 14,
       "text": [
        "\n",
        "==> epoch size = 1541 examples\t\n",
        "==> batch duration = 0.64539058420428 ms\t\n",
        "==> epoch duration = 0.99454689025879 s\t\n",
        "==> example speed = 1549.4493171649 examples/s\t\n",
        "==> batch speed = 17.093211156265 batches/s\t\n"
       ]
      },
      {
       "metadata": {},
       "output_type": "pyout",
       "prompt_number": 14,
       "text": [
        "mehdi:1423422855:1:optimizer:loss avgError 0.10729869374335\t\n",
        "mehdi:1423422855:1:validator:loss avgError 0.79219858331261\t\n",
        "mehdi:1423422855:1:tester:loss avgError 1.0153277728649\t\n",
        "mehdi:1423422855:1:optimizer:confusion accuracy = 0.97339390006489\t\n"
       ]
      },
      {
       "metadata": {},
       "output_type": "pyout",
       "prompt_number": 14,
       "text": [
        "mehdi:1423422855:1:validator:confusion accuracy = 0.74352331606218\t\n",
        "mehdi:1423422855:1:tester:confusion accuracy = 0.69767441860465\t\n",
        "==> epoch # 31 for optimizer\t\n"
       ]
      },
      {
       "metadata": {},
       "output_type": "pyout",
       "prompt_number": 14,
       "text": [
        "\n",
        "==> epoch size = 1541 examples\t\n",
        "==> batch duration = 0.6499674163957 ms\t\n",
        "==> epoch duration = 1.0015997886658 s\t\n",
        "==> example speed = 1538.5386632846 examples/s\t\n",
        "==> batch speed = 16.972847031693 batches/s\t\n"
       ]
      },
      {
       "metadata": {},
       "output_type": "pyout",
       "prompt_number": 14,
       "text": [
        "mehdi:1423422855:1:optimizer:loss avgError 0.099569715709185\t\n",
        "mehdi:1423422855:1:validator:loss avgError 0.77072591901972\t\n",
        "mehdi:1423422855:1:tester:loss avgError 0.97975894207716\t\n",
        "mehdi:1423422855:1:optimizer:confusion accuracy = 0.97923426346528\t\n",
        "mehdi:1423422855:1:validator:confusion accuracy = 0.75388601036269\t\n",
        "mehdi:1423422855:1:tester:confusion accuracy = 0.69302325581395\t\n",
        "==> epoch # 32 for optimizer\t\n"
       ]
      },
      {
       "metadata": {},
       "output_type": "pyout",
       "prompt_number": 14,
       "text": [
        "\n",
        "==> epoch size = 1541 examples\t\n",
        "==> batch duration = 0.70053211363162 ms\t\n",
        "==> epoch duration = 1.0795199871063 s\t\n",
        "==> example speed = 1427.4863072528 examples/s\t\n",
        "==> batch speed = 15.747739924268 batches/s\t\n"
       ]
      },
      {
       "metadata": {},
       "output_type": "pyout",
       "prompt_number": 14,
       "text": [
        "mehdi:1423422855:1:optimizer:loss avgError 0.089262685292767\t\n",
        "mehdi:1423422855:1:validator:loss avgError 0.78920557816373\t\n",
        "mehdi:1423422855:1:tester:loss avgError 0.99532446190921\t\n",
        "mehdi:1423422855:1:optimizer:confusion accuracy = 0.98442569759896\t\n",
        "mehdi:1423422855:1:validator:confusion accuracy = 0.73575129533679\t\n",
        "mehdi:1423422855:1:tester:confusion accuracy = 0.68372093023256\t\n",
        "==> epoch # 33 for optimizer\t\n"
       ]
      },
      {
       "metadata": {},
       "output_type": "pyout",
       "prompt_number": 14,
       "text": [
        "\n",
        "==> epoch size = 1541 examples\t\n",
        "==> batch duration = 0.66945430599661 ms\t\n",
        "==> epoch duration = 1.0316290855408 s\t\n",
        "==> example speed = 1493.7539291966 examples/s\t\n",
        "==> batch speed = 16.478790912616 batches/s\t\n"
       ]
      },
      {
       "metadata": {},
       "output_type": "pyout",
       "prompt_number": 14,
       "text": [
        "mehdi:1423422855:1:optimizer:loss avgError 0.08603843372128\t\n",
        "mehdi:1423422855:1:validator:loss avgError 0.81560647757109\t\n",
        "mehdi:1423422855:1:tester:loss avgError 1.0324252709445\t\n",
        "mehdi:1423422855:1:optimizer:confusion accuracy = 0.98312783906554\t\n",
        "mehdi:1423422855:1:validator:confusion accuracy = 0.74093264248705\t\n",
        "mehdi:1423422855:1:tester:confusion accuracy = 0.67906976744186\t\n",
        "==> epoch # 34 for optimizer\t\n"
       ]
      },
      {
       "metadata": {},
       "output_type": "pyout",
       "prompt_number": 14,
       "text": [
        "\n",
        "==> epoch size = 1541 examples\t\n",
        "==> batch duration = 0.7108967463588 ms\t\n",
        "==> epoch duration = 1.0954918861389 s\t\n",
        "==> example speed = 1406.6740424991 examples/s\t\n",
        "==> batch speed = 15.51814323328 batches/s\t\n"
       ]
      },
      {
       "metadata": {},
       "output_type": "pyout",
       "prompt_number": 14,
       "text": [
        "mehdi:1423422855:1:optimizer:loss avgError 0.081981550962666\t\n",
        "mehdi:1423422855:1:validator:loss avgError 0.81324841920976\t\n",
        "mehdi:1423422855:1:tester:loss avgError 1.0478696231151\t\n",
        "mehdi:1423422855:1:optimizer:confusion accuracy = 0.98637248539909\t\n",
        "mehdi:1423422855:1:validator:confusion accuracy = 0.74352331606218\t\n",
        "mehdi:1423422855:1:tester:confusion accuracy = 0.69302325581395\t\n",
        "==> epoch # 35 for optimizer\t\n"
       ]
      },
      {
       "metadata": {},
       "output_type": "pyout",
       "prompt_number": 14,
       "text": [
        "\n",
        "==> epoch size = 1541 examples\t\n",
        "==> batch duration = 0.77814532904405 ms\t\n",
        "==> epoch duration = 1.1991219520569 s\t\n",
        "==> example speed = 1285.1069879562 examples/s\t\n",
        "==> batch speed = 14.17704010075 batches/s\t\n"
       ]
      },
      {
       "metadata": {},
       "output_type": "pyout",
       "prompt_number": 14,
       "text": [
        "mehdi:1423422855:1:optimizer:loss avgError 0.077796509078163\t\n",
        "mehdi:1423422855:1:validator:loss avgError 0.8329142098556\t\n",
        "mehdi:1423422855:1:tester:loss avgError 1.1087007057089\t\n",
        "mehdi:1423422855:1:optimizer:confusion accuracy = 0.98637248539909\t\n",
        "mehdi:1423422855:1:validator:confusion accuracy = 0.74611398963731\t\n",
        "mehdi:1423422855:1:tester:confusion accuracy = 0.67906976744186\t\n"
       ]
      },
      {
       "metadata": {},
       "output_type": "pyout",
       "prompt_number": 14,
       "text": [
        "==> epoch # 36 for optimizer\t\n"
       ]
      },
      {
       "metadata": {},
       "output_type": "pyout",
       "prompt_number": 14,
       "text": [
        "\n",
        "==> epoch size = 1541 examples\t\n",
        "==> batch duration = 0.74492593155056 ms\t\n",
        "==> epoch duration = 1.1479308605194 s\t\n",
        "==> example speed = 1342.4153431181 examples/s\t\n",
        "==> batch speed = 14.809254271906 batches/s\t\n"
       ]
      },
      {
       "metadata": {},
       "output_type": "pyout",
       "prompt_number": 14,
       "text": [
        "mehdi:1423422855:1:optimizer:loss avgError 0.074750754121242\t\n",
        "mehdi:1423422855:1:validator:loss avgError 0.82837706502836\t\n",
        "mehdi:1423422855:1:tester:loss avgError 1.0567059525335\t\n"
       ]
      },
      {
       "metadata": {},
       "output_type": "pyout",
       "prompt_number": 14,
       "text": [
        "mehdi:1423422855:1:optimizer:confusion accuracy = 0.98637248539909\t\n",
        "mehdi:1423422855:1:validator:confusion accuracy = 0.74093264248705\t\n",
        "mehdi:1423422855:1:tester:confusion accuracy = 0.71162790697674\t\n",
        "==> epoch # 37 for optimizer\t\n"
       ]
      },
      {
       "metadata": {},
       "output_type": "pyout",
       "prompt_number": 14,
       "text": [
        "\n",
        "==> epoch size = 1541 examples\t\n",
        "==> batch duration = 0.6587508434912 ms\t\n",
        "==> epoch duration = 1.0151350498199 s\t\n",
        "==> example speed = 1518.0246217223 examples/s\t\n",
        "==> batch speed = 16.746540278572 batches/s\t\n"
       ]
      },
      {
       "metadata": {},
       "output_type": "pyout",
       "prompt_number": 14,
       "text": [
        "mehdi:1423422855:1:optimizer:loss avgError 0.067233305339656\t\n",
        "mehdi:1423422855:1:validator:loss avgError 0.8368678001046\t\n",
        "mehdi:1423422855:1:tester:loss avgError 1.0846758556732\t\n",
        "mehdi:1423422855:1:optimizer:confusion accuracy = 0.99091499026606\t\n",
        "mehdi:1423422855:1:validator:confusion accuracy = 0.73575129533679\t\n",
        "mehdi:1423422855:1:tester:confusion accuracy = 0.69302325581395\t\n",
        "==> epoch # 38 for optimizer\t\n"
       ]
      },
      {
       "metadata": {},
       "output_type": "pyout",
       "prompt_number": 14,
       "text": [
        "\n",
        "==> epoch size = 1541 examples\t\n",
        "==> batch duration = 0.66595461212297 ms\t\n",
        "==> epoch duration = 1.0262360572815 s\t\n",
        "==> example speed = 1501.6038357511 examples/s\t\n",
        "==> batch speed = 16.565389492387 batches/s\t\n"
       ]
      },
      {
       "metadata": {},
       "output_type": "pyout",
       "prompt_number": 14,
       "text": [
        "mehdi:1423422855:1:optimizer:loss avgError 0.066457579979785\t\n",
        "mehdi:1423422855:1:validator:loss avgError 0.87512565539245\t\n"
       ]
      },
      {
       "metadata": {},
       "output_type": "pyout",
       "prompt_number": 14,
       "text": [
        "mehdi:1423422855:1:tester:loss avgError 1.1615717509443\t\n",
        "mehdi:1423422855:1:optimizer:confusion accuracy = 0.99026606099935\t\n",
        "mehdi:1423422855:1:validator:confusion accuracy = 0.74093264248705\t\n",
        "mehdi:1423422855:1:tester:confusion accuracy = 0.69767441860465\t\n",
        "==> epoch # 39 for optimizer\t\n"
       ]
      },
      {
       "metadata": {},
       "output_type": "pyout",
       "prompt_number": 14,
       "text": [
        "\n",
        "==> epoch size = 1541 examples\t\n",
        "==> batch duration = 0.67475985428639 ms\t\n",
        "==> epoch duration = 1.0398049354553 s\t\n",
        "==> example speed = 1482.0087378458 examples/s\t\n",
        "==> batch speed = 16.349220339636 batches/s\t\n"
       ]
      },
      {
       "metadata": {},
       "output_type": "pyout",
       "prompt_number": 14,
       "text": [
        "mehdi:1423422855:1:optimizer:loss avgError 0.062659314959218\t\n",
        "mehdi:1423422855:1:validator:loss avgError 0.87071651344496\t"
       ]
      },
      {
       "metadata": {},
       "output_type": "pyout",
       "prompt_number": 14,
       "text": [
        "\n",
        "mehdi:1423422855:1:tester:loss avgError 1.1012761878432\t\n",
        "mehdi:1423422855:1:optimizer:confusion accuracy = 0.99091499026606\t\n",
        "mehdi:1423422855:1:validator:confusion accuracy = 0.73316062176166\t\n",
        "mehdi:1423422855:1:tester:confusion accuracy = 0.69767441860465\t\n",
        "==> epoch # 40 for optimizer\t\n"
       ]
      },
      {
       "metadata": {},
       "output_type": "pyout",
       "prompt_number": 14,
       "text": [
        "\n",
        "==> epoch size = 1541 examples\t\n",
        "==> batch duration = 0.65914072981134 ms\t\n",
        "==> epoch duration = 1.0157358646393 s\t\n",
        "==> example speed = 1517.1266996142 examples/s\t\n",
        "==> batch speed = 16.736634583674 batches/s\t\n"
       ]
      },
      {
       "metadata": {},
       "output_type": "pyout",
       "prompt_number": 14,
       "text": [
        "mehdi:1423422855:1:optimizer:loss avgError 0.059528829004947\t\n",
        "mehdi:1423422855:1:validator:loss avgError 0.88082023282478\t\n",
        "mehdi:1423422855:1:tester:loss avgError 1.101908342528\t\n",
        "mehdi:1423422855:1:optimizer:confusion accuracy = 0.99091499026606\t\n",
        "mehdi:1423422855:1:validator:confusion accuracy = 0.74093264248705\t\n",
        "mehdi:1423422855:1:tester:confusion accuracy = 0.71162790697674\t\n",
        "==> epoch # 41 for optimizer\t\n"
       ]
      },
      {
       "metadata": {},
       "output_type": "pyout",
       "prompt_number": 14,
       "text": [
        "\n",
        "==> epoch size = 1541 examples\t\n",
        "==> batch duration = 0.67023098430101 ms\t\n",
        "==> epoch duration = 1.0328259468079 s\t\n",
        "==> example speed = 1492.0229345155 examples/s\t\n",
        "==> batch speed = 16.459694929762 batches/s\t\n"
       ]
      },
      {
       "metadata": {},
       "output_type": "pyout",
       "prompt_number": 14,
       "text": [
        "mehdi:1423422855:1:optimizer:loss avgError 0.058472146724548\t\n",
        "mehdi:1423422855:1:validator:loss avgError 0.88740091041239\t\n",
        "mehdi:1423422855:1:tester:loss avgError 1.0936304669694\t\n",
        "mehdi:1423422855:1:optimizer:confusion accuracy = 0.98961713173264\t\n"
       ]
      },
      {
       "metadata": {},
       "output_type": "pyout",
       "prompt_number": 14,
       "text": [
        "mehdi:1423422855:1:validator:confusion accuracy = 0.71243523316062\t\n",
        "mehdi:1423422855:1:tester:confusion accuracy = 0.70232558139535\t\n",
        "==> epoch # 42 for optimizer\t\n"
       ]
      },
      {
       "metadata": {},
       "output_type": "pyout",
       "prompt_number": 14,
       "text": [
        "\n",
        "==> epoch size = 1541 examples\t\n",
        "==> batch duration = 0.68861335071165 ms\t\n",
        "==> epoch duration = 1.0611531734467 s\t\n",
        "==> example speed = 1452.1937440895 examples/s\t\n",
        "==> batch speed = 16.020307365037 batches/s\t\n"
       ]
      },
      {
       "metadata": {},
       "output_type": "pyout",
       "prompt_number": 14,
       "text": [
        "mehdi:1423422855:1:optimizer:loss avgError 0.051057052456159\t\n",
        "mehdi:1423422855:1:validator:loss avgError 0.90246557951894\t\n",
        "mehdi:1423422855:1:tester:loss avgError 1.1514229416564\t\n",
        "mehdi:1423422855:1:optimizer:confusion accuracy = 0.99480856586632\t\n",
        "mehdi:1423422855:1:validator:confusion accuracy = 0.70466321243523\t\n",
        "mehdi:1423422855:1:tester:confusion accuracy = 0.70232558139535\t\n",
        "==> epoch # 43 for optimizer\t\n"
       ]
      },
      {
       "metadata": {},
       "output_type": "pyout",
       "prompt_number": 14,
       "text": [
        "\n",
        "==> epoch size = 1541 examples\t\n",
        "==> batch duration = 0.62382399146237 ms\t\n",
        "==> epoch duration = 0.96131277084351 s\t\n",
        "==> example speed = 1603.0162572873 examples/s\t\n",
        "==> batch speed = 17.684150794214 batches/s\t\n"
       ]
      },
      {
       "metadata": {},
       "output_type": "pyout",
       "prompt_number": 14,
       "text": [
        "mehdi:1423422855:1:optimizer:loss avgError 0.050043382319064\t\n",
        "mehdi:1423422855:1:validator:loss avgError 0.93139156035096\t\n",
        "mehdi:1423422855:1:tester:loss avgError 1.2353412545285\t\n",
        "mehdi:1423422855:1:optimizer:confusion accuracy = 0.99545749513303\t\n",
        "mehdi:1423422855:1:validator:confusion accuracy = 0.74352331606218\t\n",
        "mehdi:1423422855:1:tester:confusion accuracy = 0.69767441860465\t\n",
        "==> epoch # 44 for optimizer\t\n"
       ]
      },
      {
       "metadata": {},
       "output_type": "pyout",
       "prompt_number": 14,
       "text": [
        "\n",
        "==> epoch size = 1541 examples\t\n",
        "==> batch duration = 0.63834787575476 ms\t\n",
        "==> epoch duration = 0.98369407653809 s\t\n",
        "==> example speed = 1566.5439456779 examples/s\t\n",
        "==> batch speed = 17.28179563694 batches/s\t\n"
       ]
      },
      {
       "metadata": {},
       "output_type": "pyout",
       "prompt_number": 14,
       "text": [
        "mehdi:1423422855:1:optimizer:loss avgError 0.047572699993547\t\n",
        "mehdi:1423422855:1:validator:loss avgError 0.93825005114969\t\n",
        "mehdi:1423422855:1:tester:loss avgError 1.2179647557086\t\n",
        "mehdi:1423422855:1:optimizer:confusion accuracy = 0.99545749513303\t\n",
        "mehdi:1423422855:1:validator:confusion accuracy = 0.74093264248705\t\n",
        "mehdi:1423422855:1:tester:confusion accuracy = 0.69302325581395\t\n",
        "==> epoch # 45 for optimizer\t\n"
       ]
      },
      {
       "metadata": {},
       "output_type": "pyout",
       "prompt_number": 14,
       "text": [
        "\n",
        "==> epoch size = 1541 examples\t\n",
        "==> batch duration = 0.61804145129759 ms\t\n",
        "==> epoch duration = 0.95240187644958 s\t\n",
        "==> example speed = 1618.0144517823 examples/s\t\n",
        "==> batch speed = 17.84960783926 batches/s\t\n"
       ]
      },
      {
       "metadata": {},
       "output_type": "pyout",
       "prompt_number": 14,
       "text": [
        "mehdi:1423422855:1:optimizer:loss avgError 0.050122157149027\t\n",
        "mehdi:1423422855:1:validator:loss avgError 0.92946363990464\t\n",
        "mehdi:1423422855:1:tester:loss avgError 1.1968794505212\t\n",
        "mehdi:1423422855:1:optimizer:confusion accuracy = 0.99221284879948\t\n"
       ]
      },
      {
       "metadata": {},
       "output_type": "pyout",
       "prompt_number": 14,
       "text": [
        "mehdi:1423422855:1:validator:confusion accuracy = 0.73316062176166\t\n",
        "mehdi:1423422855:1:tester:confusion accuracy = 0.68372093023256\t\n",
        "==> epoch # 46 for optimizer\t\n"
       ]
      },
      {
       "metadata": {},
       "output_type": "pyout",
       "prompt_number": 14,
       "text": [
        "\n",
        "==> epoch size = 1541 examples\t\n",
        "==> batch duration = 0.6236559690244 ms\t\n",
        "==> epoch duration = 0.9610538482666 s\t\n",
        "==> example speed = 1603.4481343365 examples/s\t\n",
        "==> batch speed = 17.688915174381 batches/s\t\n"
       ]
      },
      {
       "metadata": {},
       "output_type": "pyout",
       "prompt_number": 14,
       "text": [
        "mehdi:1423422855:1:optimizer:loss avgError 0.042557657622565\t\n",
        "mehdi:1423422855:1:validator:loss avgError 0.93940939562785\t\n",
        "mehdi:1423422855:1:tester:loss avgError 1.2253984376015\t\n",
        "mehdi:1423422855:1:optimizer:confusion accuracy = 0.99675535366645\t\n",
        "mehdi:1423422855:1:validator:confusion accuracy = 0.73575129533679\t\n",
        "mehdi:1423422855:1:tester:confusion accuracy = 0.71162790697674\t\n",
        "==> epoch # 47 for optimizer\t\n"
       ]
      },
      {
       "metadata": {},
       "output_type": "pyout",
       "prompt_number": 14,
       "text": [
        "\n",
        "==> epoch size = 1541 examples\t\n",
        "==> batch duration = 0.66968003779862 ms\t\n",
        "==> epoch duration = 1.0319769382477 s\t\n",
        "==> example speed = 1493.2504234219 examples/s\t\n",
        "==> batch speed = 16.473236338853 batches/s\t\n"
       ]
      },
      {
       "metadata": {},
       "output_type": "pyout",
       "prompt_number": 14,
       "text": [
        "mehdi:1423422855:1:optimizer:loss avgError 0.043107571321786\t\n",
        "mehdi:1423422855:1:validator:loss avgError 0.97767777592797\t\n",
        "mehdi:1423422855:1:tester:loss avgError 1.1589407870547\t\n",
        "mehdi:1423422855:1:optimizer:confusion accuracy = 0.99545749513303\t\n",
        "mehdi:1423422855:1:validator:confusion accuracy = 0.70466321243523\t\n",
        "mehdi:1423422855:1:tester:confusion accuracy = 0.70232558139535\t\n",
        "==> epoch # 48 for optimizer\t\n"
       ]
      },
      {
       "metadata": {},
       "output_type": "pyout",
       "prompt_number": 14,
       "text": [
        "\n",
        "==> epoch size = 1541 examples\t\n",
        "==> batch duration = 0.63721813372712 ms\t\n",
        "==> epoch duration = 0.98195314407349 s\t\n",
        "==> example speed = 1569.3213156866 examples/s\t\n",
        "==> batch speed = 17.312435020553 batches/s\t\n"
       ]
      },
      {
       "metadata": {},
       "output_type": "pyout",
       "prompt_number": 14,
       "text": [
        "mehdi:1423422855:1:optimizer:loss avgError 0.040508118438879\t\n",
        "mehdi:1423422855:1:validator:loss avgError 0.94862929806586\t\n",
        "mehdi:1423422855:1:tester:loss avgError 1.234843828347\t\n"
       ]
      },
      {
       "metadata": {},
       "output_type": "pyout",
       "prompt_number": 14,
       "text": [
        "mehdi:1423422855:1:optimizer:confusion accuracy = 0.99675535366645\t\n",
        "mehdi:1423422855:1:validator:confusion accuracy = 0.73316062176166\t\n",
        "mehdi:1423422855:1:tester:confusion accuracy = 0.70697674418605\t\n",
        "==> epoch # 49 for optimizer\t\n"
       ]
      },
      {
       "metadata": {},
       "output_type": "pyout",
       "prompt_number": 14,
       "text": [
        "\n",
        "==> epoch size = 1541 examples\t\n",
        "==> batch duration = 0.65551060968061 ms\t\n",
        "==> epoch duration = 1.0101418495178 s\t\n",
        "==> example speed = 1525.5283213299 examples/s\t\n",
        "==> batch speed = 16.829319573399 batches/s\t\n"
       ]
      },
      {
       "metadata": {},
       "output_type": "pyout",
       "prompt_number": 14,
       "text": [
        "mehdi:1423422855:1:optimizer:loss avgError 0.036313178645151\t\n",
        "mehdi:1423422855:1:validator:loss avgError 0.96211619020895\t\n",
        "mehdi:1423422855:1:tester:loss avgError 1.2477938344877\t\n",
        "mehdi:1423422855:1:optimizer:confusion accuracy = 0.99740428293316\t\n",
        "mehdi:1423422855:1:validator:confusion accuracy = 0.7279792746114\t\n",
        "mehdi:1423422855:1:tester:confusion accuracy = 0.70232558139535\t\n"
       ]
      },
      {
       "metadata": {},
       "output_type": "pyout",
       "prompt_number": 14,
       "text": [
        "==> epoch # 50 for optimizer\t\n"
       ]
      },
      {
       "metadata": {},
       "output_type": "pyout",
       "prompt_number": 14,
       "text": [
        "\n",
        "==> epoch size = 1541 examples\t\n",
        "==> batch duration = 0.67269376622323 ms\t\n",
        "==> epoch duration = 1.03662109375 s\t\n",
        "==> example speed = 1486.5605275553 examples/s\t\n",
        "==> batch speed = 16.399434762129 batches/s\t\n"
       ]
      },
      {
       "metadata": {},
       "output_type": "pyout",
       "prompt_number": 14,
       "text": [
        "mehdi:1423422855:1:optimizer:loss avgError 0.036687905787433\t\n",
        "mehdi:1423422855:1:validator:loss avgError 0.97254726688259\t\n",
        "mehdi:1423422855:1:tester:loss avgError 1.2464261213386\t\n",
        "mehdi:1423422855:1:optimizer:confusion accuracy = 0.99675535366645\t\n",
        "mehdi:1423422855:1:validator:confusion accuracy = 0.7279792746114\t\n"
       ]
      },
      {
       "metadata": {},
       "output_type": "pyout",
       "prompt_number": 14,
       "text": [
        "mehdi:1423422855:1:tester:confusion accuracy = 0.70232558139535\t\n",
        "==> epoch # 51 for optimizer\t\n"
       ]
      },
      {
       "metadata": {},
       "output_type": "pyout",
       "prompt_number": 14,
       "text": [
        "\n",
        "==> epoch size = 1541 examples\t\n",
        "==> batch duration = 0.69901372301818 ms\t\n",
        "==> epoch duration = 1.077180147171 s\t\n",
        "==> example speed = 1430.5870787232 examples/s\t\n",
        "==> batch speed = 15.781947007329 batches/s\t\n"
       ]
      },
      {
       "metadata": {},
       "output_type": "pyout",
       "prompt_number": 14,
       "text": [
        "mehdi:1423422855:1:optimizer:loss avgError 0.036822342565874\t\n",
        "mehdi:1423422855:1:validator:loss avgError 0.96814847240391\t\n",
        "mehdi:1423422855:1:tester:loss avgError 1.2272031471988\t\n",
        "mehdi:1423422855:1:optimizer:confusion accuracy = 0.99610642439974\t\n",
        "mehdi:1423422855:1:validator:confusion accuracy = 0.72538860103627\t\n",
        "mehdi:1423422855:1:tester:confusion accuracy = 0.68837209302326\t\n",
        "==> epoch # 52 for optimizer\t\n"
       ]
      },
      {
       "metadata": {},
       "output_type": "pyout",
       "prompt_number": 14,
       "text": [
        "\n",
        "==> epoch size = 1541 examples\t\n",
        "==> batch duration = 0.67861972885577 ms\t\n",
        "==> epoch duration = 1.0457530021667 s\t\n",
        "==> example speed = 1473.5793220838 examples/s\t\n",
        "==> batch speed = 16.256228731619 batches/s\t\n"
       ]
      },
      {
       "metadata": {},
       "output_type": "pyout",
       "prompt_number": 14,
       "text": [
        "mehdi:1423422855:1:optimizer:loss avgError 0.034113569178387\t\n",
        "mehdi:1423422855:1:validator:loss avgError 1.0069905859976\t\n"
       ]
      },
      {
       "metadata": {},
       "output_type": "pyout",
       "prompt_number": 14,
       "text": [
        "mehdi:1423422855:1:tester:loss avgError 1.3035114423535\t\n",
        "mehdi:1423422855:1:optimizer:confusion accuracy = 0.99675535366645\t\n",
        "mehdi:1423422855:1:validator:confusion accuracy = 0.74611398963731\t\n",
        "mehdi:1423422855:1:tester:confusion accuracy = 0.69302325581395\t\n",
        "==> epoch # 53 for optimizer\t\n"
       ]
      },
      {
       "metadata": {},
       "output_type": "pyout",
       "prompt_number": 14,
       "text": [
        "\n",
        "==> epoch size = 1541 examples\t\n",
        "==> batch duration = 0.70090714713956 ms\t\n",
        "==> epoch duration = 1.0800979137421 s\t\n",
        "==> example speed = 1426.7225039451 examples/s\t\n",
        "==> batch speed = 15.739313800822 batches/s\t\n"
       ]
      },
      {
       "metadata": {},
       "output_type": "pyout",
       "prompt_number": 14,
       "text": [
        "mehdi:1423422855:1:optimizer:loss avgError 0.030669116678948\t\n",
        "mehdi:1423422855:1:validator:loss avgError 0.99482839512834\t\n",
        "mehdi:1423422855:1:tester:loss avgError 1.2815732413636\t\n",
        "mehdi:1423422855:1:optimizer:confusion accuracy = 0.99740428293316\t\n",
        "mehdi:1423422855:1:validator:confusion accuracy = 0.73834196891192\t\n",
        "mehdi:1423422855:1:tester:confusion accuracy = 0.69767441860465\t\n",
        "==> epoch # 54 for optimizer\t\n"
       ]
      },
      {
       "metadata": {},
       "output_type": "pyout",
       "prompt_number": 14,
       "text": [
        "\n",
        "==> epoch size = 1541 examples\t\n",
        "==> batch duration = 0.65195846681391 ms\t\n",
        "==> epoch duration = 1.0046679973602 s\t\n",
        "==> example speed = 1533.8400387481 examples/s\t\n",
        "==> batch speed = 16.921012757117 batches/s\t\n"
       ]
      },
      {
       "metadata": {},
       "output_type": "pyout",
       "prompt_number": 14,
       "text": [
        "mehdi:1423422855:1:optimizer:loss avgError 0.030679644153077\t\n",
        "mehdi:1423422855:1:validator:loss avgError 1.0036574448649\t\n",
        "mehdi:1423422855:1:tester:loss avgError 1.30619264606\t\n",
        "mehdi:1423422855:1:optimizer:confusion accuracy = 0.99740428293316\t\n",
        "mehdi:1423422855:1:validator:confusion accuracy = 0.73056994818653\t\n",
        "mehdi:1423422855:1:tester:confusion accuracy = 0.70232558139535\t\n",
        "==> epoch # 55 for optimizer\t\n"
       ]
      },
      {
       "metadata": {},
       "output_type": "pyout",
       "prompt_number": 14,
       "text": [
        "\n",
        "==> epoch size = 1541 examples\t\n",
        "==> batch duration = 0.65047179314318 ms\t\n",
        "==> epoch duration = 1.0023770332336 s\t\n",
        "==> example speed = 1537.3456782312 examples/s\t\n",
        "==> batch speed = 16.959686262123 batches/s\t\n"
       ]
      },
      {
       "metadata": {},
       "output_type": "pyout",
       "prompt_number": 14,
       "text": [
        "mehdi:1423422855:1:optimizer:loss avgError 0.027693297042527\t\n",
        "mehdi:1423422855:1:validator:loss avgError 1.0185600400778\t\n",
        "mehdi:1423422855:1:tester:loss avgError 1.2964596815794\t\n",
        "mehdi:1423422855:1:optimizer:confusion accuracy = 0.99805321219987\t\n",
        "mehdi:1423422855:1:validator:confusion accuracy = 0.73056994818653\t\n",
        "mehdi:1423422855:1:tester:confusion accuracy = 0.69767441860465\t\n",
        "==> epoch # 56 for optimizer\t\n"
       ]
      },
      {
       "metadata": {},
       "output_type": "pyout",
       "prompt_number": 14,
       "text": [
        "\n",
        "==> epoch size = 1541 examples\t\n",
        "==> batch duration = 0.6377150840685 ms\t\n",
        "==> epoch duration = 0.98271894454956 s\t\n",
        "==> example speed = 1568.0983953213 examples/s\t\n",
        "==> batch speed = 17.298944010683 batches/s\t\n"
       ]
      },
      {
       "metadata": {},
       "output_type": "pyout",
       "prompt_number": 14,
       "text": [
        "mehdi:1423422855:1:optimizer:loss avgError 0.027090268802839\t\n"
       ]
      },
      {
       "metadata": {},
       "output_type": "pyout",
       "prompt_number": 14,
       "text": [
        "mehdi:1423422855:1:validator:loss avgError 1.0295228256045\t\n",
        "mehdi:1423422855:1:tester:loss avgError 1.313338434286\t\n",
        "mehdi:1423422855:1:optimizer:confusion accuracy = 0.99805321219987\t\n",
        "mehdi:1423422855:1:validator:confusion accuracy = 0.71243523316062\t\n",
        "mehdi:1423422855:1:tester:confusion accuracy = 0.69767441860465\t\n",
        "==> epoch # 57 for optimizer\t\n"
       ]
      },
      {
       "metadata": {},
       "output_type": "pyout",
       "prompt_number": 14,
       "text": [
        "\n",
        "==> epoch size = 1541 examples\t\n",
        "==> batch duration = 0.6410583592637 ms\t\n",
        "==> epoch duration = 0.98787093162537 s\t\n",
        "==> example speed = 1559.9203809596 examples/s\t\n",
        "==> batch speed = 17.208725812014 batches/s\t\n"
       ]
      },
      {
       "metadata": {},
       "output_type": "pyout",
       "prompt_number": 14,
       "text": [
        "mehdi:1423422855:1:optimizer:loss avgError 0.029255816775814\t\n",
        "mehdi:1423422855:1:validator:loss avgError 1.024023887467\t\n",
        "mehdi:1423422855:1:tester:loss avgError 1.3109691303134\t\n",
        "mehdi:1423422855:1:optimizer:confusion accuracy = 0.99545749513303\t\n",
        "mehdi:1423422855:1:validator:confusion accuracy = 0.73834196891192\t\n",
        "mehdi:1423422855:1:tester:confusion accuracy = 0.70232558139535\t\n",
        "==> epoch # 58 for optimizer\t\n"
       ]
      },
      {
       "metadata": {},
       "output_type": "pyout",
       "prompt_number": 14,
       "text": [
        "\n",
        "==> epoch size = 1541 examples\t\n",
        "==> batch duration = 0.68498895510229 ms\t\n",
        "==> epoch duration = 1.0555679798126 s\t\n",
        "==> example speed = 1459.8775535741 examples/s\t\n",
        "==> batch speed = 16.105073595561 batches/s\t\n"
       ]
      },
      {
       "metadata": {},
       "output_type": "pyout",
       "prompt_number": 14,
       "text": [
        "mehdi:1423422855:1:optimizer:loss avgError 0.028206497720829\t\n",
        "mehdi:1423422855:1:validator:loss avgError 1.0237523325837\t\n",
        "mehdi:1423422855:1:tester:loss avgError 1.3537669677158\t\n",
        "mehdi:1423422855:1:optimizer:confusion accuracy = 0.99805321219987\t\n",
        "mehdi:1423422855:1:validator:confusion accuracy = 0.74093264248705\t\n",
        "mehdi:1423422855:1:tester:confusion accuracy = 0.70697674418605\t\n",
        "==> epoch # 59 for optimizer\t\n"
       ]
      },
      {
       "metadata": {},
       "output_type": "pyout",
       "prompt_number": 14,
       "text": [
        "\n",
        "==> epoch size = 1541 examples\t\n",
        "==> batch duration = 0.68349578332623 ms\t\n",
        "==> epoch duration = 1.0532670021057 s\t\n",
        "==> example speed = 1463.0668167893 examples/s\t\n",
        "==> batch speed = 16.140256901634 batches/s\t\n"
       ]
      },
      {
       "metadata": {},
       "output_type": "pyout",
       "prompt_number": 14,
       "text": [
        "mehdi:1423422855:1:optimizer:loss avgError 0.023664201175931\t\n",
        "mehdi:1423422855:1:validator:loss avgError 1.0262947492284\t\n",
        "mehdi:1423422855:1:tester:loss avgError 1.3326517498846\t\n",
        "mehdi:1423422855:1:optimizer:confusion accuracy = 0.99740428293316\t\n",
        "mehdi:1423422855:1:validator:confusion accuracy = 0.73316062176166\t\n",
        "mehdi:1423422855:1:tester:confusion accuracy = 0.70232558139535\t\n",
        "==> epoch # 60 for optimizer\t\n"
       ]
      },
      {
       "metadata": {},
       "output_type": "pyout",
       "prompt_number": 14,
       "text": [
        "\n",
        "==> epoch size = 1541 examples\t\n",
        "==> batch duration = 0.65672482707762 ms\t\n",
        "==> epoch duration = 1.0120129585266 s\t\n",
        "==> example speed = 1522.7077746549 examples/s\t\n",
        "==> batch speed = 16.798203873546 batches/s\t\n"
       ]
      },
      {
       "metadata": {},
       "output_type": "pyout",
       "prompt_number": 14,
       "text": [
        "mehdi:1423422855:1:optimizer:loss avgError 0.022792450598382\t\n",
        "mehdi:1423422855:1:validator:loss avgError 1.0498427565482\t\n",
        "mehdi:1423422855:1:tester:loss avgError 1.4071725835573\t\n"
       ]
      },
      {
       "metadata": {},
       "output_type": "pyout",
       "prompt_number": 14,
       "text": [
        "mehdi:1423422855:1:optimizer:confusion accuracy = 0.99870214146658\t\n",
        "mehdi:1423422855:1:validator:confusion accuracy = 0.74352331606218\t\n",
        "mehdi:1423422855:1:tester:confusion accuracy = 0.70697674418605\t\n"
       ]
      }
     ],
     "prompt_number": 14
    },
    {
     "cell_type": "code",
     "collapsed": false,
     "input": [
      "reports = (xp._observer._observers[1]._reports)\n",
      "train_error = {}\n",
      "valid_error = {}\n",
      "test_error = {}\n",
      "\n",
      "for k=1,#(reports) do\n",
      "    train_error[k] = 100*(1-reports[k].optimizer.feedback.confusion.accuracy)\n",
      "    valid_error[k] = 100*(1-reports[k].validator.feedback.confusion.accuracy)\n",
      "    test_error[k] = 100*(1-reports[k].tester.feedback.confusion.accuracy)\n",
      "    \n",
      "end\n",
      "Plot = require 'itorch.Plot'\n",
      "\n",
      "\n",
      "epochs = torch.range(1,#reports)\n",
      "plot = Plot()\n",
      "plot = plot:line(epochs, train_error,'red','train error (%)')\n",
      "plot = plot:line(epochs, valid_error,'blue','valid error (%)')\n",
      "plot = plot:line(epochs, test_error,'green','test error (%)')\n",
      "plot = plot:legend(true):title('Error')\n",
      "plot:draw()\n"
     ],
     "language": "python",
     "metadata": {},
     "outputs": [
      {
       "html": [
        "<script type=\"text/javascript\">\n",
        "$(function() {\n",
        "    if (typeof (window._bokeh_onload_callbacks) === \"undefined\"){\n",
        "  window._bokeh_onload_callbacks = [];\n",
        "    }\n",
        "    function load_lib(url, callback){\n",
        "  window._bokeh_onload_callbacks.push(callback);\n",
        "  if (window._bokeh_is_loading){\n",
        "      console.log(\"Bokeh: BokehJS is being loaded, scheduling callback at\", new Date());\n",
        "      return null;\n",
        "  }\n",
        "  console.log(\"Bokeh: BokehJS not loaded, scheduling load and callback at\", new Date());\n",
        "  window._bokeh_is_loading = true;\n",
        "  var s = document.createElement('script');\n",
        "  s.src = url;\n",
        "  s.async = true;\n",
        "  s.onreadystatechange = s.onload = function(){\n",
        "      Bokeh.embed.inject_css(\"http://cdn.pydata.org/bokeh-0.7.0.min.css\");\n",
        "      window._bokeh_onload_callbacks.forEach(function(callback){callback()});\n",
        "  };\n",
        "  s.onerror = function(){\n",
        "      console.warn(\"failed to load library \" + url);\n",
        "  };\n",
        "  document.getElementsByTagName(\"head\")[0].appendChild(s);\n",
        "    }\n",
        "\n",
        "    bokehjs_url = \"http://cdn.pydata.org/bokeh-0.7.0.min.js\"\n",
        "\n",
        "    var elt = document.getElementById(\"86fa3011-da95-40cb-c0fd-154f44bef28e\");\n",
        "    if(elt==null) {\n",
        "  console.log(\"Bokeh: ERROR: autoload.js configured with elementid '86fa3011-da95-40cb-c0fd-154f44bef28e'\"\n",
        "        + \"but no matching script tag was found. \")\n",
        "  return false;\n",
        "    }\n",
        "\n",
        "    if(typeof(Bokeh) !== \"undefined\") {\n",
        "  console.log(\"Bokeh: BokehJS loaded, going straight to plotting\");\n",
        "  var modelid = \"c7434c4c-8ea4-4e68-ce64-0fd45bd9df8e\";\n",
        "  var modeltype = \"Plot\";\n",
        "  var all_models = [{\"type\":\"ColumnDataSource\",\"attributes\":{\"cont_ranges\":{},\"column_names\":[\"x\",\"y\"],\"data\":{\"y\":[31.797534068787,25.5029201817,22.388059701493,20.765736534718,19.273199221285,18.494484101233,17.65087605451,15.833874107722,15.120051914341,13.692407527579,13.951979234263,12.524334847502,11.74561972745,11.74561972745,9.9935107073329,9.6041531473069,9.020116807268,7.9818299805321,7.4626865671642,6.6190785204413,6.1648280337443,6.4243997404283,5.8403634003894,4.8669695003245,4.7371836469825,3.6340038935756,3.8935756002596,2.9201817001947,2.4659312134977,2.6606099935107,2.0765736534718,1.5574302401038,1.6872160934458,1.3627514600908,1.3627514600908,1.3627514600908,0.9085009733939,0.97339390006489,0.9085009733939,0.9085009733939,1.0382868267359,0.51914341336794,0.45425048669695,0.45425048669695,0.77871512005191,0.32446463335496,0.45425048669695,0.32446463335496,0.25957170668397,0.32446463335496,0.38935756002596,0.32446463335496,0.25957170668397,0.25957170668397,0.19467878001298,0.19467878001298,0.45425048669695,0.19467878001298,0.25957170668397,0.12978585334199],\"x\":[1,2,3,4,5,6,7,8,9,10,11,12,13,14,15,16,17,18,19,20,21,22,23,24,25,26,27,28,29,30,31,32,33,34,35,36,37,38,39,40,41,42,43,44,45,46,47,48,49,50,51,52,53,54,55,56,57,58,59,60]},\"selected\":[],\"tags\":[],\"doc\":null,\"discrete_ranges\":{},\"id\":\"b58453b3-d479-4b7a-cbc0-f35430011e2e\"},\"id\":\"b58453b3-d479-4b7a-cbc0-f35430011e2e\"},{\"type\":\"Line\",\"attributes\":{\"x\":{\"units\":\"data\",\"field\":\"x\"},\"size\":{\"units\":\"screen\",\"value\":10},\"id\":\"8e002319-47a3-4dce-cd2e-eded5481b61d\",\"y\":{\"units\":\"data\",\"field\":\"y\"},\"doc\":null,\"fill_color\":{\"value\":\"red\"},\"fill_alpha\":{\"units\":\"data\",\"value\":0.2},\"line_alpha\":{\"units\":\"data\",\"value\":1},\"tags\":[],\"line_color\":{\"value\":\"red\"}},\"id\":\"8e002319-47a3-4dce-cd2e-eded5481b61d\"},{\"type\":\"Line\",\"attributes\":{\"x\":{\"units\":\"data\",\"field\":\"x\"},\"size\":{\"units\":\"screen\",\"value\":10},\"id\":\"17b318ab-b2fd-4bc1-cb79-ae9e8fd7b684\",\"y\":{\"units\":\"data\",\"field\":\"y\"},\"doc\":null,\"fill_color\":{\"value\":\"red\"},\"fill_alpha\":{\"units\":\"data\",\"value\":0.2},\"line_alpha\":{\"units\":\"data\",\"value\":1},\"tags\":[],\"line_color\":{\"value\":\"red\"}},\"id\":\"17b318ab-b2fd-4bc1-cb79-ae9e8fd7b684\"},{\"type\":\"GlyphRenderer\",\"attributes\":{\"data_source\":{\"type\":\"ColumnDataSource\",\"id\":\"b58453b3-d479-4b7a-cbc0-f35430011e2e\"},\"id\":\"0ddf3c2a-1ff3-4d8e-cdd2-873c62146687\",\"server_data_source\":null,\"doc\":null,\"nonselection_glyph\":{\"type\":\"Line\",\"id\":\"17b318ab-b2fd-4bc1-cb79-ae9e8fd7b684\"},\"glyph\":{\"type\":\"Line\",\"id\":\"8e002319-47a3-4dce-cd2e-eded5481b61d\"},\"tags\":[],\"name\":null,\"selection_glyph\":null},\"id\":\"0ddf3c2a-1ff3-4d8e-cdd2-873c62146687\"},{\"type\":\"ColumnDataSource\",\"attributes\":{\"cont_ranges\":{},\"column_names\":[\"x\",\"y\"],\"data\":{\"y\":[21.502590673575,25.388601036269,23.316062176166,22.79792746114,24.093264248705,28.756476683938,22.020725388601,25.906735751295,26.165803108808,24.611398963731,26.424870466321,25.647668393782,24.093264248705,25.647668393782,28.756476683938,29.015544041451,29.015544041451,25.388601036269,27.979274611399,24.093264248705,25.647668393782,25.129533678756,24.611398963731,27.461139896373,25.647668393782,26.683937823834,27.20207253886,25.647668393782,24.093264248705,25.647668393782,24.611398963731,26.424870466321,25.906735751295,25.647668393782,25.388601036269,25.906735751295,26.424870466321,25.906735751295,26.683937823834,25.906735751295,28.756476683938,29.533678756477,25.647668393782,25.906735751295,26.683937823834,26.424870466321,29.533678756477,26.683937823834,27.20207253886,27.20207253886,27.461139896373,25.388601036269,26.165803108808,26.943005181347,26.943005181347,28.756476683938,26.165803108808,25.906735751295,26.683937823834,25.647668393782],\"x\":[1,2,3,4,5,6,7,8,9,10,11,12,13,14,15,16,17,18,19,20,21,22,23,24,25,26,27,28,29,30,31,32,33,34,35,36,37,38,39,40,41,42,43,44,45,46,47,48,49,50,51,52,53,54,55,56,57,58,59,60]},\"selected\":[],\"tags\":[],\"doc\":null,\"discrete_ranges\":{},\"id\":\"fe3416d2-1834-4e73-ce14-fca0d0cc6a2a\"},\"id\":\"fe3416d2-1834-4e73-ce14-fca0d0cc6a2a\"},{\"type\":\"Line\",\"attributes\":{\"x\":{\"units\":\"data\",\"field\":\"x\"},\"size\":{\"units\":\"screen\",\"value\":10},\"id\":\"4df3e8c4-9b86-42d8-c2a8-6a993943fe21\",\"y\":{\"units\":\"data\",\"field\":\"y\"},\"doc\":null,\"fill_color\":{\"value\":\"blue\"},\"fill_alpha\":{\"units\":\"data\",\"value\":0.2},\"line_alpha\":{\"units\":\"data\",\"value\":1},\"tags\":[],\"line_color\":{\"value\":\"blue\"}},\"id\":\"4df3e8c4-9b86-42d8-c2a8-6a993943fe21\"},{\"type\":\"Line\",\"attributes\":{\"x\":{\"units\":\"data\",\"field\":\"x\"},\"size\":{\"units\":\"screen\",\"value\":10},\"id\":\"d4667152-dbd7-49f5-c9ec-fbc4beb5d3af\",\"y\":{\"units\":\"data\",\"field\":\"y\"},\"doc\":null,\"fill_color\":{\"value\":\"blue\"},\"fill_alpha\":{\"units\":\"data\",\"value\":0.2},\"line_alpha\":{\"units\":\"data\",\"value\":1},\"tags\":[],\"line_color\":{\"value\":\"blue\"}},\"id\":\"d4667152-dbd7-49f5-c9ec-fbc4beb5d3af\"},{\"type\":\"GlyphRenderer\",\"attributes\":{\"data_source\":{\"type\":\"ColumnDataSource\",\"id\":\"fe3416d2-1834-4e73-ce14-fca0d0cc6a2a\"},\"id\":\"34dc40a4-887c-40e7-c0bc-2508d8e57c9c\",\"server_data_source\":null,\"doc\":null,\"nonselection_glyph\":{\"type\":\"Line\",\"id\":\"d4667152-dbd7-49f5-c9ec-fbc4beb5d3af\"},\"glyph\":{\"type\":\"Line\",\"id\":\"4df3e8c4-9b86-42d8-c2a8-6a993943fe21\"},\"tags\":[],\"name\":null,\"selection_glyph\":null},\"id\":\"34dc40a4-887c-40e7-c0bc-2508d8e57c9c\"},{\"type\":\"ColumnDataSource\",\"attributes\":{\"cont_ranges\":{},\"column_names\":[\"x\",\"y\"],\"data\":{\"y\":[27.906976744186,28.837209302326,26.976744186047,21.860465116279,25.581395348837,27.441860465116,26.046511627907,28.372093023256,27.906976744186,30.697674418605,29.302325581395,27.906976744186,25.581395348837,29.302325581395,28.837209302326,30.232558139535,31.162790697674,22.325581395349,25.116279069767,28.372093023256,28.837209302326,29.767441860465,29.767441860465,28.837209302326,29.302325581395,30.232558139535,27.441860465116,31.162790697674,31.162790697674,30.232558139535,30.697674418605,31.627906976744,32.093023255814,30.697674418605,32.093023255814,28.837209302326,30.697674418605,30.232558139535,30.232558139535,28.837209302326,29.767441860465,29.767441860465,30.232558139535,30.697674418605,31.627906976744,28.837209302326,29.767441860465,29.302325581395,29.767441860465,29.767441860465,31.162790697674,30.697674418605,30.232558139535,29.767441860465,30.232558139535,30.232558139535,29.767441860465,29.302325581395,29.767441860465,29.302325581395],\"x\":[1,2,3,4,5,6,7,8,9,10,11,12,13,14,15,16,17,18,19,20,21,22,23,24,25,26,27,28,29,30,31,32,33,34,35,36,37,38,39,40,41,42,43,44,45,46,47,48,49,50,51,52,53,54,55,56,57,58,59,60]},\"selected\":[],\"tags\":[],\"doc\":null,\"discrete_ranges\":{},\"id\":\"ea2f5270-f00b-46b8-c6ce-dfc7be05e9fe\"},\"id\":\"ea2f5270-f00b-46b8-c6ce-dfc7be05e9fe\"},{\"type\":\"Line\",\"attributes\":{\"x\":{\"units\":\"data\",\"field\":\"x\"},\"size\":{\"units\":\"screen\",\"value\":10},\"id\":\"b1b9c0f7-18c2-4b30-cb06-a9346883d621\",\"y\":{\"units\":\"data\",\"field\":\"y\"},\"doc\":null,\"fill_color\":{\"value\":\"green\"},\"fill_alpha\":{\"units\":\"data\",\"value\":0.2},\"line_alpha\":{\"units\":\"data\",\"value\":1},\"tags\":[],\"line_color\":{\"value\":\"green\"}},\"id\":\"b1b9c0f7-18c2-4b30-cb06-a9346883d621\"},{\"type\":\"Line\",\"attributes\":{\"x\":{\"units\":\"data\",\"field\":\"x\"},\"size\":{\"units\":\"screen\",\"value\":10},\"id\":\"a7402da7-dc55-4df1-cd51-29d2cb8d1655\",\"y\":{\"units\":\"data\",\"field\":\"y\"},\"doc\":null,\"fill_color\":{\"value\":\"green\"},\"fill_alpha\":{\"units\":\"data\",\"value\":0.2},\"line_alpha\":{\"units\":\"data\",\"value\":1},\"tags\":[],\"line_color\":{\"value\":\"green\"}},\"id\":\"a7402da7-dc55-4df1-cd51-29d2cb8d1655\"},{\"type\":\"GlyphRenderer\",\"attributes\":{\"data_source\":{\"type\":\"ColumnDataSource\",\"id\":\"ea2f5270-f00b-46b8-c6ce-dfc7be05e9fe\"},\"id\":\"a43bdfc5-7445-49b4-c99f-d91ce58cf82d\",\"server_data_source\":null,\"doc\":null,\"nonselection_glyph\":{\"type\":\"Line\",\"id\":\"a7402da7-dc55-4df1-cd51-29d2cb8d1655\"},\"glyph\":{\"type\":\"Line\",\"id\":\"b1b9c0f7-18c2-4b30-cb06-a9346883d621\"},\"tags\":[],\"name\":null,\"selection_glyph\":null},\"id\":\"a43bdfc5-7445-49b4-c99f-d91ce58cf82d\"},{\"type\":\"DataRange1d\",\"attributes\":{\"tags\":[],\"doc\":null,\"sources\":[{\"source\":{\"type\":\"ColumnDataSource\",\"id\":\"b58453b3-d479-4b7a-cbc0-f35430011e2e\"},\"columns\":[\"x\"]},{\"source\":{\"type\":\"ColumnDataSource\",\"id\":\"fe3416d2-1834-4e73-ce14-fca0d0cc6a2a\"},\"columns\":[\"x\"]},{\"source\":{\"type\":\"ColumnDataSource\",\"id\":\"ea2f5270-f00b-46b8-c6ce-dfc7be05e9fe\"},\"columns\":[\"x\"]}],\"id\":\"79c781d7-1b39-4213-c22e-b4a5c488d494\"},\"id\":\"79c781d7-1b39-4213-c22e-b4a5c488d494\"},{\"type\":\"DataRange1d\",\"attributes\":{\"tags\":[],\"doc\":null,\"sources\":[{\"source\":{\"type\":\"ColumnDataSource\",\"id\":\"b58453b3-d479-4b7a-cbc0-f35430011e2e\"},\"columns\":[\"y\"]},{\"source\":{\"type\":\"ColumnDataSource\",\"id\":\"fe3416d2-1834-4e73-ce14-fca0d0cc6a2a\"},\"columns\":[\"y\"]},{\"source\":{\"type\":\"ColumnDataSource\",\"id\":\"ea2f5270-f00b-46b8-c6ce-dfc7be05e9fe\"},\"columns\":[\"y\"]}],\"id\":\"4e724ce8-bade-49f8-c996-f61528504753\"},\"id\":\"4e724ce8-bade-49f8-c996-f61528504753\"},{\"type\":\"ToolEvents\",\"attributes\":{\"tags\":[],\"doc\":null,\"geometries\":[],\"id\":\"e54ee3f5-a72a-48cf-c800-fe7ce3ba080d\"},\"id\":\"e54ee3f5-a72a-48cf-c800-fe7ce3ba080d\"},{\"type\":\"BasicTickFormatter\",\"attributes\":{\"tags\":[],\"doc\":null,\"id\":\"91ac66b2-8ece-455a-c5ae-92afaade4d9d\"},\"id\":\"91ac66b2-8ece-455a-c5ae-92afaade4d9d\"},{\"type\":\"BasicTicker\",\"attributes\":{\"tags\":[],\"doc\":null,\"num_minor_ticks\":5,\"id\":\"61582cdd-59e4-4bbb-cbc7-46a23e3dd4b9\"},\"id\":\"61582cdd-59e4-4bbb-cbc7-46a23e3dd4b9\"},{\"type\":\"LinearAxis\",\"attributes\":{\"plot\":{\"type\":\"Plot\",\"subtype\":\"Figure\",\"id\":\"c7434c4c-8ea4-4e68-ce64-0fd45bd9df8e\"},\"ticker\":{\"type\":\"BasicTicker\",\"id\":\"61582cdd-59e4-4bbb-cbc7-46a23e3dd4b9\"},\"id\":\"e6ea205d-d82a-40d5-c081-716b0e361c1b\",\"tags\":[],\"doc\":null,\"formatter\":{\"type\":\"BasicTickFormatter\",\"id\":\"91ac66b2-8ece-455a-c5ae-92afaade4d9d\"},\"axis_label\":null},\"id\":\"e6ea205d-d82a-40d5-c081-716b0e361c1b\"},{\"type\":\"Grid\",\"attributes\":{\"plot\":{\"type\":\"Plot\",\"subtype\":\"Figure\",\"id\":\"c7434c4c-8ea4-4e68-ce64-0fd45bd9df8e\"},\"id\":\"ede583ac-bd29-426e-c2eb-e1b52de94921\",\"tags\":[],\"doc\":null,\"ticker\":{\"type\":\"BasicTicker\",\"id\":\"61582cdd-59e4-4bbb-cbc7-46a23e3dd4b9\"},\"dimension\":0},\"id\":\"ede583ac-bd29-426e-c2eb-e1b52de94921\"},{\"type\":\"BasicTickFormatter\",\"attributes\":{\"tags\":[],\"doc\":null,\"id\":\"107a367b-d038-41ab-c1a8-67298de7079a\"},\"id\":\"107a367b-d038-41ab-c1a8-67298de7079a\"},{\"type\":\"BasicTicker\",\"attributes\":{\"tags\":[],\"doc\":null,\"num_minor_ticks\":5,\"id\":\"c8113243-da1f-46ef-c602-de0c8ade557d\"},\"id\":\"c8113243-da1f-46ef-c602-de0c8ade557d\"},{\"type\":\"LinearAxis\",\"attributes\":{\"plot\":{\"type\":\"Plot\",\"subtype\":\"Figure\",\"id\":\"c7434c4c-8ea4-4e68-ce64-0fd45bd9df8e\"},\"ticker\":{\"type\":\"BasicTicker\",\"id\":\"c8113243-da1f-46ef-c602-de0c8ade557d\"},\"id\":\"8b7f310f-02b5-4acd-caf3-2f7059104062\",\"tags\":[],\"doc\":null,\"formatter\":{\"type\":\"BasicTickFormatter\",\"id\":\"107a367b-d038-41ab-c1a8-67298de7079a\"},\"axis_label\":null},\"id\":\"8b7f310f-02b5-4acd-caf3-2f7059104062\"},{\"type\":\"Grid\",\"attributes\":{\"plot\":{\"type\":\"Plot\",\"subtype\":\"Figure\",\"id\":\"c7434c4c-8ea4-4e68-ce64-0fd45bd9df8e\"},\"id\":\"91d7c378-3578-460f-c608-8590c466fa59\",\"tags\":[],\"doc\":null,\"ticker\":{\"type\":\"BasicTicker\",\"id\":\"c8113243-da1f-46ef-c602-de0c8ade557d\"},\"dimension\":1},\"id\":\"91d7c378-3578-460f-c608-8590c466fa59\"},{\"type\":\"PanTool\",\"attributes\":{\"plot\":{\"type\":\"Plot\",\"subtype\":\"Figure\",\"id\":\"c7434c4c-8ea4-4e68-ce64-0fd45bd9df8e\"},\"id\":\"77ded6eb-50b7-41ff-c17f-44324aa0b023\",\"tags\":[],\"doc\":null,\"dimensions\":[\"width\",\"height\"]},\"id\":\"77ded6eb-50b7-41ff-c17f-44324aa0b023\"},{\"type\":\"WheelZoomTool\",\"attributes\":{\"plot\":{\"type\":\"Plot\",\"subtype\":\"Figure\",\"id\":\"c7434c4c-8ea4-4e68-ce64-0fd45bd9df8e\"},\"id\":\"1683e90b-fc80-46ab-c627-5fde3b17c9b2\",\"tags\":[],\"doc\":null,\"dimensions\":[\"width\",\"height\"]},\"id\":\"1683e90b-fc80-46ab-c627-5fde3b17c9b2\"},{\"type\":\"BoxZoomTool\",\"attributes\":{\"tags\":[],\"doc\":null,\"plot\":{\"type\":\"Plot\",\"subtype\":\"Figure\",\"id\":\"c7434c4c-8ea4-4e68-ce64-0fd45bd9df8e\"},\"id\":\"4f73fd9c-bea1-44de-c4cc-373b19ec419c\"},\"id\":\"4f73fd9c-bea1-44de-c4cc-373b19ec419c\"},{\"type\":\"PreviewSaveTool\",\"attributes\":{\"tags\":[],\"doc\":null,\"plot\":{\"type\":\"Plot\",\"subtype\":\"Figure\",\"id\":\"c7434c4c-8ea4-4e68-ce64-0fd45bd9df8e\"},\"id\":\"7fc2bffe-1eff-41c8-c131-72eba7150383\"},\"id\":\"7fc2bffe-1eff-41c8-c131-72eba7150383\"},{\"type\":\"ResizeTool\",\"attributes\":{\"tags\":[],\"doc\":null,\"plot\":{\"type\":\"Plot\",\"subtype\":\"Figure\",\"id\":\"c7434c4c-8ea4-4e68-ce64-0fd45bd9df8e\"},\"id\":\"e2c48277-9a8b-4d87-cdc8-aefb85dbea87\"},\"id\":\"e2c48277-9a8b-4d87-cdc8-aefb85dbea87\"},{\"type\":\"ResetTool\",\"attributes\":{\"tags\":[],\"doc\":null,\"plot\":{\"type\":\"Plot\",\"subtype\":\"Figure\",\"id\":\"c7434c4c-8ea4-4e68-ce64-0fd45bd9df8e\"},\"id\":\"159b4945-c601-4178-c10e-57b9bc48303f\"},\"id\":\"159b4945-c601-4178-c10e-57b9bc48303f\"},{\"type\":\"Legend\",\"attributes\":{\"plot\":{\"type\":\"Plot\",\"subtype\":\"Figure\",\"id\":\"c7434c4c-8ea4-4e68-ce64-0fd45bd9df8e\"},\"id\":\"3f19bd24-8477-448b-c402-ba70e94aa2a1\",\"tags\":[],\"doc\":null,\"legends\":[[\"train error (%)\",[{\"type\":\"GlyphRenderer\",\"id\":\"0ddf3c2a-1ff3-4d8e-cdd2-873c62146687\"}]],[\"valid error (%)\",[{\"type\":\"GlyphRenderer\",\"id\":\"34dc40a4-887c-40e7-c0bc-2508d8e57c9c\"}]],[\"test error (%)\",[{\"type\":\"GlyphRenderer\",\"id\":\"a43bdfc5-7445-49b4-c99f-d91ce58cf82d\"}]]]},\"id\":\"3f19bd24-8477-448b-c402-ba70e94aa2a1\"},{\"type\":\"Plot\",\"attributes\":{\"right\":[],\"extra_y_ranges\":{},\"x_range\":{\"type\":\"DataRange1d\",\"id\":\"79c781d7-1b39-4213-c22e-b4a5c488d494\"},\"id\":\"c7434c4c-8ea4-4e68-ce64-0fd45bd9df8e\",\"doc\":null,\"title\":\"Error\",\"renderers\":[{\"type\":\"GlyphRenderer\",\"id\":\"0ddf3c2a-1ff3-4d8e-cdd2-873c62146687\"},{\"type\":\"GlyphRenderer\",\"id\":\"34dc40a4-887c-40e7-c0bc-2508d8e57c9c\"},{\"type\":\"GlyphRenderer\",\"id\":\"a43bdfc5-7445-49b4-c99f-d91ce58cf82d\"},{\"type\":\"LinearAxis\",\"id\":\"e6ea205d-d82a-40d5-c081-716b0e361c1b\"},{\"type\":\"Grid\",\"id\":\"ede583ac-bd29-426e-c2eb-e1b52de94921\"},{\"type\":\"LinearAxis\",\"id\":\"8b7f310f-02b5-4acd-caf3-2f7059104062\"},{\"type\":\"Grid\",\"id\":\"91d7c378-3578-460f-c608-8590c466fa59\"},{\"type\":\"Legend\",\"id\":\"3f19bd24-8477-448b-c402-ba70e94aa2a1\"}],\"tools\":[{\"type\":\"PanTool\",\"id\":\"77ded6eb-50b7-41ff-c17f-44324aa0b023\"},{\"type\":\"WheelZoomTool\",\"id\":\"1683e90b-fc80-46ab-c627-5fde3b17c9b2\"},{\"type\":\"BoxZoomTool\",\"id\":\"4f73fd9c-bea1-44de-c4cc-373b19ec419c\"},{\"type\":\"PreviewSaveTool\",\"id\":\"7fc2bffe-1eff-41c8-c131-72eba7150383\"},{\"type\":\"ResizeTool\",\"id\":\"e2c48277-9a8b-4d87-cdc8-aefb85dbea87\"},{\"type\":\"ResetTool\",\"id\":\"159b4945-c601-4178-c10e-57b9bc48303f\"}],\"left\":[{\"type\":\"LinearAxis\",\"id\":\"8b7f310f-02b5-4acd-caf3-2f7059104062\"}],\"above\":[],\"extra_x_ranges\":{},\"tags\":[],\"tool_events\":{\"type\":\"ToolEvents\",\"id\":\"e54ee3f5-a72a-48cf-c800-fe7ce3ba080d\"},\"y_range\":{\"type\":\"DataRange1d\",\"id\":\"4e724ce8-bade-49f8-c996-f61528504753\"},\"below\":[{\"type\":\"LinearAxis\",\"id\":\"e6ea205d-d82a-40d5-c081-716b0e361c1b\"}]},\"id\":\"c7434c4c-8ea4-4e68-ce64-0fd45bd9df8e\"}];\n",
        "  Bokeh.load_models(all_models);\n",
        "  var model = Bokeh.Collections(modeltype).get(modelid);\n",
        "  $(\"#86fa3011-da95-40cb-c0fd-154f44bef28e\").html(''); // clear any previous plot in window_id\n",
        "  var view = new model.default_view({model: model, el: \"#86fa3011-da95-40cb-c0fd-154f44bef28e\"});\n",
        "    } else {\n",
        "  load_lib(bokehjs_url, function() {\n",
        "      console.log(\"Bokeh: BokehJS plotting callback run at\", new Date())\n",
        "      var modelid = \"c7434c4c-8ea4-4e68-ce64-0fd45bd9df8e\";\n",
        "      var modeltype = \"Plot\";\n",
        "      var all_models = [{\"type\":\"ColumnDataSource\",\"attributes\":{\"cont_ranges\":{},\"column_names\":[\"x\",\"y\"],\"data\":{\"y\":[31.797534068787,25.5029201817,22.388059701493,20.765736534718,19.273199221285,18.494484101233,17.65087605451,15.833874107722,15.120051914341,13.692407527579,13.951979234263,12.524334847502,11.74561972745,11.74561972745,9.9935107073329,9.6041531473069,9.020116807268,7.9818299805321,7.4626865671642,6.6190785204413,6.1648280337443,6.4243997404283,5.8403634003894,4.8669695003245,4.7371836469825,3.6340038935756,3.8935756002596,2.9201817001947,2.4659312134977,2.6606099935107,2.0765736534718,1.5574302401038,1.6872160934458,1.3627514600908,1.3627514600908,1.3627514600908,0.9085009733939,0.97339390006489,0.9085009733939,0.9085009733939,1.0382868267359,0.51914341336794,0.45425048669695,0.45425048669695,0.77871512005191,0.32446463335496,0.45425048669695,0.32446463335496,0.25957170668397,0.32446463335496,0.38935756002596,0.32446463335496,0.25957170668397,0.25957170668397,0.19467878001298,0.19467878001298,0.45425048669695,0.19467878001298,0.25957170668397,0.12978585334199],\"x\":[1,2,3,4,5,6,7,8,9,10,11,12,13,14,15,16,17,18,19,20,21,22,23,24,25,26,27,28,29,30,31,32,33,34,35,36,37,38,39,40,41,42,43,44,45,46,47,48,49,50,51,52,53,54,55,56,57,58,59,60]},\"selected\":[],\"tags\":[],\"doc\":null,\"discrete_ranges\":{},\"id\":\"b58453b3-d479-4b7a-cbc0-f35430011e2e\"},\"id\":\"b58453b3-d479-4b7a-cbc0-f35430011e2e\"},{\"type\":\"Line\",\"attributes\":{\"x\":{\"units\":\"data\",\"field\":\"x\"},\"size\":{\"units\":\"screen\",\"value\":10},\"id\":\"8e002319-47a3-4dce-cd2e-eded5481b61d\",\"y\":{\"units\":\"data\",\"field\":\"y\"},\"doc\":null,\"fill_color\":{\"value\":\"red\"},\"fill_alpha\":{\"units\":\"data\",\"value\":0.2},\"line_alpha\":{\"units\":\"data\",\"value\":1},\"tags\":[],\"line_color\":{\"value\":\"red\"}},\"id\":\"8e002319-47a3-4dce-cd2e-eded5481b61d\"},{\"type\":\"Line\",\"attributes\":{\"x\":{\"units\":\"data\",\"field\":\"x\"},\"size\":{\"units\":\"screen\",\"value\":10},\"id\":\"17b318ab-b2fd-4bc1-cb79-ae9e8fd7b684\",\"y\":{\"units\":\"data\",\"field\":\"y\"},\"doc\":null,\"fill_color\":{\"value\":\"red\"},\"fill_alpha\":{\"units\":\"data\",\"value\":0.2},\"line_alpha\":{\"units\":\"data\",\"value\":1},\"tags\":[],\"line_color\":{\"value\":\"red\"}},\"id\":\"17b318ab-b2fd-4bc1-cb79-ae9e8fd7b684\"},{\"type\":\"GlyphRenderer\",\"attributes\":{\"data_source\":{\"type\":\"ColumnDataSource\",\"id\":\"b58453b3-d479-4b7a-cbc0-f35430011e2e\"},\"id\":\"0ddf3c2a-1ff3-4d8e-cdd2-873c62146687\",\"server_data_source\":null,\"doc\":null,\"nonselection_glyph\":{\"type\":\"Line\",\"id\":\"17b318ab-b2fd-4bc1-cb79-ae9e8fd7b684\"},\"glyph\":{\"type\":\"Line\",\"id\":\"8e002319-47a3-4dce-cd2e-eded5481b61d\"},\"tags\":[],\"name\":null,\"selection_glyph\":null},\"id\":\"0ddf3c2a-1ff3-4d8e-cdd2-873c62146687\"},{\"type\":\"ColumnDataSource\",\"attributes\":{\"cont_ranges\":{},\"column_names\":[\"x\",\"y\"],\"data\":{\"y\":[21.502590673575,25.388601036269,23.316062176166,22.79792746114,24.093264248705,28.756476683938,22.020725388601,25.906735751295,26.165803108808,24.611398963731,26.424870466321,25.647668393782,24.093264248705,25.647668393782,28.756476683938,29.015544041451,29.015544041451,25.388601036269,27.979274611399,24.093264248705,25.647668393782,25.129533678756,24.611398963731,27.461139896373,25.647668393782,26.683937823834,27.20207253886,25.647668393782,24.093264248705,25.647668393782,24.611398963731,26.424870466321,25.906735751295,25.647668393782,25.388601036269,25.906735751295,26.424870466321,25.906735751295,26.683937823834,25.906735751295,28.756476683938,29.533678756477,25.647668393782,25.906735751295,26.683937823834,26.424870466321,29.533678756477,26.683937823834,27.20207253886,27.20207253886,27.461139896373,25.388601036269,26.165803108808,26.943005181347,26.943005181347,28.756476683938,26.165803108808,25.906735751295,26.683937823834,25.647668393782],\"x\":[1,2,3,4,5,6,7,8,9,10,11,12,13,14,15,16,17,18,19,20,21,22,23,24,25,26,27,28,29,30,31,32,33,34,35,36,37,38,39,40,41,42,43,44,45,46,47,48,49,50,51,52,53,54,55,56,57,58,59,60]},\"selected\":[],\"tags\":[],\"doc\":null,\"discrete_ranges\":{},\"id\":\"fe3416d2-1834-4e73-ce14-fca0d0cc6a2a\"},\"id\":\"fe3416d2-1834-4e73-ce14-fca0d0cc6a2a\"},{\"type\":\"Line\",\"attributes\":{\"x\":{\"units\":\"data\",\"field\":\"x\"},\"size\":{\"units\":\"screen\",\"value\":10},\"id\":\"4df3e8c4-9b86-42d8-c2a8-6a993943fe21\",\"y\":{\"units\":\"data\",\"field\":\"y\"},\"doc\":null,\"fill_color\":{\"value\":\"blue\"},\"fill_alpha\":{\"units\":\"data\",\"value\":0.2},\"line_alpha\":{\"units\":\"data\",\"value\":1},\"tags\":[],\"line_color\":{\"value\":\"blue\"}},\"id\":\"4df3e8c4-9b86-42d8-c2a8-6a993943fe21\"},{\"type\":\"Line\",\"attributes\":{\"x\":{\"units\":\"data\",\"field\":\"x\"},\"size\":{\"units\":\"screen\",\"value\":10},\"id\":\"d4667152-dbd7-49f5-c9ec-fbc4beb5d3af\",\"y\":{\"units\":\"data\",\"field\":\"y\"},\"doc\":null,\"fill_color\":{\"value\":\"blue\"},\"fill_alpha\":{\"units\":\"data\",\"value\":0.2},\"line_alpha\":{\"units\":\"data\",\"value\":1},\"tags\":[],\"line_color\":{\"value\":\"blue\"}},\"id\":\"d4667152-dbd7-49f5-c9ec-fbc4beb5d3af\"},{\"type\":\"GlyphRenderer\",\"attributes\":{\"data_source\":{\"type\":\"ColumnDataSource\",\"id\":\"fe3416d2-1834-4e73-ce14-fca0d0cc6a2a\"},\"id\":\"34dc40a4-887c-40e7-c0bc-2508d8e57c9c\",\"server_data_source\":null,\"doc\":null,\"nonselection_glyph\":{\"type\":\"Line\",\"id\":\"d4667152-dbd7-49f5-c9ec-fbc4beb5d3af\"},\"glyph\":{\"type\":\"Line\",\"id\":\"4df3e8c4-9b86-42d8-c2a8-6a993943fe21\"},\"tags\":[],\"name\":null,\"selection_glyph\":null},\"id\":\"34dc40a4-887c-40e7-c0bc-2508d8e57c9c\"},{\"type\":\"ColumnDataSource\",\"attributes\":{\"cont_ranges\":{},\"column_names\":[\"x\",\"y\"],\"data\":{\"y\":[27.906976744186,28.837209302326,26.976744186047,21.860465116279,25.581395348837,27.441860465116,26.046511627907,28.372093023256,27.906976744186,30.697674418605,29.302325581395,27.906976744186,25.581395348837,29.302325581395,28.837209302326,30.232558139535,31.162790697674,22.325581395349,25.116279069767,28.372093023256,28.837209302326,29.767441860465,29.767441860465,28.837209302326,29.302325581395,30.232558139535,27.441860465116,31.162790697674,31.162790697674,30.232558139535,30.697674418605,31.627906976744,32.093023255814,30.697674418605,32.093023255814,28.837209302326,30.697674418605,30.232558139535,30.232558139535,28.837209302326,29.767441860465,29.767441860465,30.232558139535,30.697674418605,31.627906976744,28.837209302326,29.767441860465,29.302325581395,29.767441860465,29.767441860465,31.162790697674,30.697674418605,30.232558139535,29.767441860465,30.232558139535,30.232558139535,29.767441860465,29.302325581395,29.767441860465,29.302325581395],\"x\":[1,2,3,4,5,6,7,8,9,10,11,12,13,14,15,16,17,18,19,20,21,22,23,24,25,26,27,28,29,30,31,32,33,34,35,36,37,38,39,40,41,42,43,44,45,46,47,48,49,50,51,52,53,54,55,56,57,58,59,60]},\"selected\":[],\"tags\":[],\"doc\":null,\"discrete_ranges\":{},\"id\":\"ea2f5270-f00b-46b8-c6ce-dfc7be05e9fe\"},\"id\":\"ea2f5270-f00b-46b8-c6ce-dfc7be05e9fe\"},{\"type\":\"Line\",\"attributes\":{\"x\":{\"units\":\"data\",\"field\":\"x\"},\"size\":{\"units\":\"screen\",\"value\":10},\"id\":\"b1b9c0f7-18c2-4b30-cb06-a9346883d621\",\"y\":{\"units\":\"data\",\"field\":\"y\"},\"doc\":null,\"fill_color\":{\"value\":\"green\"},\"fill_alpha\":{\"units\":\"data\",\"value\":0.2},\"line_alpha\":{\"units\":\"data\",\"value\":1},\"tags\":[],\"line_color\":{\"value\":\"green\"}},\"id\":\"b1b9c0f7-18c2-4b30-cb06-a9346883d621\"},{\"type\":\"Line\",\"attributes\":{\"x\":{\"units\":\"data\",\"field\":\"x\"},\"size\":{\"units\":\"screen\",\"value\":10},\"id\":\"a7402da7-dc55-4df1-cd51-29d2cb8d1655\",\"y\":{\"units\":\"data\",\"field\":\"y\"},\"doc\":null,\"fill_color\":{\"value\":\"green\"},\"fill_alpha\":{\"units\":\"data\",\"value\":0.2},\"line_alpha\":{\"units\":\"data\",\"value\":1},\"tags\":[],\"line_color\":{\"value\":\"green\"}},\"id\":\"a7402da7-dc55-4df1-cd51-29d2cb8d1655\"},{\"type\":\"GlyphRenderer\",\"attributes\":{\"data_source\":{\"type\":\"ColumnDataSource\",\"id\":\"ea2f5270-f00b-46b8-c6ce-dfc7be05e9fe\"},\"id\":\"a43bdfc5-7445-49b4-c99f-d91ce58cf82d\",\"server_data_source\":null,\"doc\":null,\"nonselection_glyph\":{\"type\":\"Line\",\"id\":\"a7402da7-dc55-4df1-cd51-29d2cb8d1655\"},\"glyph\":{\"type\":\"Line\",\"id\":\"b1b9c0f7-18c2-4b30-cb06-a9346883d621\"},\"tags\":[],\"name\":null,\"selection_glyph\":null},\"id\":\"a43bdfc5-7445-49b4-c99f-d91ce58cf82d\"},{\"type\":\"DataRange1d\",\"attributes\":{\"tags\":[],\"doc\":null,\"sources\":[{\"source\":{\"type\":\"ColumnDataSource\",\"id\":\"b58453b3-d479-4b7a-cbc0-f35430011e2e\"},\"columns\":[\"x\"]},{\"source\":{\"type\":\"ColumnDataSource\",\"id\":\"fe3416d2-1834-4e73-ce14-fca0d0cc6a2a\"},\"columns\":[\"x\"]},{\"source\":{\"type\":\"ColumnDataSource\",\"id\":\"ea2f5270-f00b-46b8-c6ce-dfc7be05e9fe\"},\"columns\":[\"x\"]}],\"id\":\"79c781d7-1b39-4213-c22e-b4a5c488d494\"},\"id\":\"79c781d7-1b39-4213-c22e-b4a5c488d494\"},{\"type\":\"DataRange1d\",\"attributes\":{\"tags\":[],\"doc\":null,\"sources\":[{\"source\":{\"type\":\"ColumnDataSource\",\"id\":\"b58453b3-d479-4b7a-cbc0-f35430011e2e\"},\"columns\":[\"y\"]},{\"source\":{\"type\":\"ColumnDataSource\",\"id\":\"fe3416d2-1834-4e73-ce14-fca0d0cc6a2a\"},\"columns\":[\"y\"]},{\"source\":{\"type\":\"ColumnDataSource\",\"id\":\"ea2f5270-f00b-46b8-c6ce-dfc7be05e9fe\"},\"columns\":[\"y\"]}],\"id\":\"4e724ce8-bade-49f8-c996-f61528504753\"},\"id\":\"4e724ce8-bade-49f8-c996-f61528504753\"},{\"type\":\"ToolEvents\",\"attributes\":{\"tags\":[],\"doc\":null,\"geometries\":[],\"id\":\"e54ee3f5-a72a-48cf-c800-fe7ce3ba080d\"},\"id\":\"e54ee3f5-a72a-48cf-c800-fe7ce3ba080d\"},{\"type\":\"BasicTickFormatter\",\"attributes\":{\"tags\":[],\"doc\":null,\"id\":\"91ac66b2-8ece-455a-c5ae-92afaade4d9d\"},\"id\":\"91ac66b2-8ece-455a-c5ae-92afaade4d9d\"},{\"type\":\"BasicTicker\",\"attributes\":{\"tags\":[],\"doc\":null,\"num_minor_ticks\":5,\"id\":\"61582cdd-59e4-4bbb-cbc7-46a23e3dd4b9\"},\"id\":\"61582cdd-59e4-4bbb-cbc7-46a23e3dd4b9\"},{\"type\":\"LinearAxis\",\"attributes\":{\"plot\":{\"type\":\"Plot\",\"subtype\":\"Figure\",\"id\":\"c7434c4c-8ea4-4e68-ce64-0fd45bd9df8e\"},\"ticker\":{\"type\":\"BasicTicker\",\"id\":\"61582cdd-59e4-4bbb-cbc7-46a23e3dd4b9\"},\"id\":\"e6ea205d-d82a-40d5-c081-716b0e361c1b\",\"tags\":[],\"doc\":null,\"formatter\":{\"type\":\"BasicTickFormatter\",\"id\":\"91ac66b2-8ece-455a-c5ae-92afaade4d9d\"},\"axis_label\":null},\"id\":\"e6ea205d-d82a-40d5-c081-716b0e361c1b\"},{\"type\":\"Grid\",\"attributes\":{\"plot\":{\"type\":\"Plot\",\"subtype\":\"Figure\",\"id\":\"c7434c4c-8ea4-4e68-ce64-0fd45bd9df8e\"},\"id\":\"ede583ac-bd29-426e-c2eb-e1b52de94921\",\"tags\":[],\"doc\":null,\"ticker\":{\"type\":\"BasicTicker\",\"id\":\"61582cdd-59e4-4bbb-cbc7-46a23e3dd4b9\"},\"dimension\":0},\"id\":\"ede583ac-bd29-426e-c2eb-e1b52de94921\"},{\"type\":\"BasicTickFormatter\",\"attributes\":{\"tags\":[],\"doc\":null,\"id\":\"107a367b-d038-41ab-c1a8-67298de7079a\"},\"id\":\"107a367b-d038-41ab-c1a8-67298de7079a\"},{\"type\":\"BasicTicker\",\"attributes\":{\"tags\":[],\"doc\":null,\"num_minor_ticks\":5,\"id\":\"c8113243-da1f-46ef-c602-de0c8ade557d\"},\"id\":\"c8113243-da1f-46ef-c602-de0c8ade557d\"},{\"type\":\"LinearAxis\",\"attributes\":{\"plot\":{\"type\":\"Plot\",\"subtype\":\"Figure\",\"id\":\"c7434c4c-8ea4-4e68-ce64-0fd45bd9df8e\"},\"ticker\":{\"type\":\"BasicTicker\",\"id\":\"c8113243-da1f-46ef-c602-de0c8ade557d\"},\"id\":\"8b7f310f-02b5-4acd-caf3-2f7059104062\",\"tags\":[],\"doc\":null,\"formatter\":{\"type\":\"BasicTickFormatter\",\"id\":\"107a367b-d038-41ab-c1a8-67298de7079a\"},\"axis_label\":null},\"id\":\"8b7f310f-02b5-4acd-caf3-2f7059104062\"},{\"type\":\"Grid\",\"attributes\":{\"plot\":{\"type\":\"Plot\",\"subtype\":\"Figure\",\"id\":\"c7434c4c-8ea4-4e68-ce64-0fd45bd9df8e\"},\"id\":\"91d7c378-3578-460f-c608-8590c466fa59\",\"tags\":[],\"doc\":null,\"ticker\":{\"type\":\"BasicTicker\",\"id\":\"c8113243-da1f-46ef-c602-de0c8ade557d\"},\"dimension\":1},\"id\":\"91d7c378-3578-460f-c608-8590c466fa59\"},{\"type\":\"PanTool\",\"attributes\":{\"plot\":{\"type\":\"Plot\",\"subtype\":\"Figure\",\"id\":\"c7434c4c-8ea4-4e68-ce64-0fd45bd9df8e\"},\"id\":\"77ded6eb-50b7-41ff-c17f-44324aa0b023\",\"tags\":[],\"doc\":null,\"dimensions\":[\"width\",\"height\"]},\"id\":\"77ded6eb-50b7-41ff-c17f-44324aa0b023\"},{\"type\":\"WheelZoomTool\",\"attributes\":{\"plot\":{\"type\":\"Plot\",\"subtype\":\"Figure\",\"id\":\"c7434c4c-8ea4-4e68-ce64-0fd45bd9df8e\"},\"id\":\"1683e90b-fc80-46ab-c627-5fde3b17c9b2\",\"tags\":[],\"doc\":null,\"dimensions\":[\"width\",\"height\"]},\"id\":\"1683e90b-fc80-46ab-c627-5fde3b17c9b2\"},{\"type\":\"BoxZoomTool\",\"attributes\":{\"tags\":[],\"doc\":null,\"plot\":{\"type\":\"Plot\",\"subtype\":\"Figure\",\"id\":\"c7434c4c-8ea4-4e68-ce64-0fd45bd9df8e\"},\"id\":\"4f73fd9c-bea1-44de-c4cc-373b19ec419c\"},\"id\":\"4f73fd9c-bea1-44de-c4cc-373b19ec419c\"},{\"type\":\"PreviewSaveTool\",\"attributes\":{\"tags\":[],\"doc\":null,\"plot\":{\"type\":\"Plot\",\"subtype\":\"Figure\",\"id\":\"c7434c4c-8ea4-4e68-ce64-0fd45bd9df8e\"},\"id\":\"7fc2bffe-1eff-41c8-c131-72eba7150383\"},\"id\":\"7fc2bffe-1eff-41c8-c131-72eba7150383\"},{\"type\":\"ResizeTool\",\"attributes\":{\"tags\":[],\"doc\":null,\"plot\":{\"type\":\"Plot\",\"subtype\":\"Figure\",\"id\":\"c7434c4c-8ea4-4e68-ce64-0fd45bd9df8e\"},\"id\":\"e2c48277-9a8b-4d87-cdc8-aefb85dbea87\"},\"id\":\"e2c48277-9a8b-4d87-cdc8-aefb85dbea87\"},{\"type\":\"ResetTool\",\"attributes\":{\"tags\":[],\"doc\":null,\"plot\":{\"type\":\"Plot\",\"subtype\":\"Figure\",\"id\":\"c7434c4c-8ea4-4e68-ce64-0fd45bd9df8e\"},\"id\":\"159b4945-c601-4178-c10e-57b9bc48303f\"},\"id\":\"159b4945-c601-4178-c10e-57b9bc48303f\"},{\"type\":\"Legend\",\"attributes\":{\"plot\":{\"type\":\"Plot\",\"subtype\":\"Figure\",\"id\":\"c7434c4c-8ea4-4e68-ce64-0fd45bd9df8e\"},\"id\":\"3f19bd24-8477-448b-c402-ba70e94aa2a1\",\"tags\":[],\"doc\":null,\"legends\":[[\"train error (%)\",[{\"type\":\"GlyphRenderer\",\"id\":\"0ddf3c2a-1ff3-4d8e-cdd2-873c62146687\"}]],[\"valid error (%)\",[{\"type\":\"GlyphRenderer\",\"id\":\"34dc40a4-887c-40e7-c0bc-2508d8e57c9c\"}]],[\"test error (%)\",[{\"type\":\"GlyphRenderer\",\"id\":\"a43bdfc5-7445-49b4-c99f-d91ce58cf82d\"}]]]},\"id\":\"3f19bd24-8477-448b-c402-ba70e94aa2a1\"},{\"type\":\"Plot\",\"attributes\":{\"right\":[],\"extra_y_ranges\":{},\"x_range\":{\"type\":\"DataRange1d\",\"id\":\"79c781d7-1b39-4213-c22e-b4a5c488d494\"},\"id\":\"c7434c4c-8ea4-4e68-ce64-0fd45bd9df8e\",\"doc\":null,\"title\":\"Error\",\"renderers\":[{\"type\":\"GlyphRenderer\",\"id\":\"0ddf3c2a-1ff3-4d8e-cdd2-873c62146687\"},{\"type\":\"GlyphRenderer\",\"id\":\"34dc40a4-887c-40e7-c0bc-2508d8e57c9c\"},{\"type\":\"GlyphRenderer\",\"id\":\"a43bdfc5-7445-49b4-c99f-d91ce58cf82d\"},{\"type\":\"LinearAxis\",\"id\":\"e6ea205d-d82a-40d5-c081-716b0e361c1b\"},{\"type\":\"Grid\",\"id\":\"ede583ac-bd29-426e-c2eb-e1b52de94921\"},{\"type\":\"LinearAxis\",\"id\":\"8b7f310f-02b5-4acd-caf3-2f7059104062\"},{\"type\":\"Grid\",\"id\":\"91d7c378-3578-460f-c608-8590c466fa59\"},{\"type\":\"Legend\",\"id\":\"3f19bd24-8477-448b-c402-ba70e94aa2a1\"}],\"tools\":[{\"type\":\"PanTool\",\"id\":\"77ded6eb-50b7-41ff-c17f-44324aa0b023\"},{\"type\":\"WheelZoomTool\",\"id\":\"1683e90b-fc80-46ab-c627-5fde3b17c9b2\"},{\"type\":\"BoxZoomTool\",\"id\":\"4f73fd9c-bea1-44de-c4cc-373b19ec419c\"},{\"type\":\"PreviewSaveTool\",\"id\":\"7fc2bffe-1eff-41c8-c131-72eba7150383\"},{\"type\":\"ResizeTool\",\"id\":\"e2c48277-9a8b-4d87-cdc8-aefb85dbea87\"},{\"type\":\"ResetTool\",\"id\":\"159b4945-c601-4178-c10e-57b9bc48303f\"}],\"left\":[{\"type\":\"LinearAxis\",\"id\":\"8b7f310f-02b5-4acd-caf3-2f7059104062\"}],\"above\":[],\"extra_x_ranges\":{},\"tags\":[],\"tool_events\":{\"type\":\"ToolEvents\",\"id\":\"e54ee3f5-a72a-48cf-c800-fe7ce3ba080d\"},\"y_range\":{\"type\":\"DataRange1d\",\"id\":\"4e724ce8-bade-49f8-c996-f61528504753\"},\"below\":[{\"type\":\"LinearAxis\",\"id\":\"e6ea205d-d82a-40d5-c081-716b0e361c1b\"}]},\"id\":\"c7434c4c-8ea4-4e68-ce64-0fd45bd9df8e\"}];\n",
        "      Bokeh.load_models(all_models);\n",
        "      var model = Bokeh.Collections(modeltype).get(modelid);\n",
        "      $(\"#86fa3011-da95-40cb-c0fd-154f44bef28e\").html(''); // clear any previous plot in window_id\n",
        "      var view = new model.default_view({model: model, el: \"#86fa3011-da95-40cb-c0fd-154f44bef28e\"});\n",
        "  });\n",
        "    }\n",
        "});\n",
        "</script>\n",
        "<div class=\"plotdiv\" id=\"86fa3011-da95-40cb-c0fd-154f44bef28e\"></div>\n"
       ],
       "metadata": {},
       "output_type": "display_data"
      }
     ],
     "prompt_number": 18
    },
    {
     "cell_type": "code",
     "collapsed": false,
     "input": [],
     "language": "python",
     "metadata": {},
     "outputs": []
    }
   ],
   "metadata": {}
  }
 ]
}